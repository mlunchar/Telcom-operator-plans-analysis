{
 "cells": [
  {
   "cell_type": "markdown",
   "metadata": {},
   "source": [
    "# Analysis of Megaline telcom operator's plans"
   ]
  },
  {
   "cell_type": "markdown",
   "metadata": {},
   "source": [
    "<b> Table of contents </b>\n",
    "\n",
    "1. [Introduction](#introduction)\n",
    "2. [General information](#general)\n",
    "    * [Conclusion](#conclusion1)\n",
    "3. [Data preprocessing](#preparation)\n",
    "    * [Missing values](#missing)\n",
    "    * [Converting types](#conversion)\n",
    "    * [Grouping the data](#grouping)\n",
    "    * [Calculations](#calculations)\n",
    "    * [Conclusion](#conclusion2)\n",
    "4. [Exploratory Data analysis](#analysis)\n",
    "    * [Univariate analysis](#univariate)\n",
    "    * [Bi-variate analysis](#bivariate)\n",
    "    * [Conclusion](#conclusion3)\n",
    "5. [Hypotheses testing](#testing)\n",
    "    * [Conclusion](#conclusion4)\n",
    "6. [Overall conclusion](#final-conclusion)"
   ]
  },
  {
   "cell_type": "markdown",
   "metadata": {},
   "source": [
    "<a id=\"introduction\"></a>\n",
    "## Introduction\n",
    "\n",
    "We're making an analysis for a telecom operator Megaline, our goal is to analyze users' behaviorfor two plans: Surf and Ultimate, and determine which prepaid plan brings in more revenue.\n",
    "\n",
    "<b>Project structure</b>\n",
    "\n",
    "1. General information. We'll open the data files and study general information in detail.\n",
    "2. Data Preprocessing. Dealing with missing and duplicate data, changing data types etc.\n",
    "3. Exploratory data analysis. Uni-variate and bi-variate analysis of the data.\n",
    "4. Statistical Data analysis. Testing the hypotheses.\n",
    "5. Overall conclusion."
   ]
  },
  {
   "cell_type": "markdown",
   "metadata": {},
   "source": [
    "<a id=\"general\"></a>\n",
    "## General information"
   ]
  },
  {
   "cell_type": "code",
   "execution_count": 1,
   "metadata": {},
   "outputs": [],
   "source": [
    "import pandas as pd\n",
    "import matplotlib.pyplot as plt\n",
    "import seaborn as sns\n",
    "import numpy as np\n",
    "from scipy import stats as st\n",
    "from functools import reduce\n",
    "import warnings\n",
    "warnings.simplefilter(action='ignore', category=FutureWarning)"
   ]
  },
  {
   "cell_type": "code",
   "execution_count": 2,
   "metadata": {},
   "outputs": [],
   "source": [
    "try:\n",
    "    calls_df = pd.read_csv('megaline_calls.csv')\n",
    "except:\n",
    "    print('Error while loading the file')"
   ]
  },
  {
   "cell_type": "code",
   "execution_count": 3,
   "metadata": {},
   "outputs": [],
   "source": [
    "try:\n",
    "    inet_df = pd.read_csv('megaline_internet.csv')\n",
    "except:\n",
    "    print('Error while loading the file')"
   ]
  },
  {
   "cell_type": "code",
   "execution_count": 4,
   "metadata": {},
   "outputs": [],
   "source": [
    "try:\n",
    "    messages_df = pd.read_csv('megaline_messages.csv')\n",
    "except:\n",
    "    print('Error while loading the file')"
   ]
  },
  {
   "cell_type": "code",
   "execution_count": 5,
   "metadata": {},
   "outputs": [],
   "source": [
    "try:\n",
    "    plans_df = pd.read_csv('megaline_plans.csv')\n",
    "except:\n",
    "    print('Error while loading the file')"
   ]
  },
  {
   "cell_type": "code",
   "execution_count": 6,
   "metadata": {},
   "outputs": [],
   "source": [
    "try:\n",
    "    users_df = pd.read_csv('megaline_users.csv')\n",
    "except:\n",
    "    print('Error while loading the file')"
   ]
  },
  {
   "cell_type": "markdown",
   "metadata": {},
   "source": [
    "<b> Calls info</b>"
   ]
  },
  {
   "cell_type": "code",
   "execution_count": 7,
   "metadata": {},
   "outputs": [
    {
     "name": "stdout",
     "output_type": "stream",
     "text": [
      "<class 'pandas.core.frame.DataFrame'>\n",
      "RangeIndex: 137735 entries, 0 to 137734\n",
      "Data columns (total 4 columns):\n",
      " #   Column     Non-Null Count   Dtype  \n",
      "---  ------     --------------   -----  \n",
      " 0   id         137735 non-null  object \n",
      " 1   user_id    137735 non-null  int64  \n",
      " 2   call_date  137735 non-null  object \n",
      " 3   duration   137735 non-null  float64\n",
      "dtypes: float64(1), int64(1), object(2)\n",
      "memory usage: 4.2+ MB\n"
     ]
    }
   ],
   "source": [
    "calls_df.info()"
   ]
  },
  {
   "cell_type": "code",
   "execution_count": 8,
   "metadata": {},
   "outputs": [
    {
     "data": {
      "text/html": [
       "<div>\n",
       "<style scoped>\n",
       "    .dataframe tbody tr th:only-of-type {\n",
       "        vertical-align: middle;\n",
       "    }\n",
       "\n",
       "    .dataframe tbody tr th {\n",
       "        vertical-align: top;\n",
       "    }\n",
       "\n",
       "    .dataframe thead th {\n",
       "        text-align: right;\n",
       "    }\n",
       "</style>\n",
       "<table border=\"1\" class=\"dataframe\">\n",
       "  <thead>\n",
       "    <tr style=\"text-align: right;\">\n",
       "      <th></th>\n",
       "      <th>id</th>\n",
       "      <th>user_id</th>\n",
       "      <th>call_date</th>\n",
       "      <th>duration</th>\n",
       "    </tr>\n",
       "  </thead>\n",
       "  <tbody>\n",
       "    <tr>\n",
       "      <th>0</th>\n",
       "      <td>1000_93</td>\n",
       "      <td>1000</td>\n",
       "      <td>2018-12-27</td>\n",
       "      <td>8.52</td>\n",
       "    </tr>\n",
       "    <tr>\n",
       "      <th>1</th>\n",
       "      <td>1000_145</td>\n",
       "      <td>1000</td>\n",
       "      <td>2018-12-27</td>\n",
       "      <td>13.66</td>\n",
       "    </tr>\n",
       "    <tr>\n",
       "      <th>2</th>\n",
       "      <td>1000_247</td>\n",
       "      <td>1000</td>\n",
       "      <td>2018-12-27</td>\n",
       "      <td>14.48</td>\n",
       "    </tr>\n",
       "    <tr>\n",
       "      <th>3</th>\n",
       "      <td>1000_309</td>\n",
       "      <td>1000</td>\n",
       "      <td>2018-12-28</td>\n",
       "      <td>5.76</td>\n",
       "    </tr>\n",
       "    <tr>\n",
       "      <th>4</th>\n",
       "      <td>1000_380</td>\n",
       "      <td>1000</td>\n",
       "      <td>2018-12-30</td>\n",
       "      <td>4.22</td>\n",
       "    </tr>\n",
       "    <tr>\n",
       "      <th>5</th>\n",
       "      <td>1000_388</td>\n",
       "      <td>1000</td>\n",
       "      <td>2018-12-31</td>\n",
       "      <td>2.20</td>\n",
       "    </tr>\n",
       "    <tr>\n",
       "      <th>6</th>\n",
       "      <td>1000_510</td>\n",
       "      <td>1000</td>\n",
       "      <td>2018-12-27</td>\n",
       "      <td>5.75</td>\n",
       "    </tr>\n",
       "    <tr>\n",
       "      <th>7</th>\n",
       "      <td>1000_521</td>\n",
       "      <td>1000</td>\n",
       "      <td>2018-12-28</td>\n",
       "      <td>14.18</td>\n",
       "    </tr>\n",
       "    <tr>\n",
       "      <th>8</th>\n",
       "      <td>1000_530</td>\n",
       "      <td>1000</td>\n",
       "      <td>2018-12-28</td>\n",
       "      <td>5.77</td>\n",
       "    </tr>\n",
       "    <tr>\n",
       "      <th>9</th>\n",
       "      <td>1000_544</td>\n",
       "      <td>1000</td>\n",
       "      <td>2018-12-26</td>\n",
       "      <td>4.40</td>\n",
       "    </tr>\n",
       "  </tbody>\n",
       "</table>\n",
       "</div>"
      ],
      "text/plain": [
       "         id  user_id   call_date  duration\n",
       "0   1000_93     1000  2018-12-27      8.52\n",
       "1  1000_145     1000  2018-12-27     13.66\n",
       "2  1000_247     1000  2018-12-27     14.48\n",
       "3  1000_309     1000  2018-12-28      5.76\n",
       "4  1000_380     1000  2018-12-30      4.22\n",
       "5  1000_388     1000  2018-12-31      2.20\n",
       "6  1000_510     1000  2018-12-27      5.75\n",
       "7  1000_521     1000  2018-12-28     14.18\n",
       "8  1000_530     1000  2018-12-28      5.77\n",
       "9  1000_544     1000  2018-12-26      4.40"
      ]
     },
     "execution_count": 8,
     "metadata": {},
     "output_type": "execute_result"
    }
   ],
   "source": [
    "calls_df.head(10)"
   ]
  },
  {
   "cell_type": "code",
   "execution_count": 9,
   "metadata": {},
   "outputs": [
    {
     "data": {
      "text/html": [
       "<div>\n",
       "<style scoped>\n",
       "    .dataframe tbody tr th:only-of-type {\n",
       "        vertical-align: middle;\n",
       "    }\n",
       "\n",
       "    .dataframe tbody tr th {\n",
       "        vertical-align: top;\n",
       "    }\n",
       "\n",
       "    .dataframe thead th {\n",
       "        text-align: right;\n",
       "    }\n",
       "</style>\n",
       "<table border=\"1\" class=\"dataframe\">\n",
       "  <thead>\n",
       "    <tr style=\"text-align: right;\">\n",
       "      <th></th>\n",
       "      <th>user_id</th>\n",
       "      <th>duration</th>\n",
       "    </tr>\n",
       "  </thead>\n",
       "  <tbody>\n",
       "    <tr>\n",
       "      <th>count</th>\n",
       "      <td>137735.000000</td>\n",
       "      <td>137735.000000</td>\n",
       "    </tr>\n",
       "    <tr>\n",
       "      <th>mean</th>\n",
       "      <td>1247.658046</td>\n",
       "      <td>6.745927</td>\n",
       "    </tr>\n",
       "    <tr>\n",
       "      <th>std</th>\n",
       "      <td>139.416268</td>\n",
       "      <td>5.839241</td>\n",
       "    </tr>\n",
       "    <tr>\n",
       "      <th>min</th>\n",
       "      <td>1000.000000</td>\n",
       "      <td>0.000000</td>\n",
       "    </tr>\n",
       "    <tr>\n",
       "      <th>25%</th>\n",
       "      <td>1128.000000</td>\n",
       "      <td>1.290000</td>\n",
       "    </tr>\n",
       "    <tr>\n",
       "      <th>50%</th>\n",
       "      <td>1247.000000</td>\n",
       "      <td>5.980000</td>\n",
       "    </tr>\n",
       "    <tr>\n",
       "      <th>75%</th>\n",
       "      <td>1365.000000</td>\n",
       "      <td>10.690000</td>\n",
       "    </tr>\n",
       "    <tr>\n",
       "      <th>max</th>\n",
       "      <td>1499.000000</td>\n",
       "      <td>37.600000</td>\n",
       "    </tr>\n",
       "  </tbody>\n",
       "</table>\n",
       "</div>"
      ],
      "text/plain": [
       "             user_id       duration\n",
       "count  137735.000000  137735.000000\n",
       "mean     1247.658046       6.745927\n",
       "std       139.416268       5.839241\n",
       "min      1000.000000       0.000000\n",
       "25%      1128.000000       1.290000\n",
       "50%      1247.000000       5.980000\n",
       "75%      1365.000000      10.690000\n",
       "max      1499.000000      37.600000"
      ]
     },
     "execution_count": 9,
     "metadata": {},
     "output_type": "execute_result"
    }
   ],
   "source": [
    "calls_df.describe()"
   ]
  },
  {
   "cell_type": "code",
   "execution_count": 10,
   "metadata": {},
   "outputs": [
    {
     "data": {
      "text/plain": [
       "481"
      ]
     },
     "execution_count": 10,
     "metadata": {},
     "output_type": "execute_result"
    }
   ],
   "source": [
    "calls_df['user_id'].value_counts().count()"
   ]
  },
  {
   "cell_type": "code",
   "execution_count": 11,
   "metadata": {},
   "outputs": [
    {
     "data": {
      "text/plain": [
       "0"
      ]
     },
     "execution_count": 11,
     "metadata": {},
     "output_type": "execute_result"
    }
   ],
   "source": [
    "calls_df['id'].duplicated().sum()"
   ]
  },
  {
   "cell_type": "markdown",
   "metadata": {},
   "source": [
    "In the dataframe containing information on calls we don't see missing data, but there are several issues to fix:\n",
    " - `user_id` is int64 and can be changed to int16, also has the same value for first 10 raws. It probably means that the data is already grouped by `user_id`. For now it seems we have 481 unique user ids.\n",
    " - `call_date` is a date but in object type. Has to be converted to `dateTime` object to use it later.\n",
    " - `duration` is in float, and as we know in Megaline all durations of calls are rounded up, so we'll have to do that later. We also have 0 values which can be a missing value or perhaps an unanswered call."
   ]
  },
  {
   "cell_type": "markdown",
   "metadata": {},
   "source": [
    "<b> Internet traffic </b>"
   ]
  },
  {
   "cell_type": "code",
   "execution_count": 12,
   "metadata": {},
   "outputs": [
    {
     "name": "stdout",
     "output_type": "stream",
     "text": [
      "<class 'pandas.core.frame.DataFrame'>\n",
      "RangeIndex: 104825 entries, 0 to 104824\n",
      "Data columns (total 4 columns):\n",
      " #   Column        Non-Null Count   Dtype  \n",
      "---  ------        --------------   -----  \n",
      " 0   id            104825 non-null  object \n",
      " 1   user_id       104825 non-null  int64  \n",
      " 2   session_date  104825 non-null  object \n",
      " 3   mb_used       104825 non-null  float64\n",
      "dtypes: float64(1), int64(1), object(2)\n",
      "memory usage: 3.2+ MB\n"
     ]
    }
   ],
   "source": [
    "inet_df.info()"
   ]
  },
  {
   "cell_type": "code",
   "execution_count": 13,
   "metadata": {},
   "outputs": [
    {
     "data": {
      "text/html": [
       "<div>\n",
       "<style scoped>\n",
       "    .dataframe tbody tr th:only-of-type {\n",
       "        vertical-align: middle;\n",
       "    }\n",
       "\n",
       "    .dataframe tbody tr th {\n",
       "        vertical-align: top;\n",
       "    }\n",
       "\n",
       "    .dataframe thead th {\n",
       "        text-align: right;\n",
       "    }\n",
       "</style>\n",
       "<table border=\"1\" class=\"dataframe\">\n",
       "  <thead>\n",
       "    <tr style=\"text-align: right;\">\n",
       "      <th></th>\n",
       "      <th>id</th>\n",
       "      <th>user_id</th>\n",
       "      <th>session_date</th>\n",
       "      <th>mb_used</th>\n",
       "    </tr>\n",
       "  </thead>\n",
       "  <tbody>\n",
       "    <tr>\n",
       "      <th>0</th>\n",
       "      <td>1000_13</td>\n",
       "      <td>1000</td>\n",
       "      <td>2018-12-29</td>\n",
       "      <td>89.86</td>\n",
       "    </tr>\n",
       "    <tr>\n",
       "      <th>1</th>\n",
       "      <td>1000_204</td>\n",
       "      <td>1000</td>\n",
       "      <td>2018-12-31</td>\n",
       "      <td>0.00</td>\n",
       "    </tr>\n",
       "    <tr>\n",
       "      <th>2</th>\n",
       "      <td>1000_379</td>\n",
       "      <td>1000</td>\n",
       "      <td>2018-12-28</td>\n",
       "      <td>660.40</td>\n",
       "    </tr>\n",
       "    <tr>\n",
       "      <th>3</th>\n",
       "      <td>1000_413</td>\n",
       "      <td>1000</td>\n",
       "      <td>2018-12-26</td>\n",
       "      <td>270.99</td>\n",
       "    </tr>\n",
       "    <tr>\n",
       "      <th>4</th>\n",
       "      <td>1000_442</td>\n",
       "      <td>1000</td>\n",
       "      <td>2018-12-27</td>\n",
       "      <td>880.22</td>\n",
       "    </tr>\n",
       "    <tr>\n",
       "      <th>5</th>\n",
       "      <td>1001_0</td>\n",
       "      <td>1001</td>\n",
       "      <td>2018-08-24</td>\n",
       "      <td>284.68</td>\n",
       "    </tr>\n",
       "    <tr>\n",
       "      <th>6</th>\n",
       "      <td>1001_3</td>\n",
       "      <td>1001</td>\n",
       "      <td>2018-12-09</td>\n",
       "      <td>656.04</td>\n",
       "    </tr>\n",
       "    <tr>\n",
       "      <th>7</th>\n",
       "      <td>1001_4</td>\n",
       "      <td>1001</td>\n",
       "      <td>2018-11-04</td>\n",
       "      <td>16.97</td>\n",
       "    </tr>\n",
       "    <tr>\n",
       "      <th>8</th>\n",
       "      <td>1001_10</td>\n",
       "      <td>1001</td>\n",
       "      <td>2018-11-27</td>\n",
       "      <td>135.18</td>\n",
       "    </tr>\n",
       "    <tr>\n",
       "      <th>9</th>\n",
       "      <td>1001_15</td>\n",
       "      <td>1001</td>\n",
       "      <td>2018-12-13</td>\n",
       "      <td>761.92</td>\n",
       "    </tr>\n",
       "  </tbody>\n",
       "</table>\n",
       "</div>"
      ],
      "text/plain": [
       "         id  user_id session_date  mb_used\n",
       "0   1000_13     1000   2018-12-29    89.86\n",
       "1  1000_204     1000   2018-12-31     0.00\n",
       "2  1000_379     1000   2018-12-28   660.40\n",
       "3  1000_413     1000   2018-12-26   270.99\n",
       "4  1000_442     1000   2018-12-27   880.22\n",
       "5    1001_0     1001   2018-08-24   284.68\n",
       "6    1001_3     1001   2018-12-09   656.04\n",
       "7    1001_4     1001   2018-11-04    16.97\n",
       "8   1001_10     1001   2018-11-27   135.18\n",
       "9   1001_15     1001   2018-12-13   761.92"
      ]
     },
     "execution_count": 13,
     "metadata": {},
     "output_type": "execute_result"
    }
   ],
   "source": [
    "inet_df.head(10)"
   ]
  },
  {
   "cell_type": "code",
   "execution_count": 14,
   "metadata": {},
   "outputs": [
    {
     "data": {
      "text/html": [
       "<div>\n",
       "<style scoped>\n",
       "    .dataframe tbody tr th:only-of-type {\n",
       "        vertical-align: middle;\n",
       "    }\n",
       "\n",
       "    .dataframe tbody tr th {\n",
       "        vertical-align: top;\n",
       "    }\n",
       "\n",
       "    .dataframe thead th {\n",
       "        text-align: right;\n",
       "    }\n",
       "</style>\n",
       "<table border=\"1\" class=\"dataframe\">\n",
       "  <thead>\n",
       "    <tr style=\"text-align: right;\">\n",
       "      <th></th>\n",
       "      <th>user_id</th>\n",
       "      <th>mb_used</th>\n",
       "    </tr>\n",
       "  </thead>\n",
       "  <tbody>\n",
       "    <tr>\n",
       "      <th>count</th>\n",
       "      <td>104825.000000</td>\n",
       "      <td>104825.000000</td>\n",
       "    </tr>\n",
       "    <tr>\n",
       "      <th>mean</th>\n",
       "      <td>1242.496361</td>\n",
       "      <td>366.713701</td>\n",
       "    </tr>\n",
       "    <tr>\n",
       "      <th>std</th>\n",
       "      <td>142.053913</td>\n",
       "      <td>277.170542</td>\n",
       "    </tr>\n",
       "    <tr>\n",
       "      <th>min</th>\n",
       "      <td>1000.000000</td>\n",
       "      <td>0.000000</td>\n",
       "    </tr>\n",
       "    <tr>\n",
       "      <th>25%</th>\n",
       "      <td>1122.000000</td>\n",
       "      <td>136.080000</td>\n",
       "    </tr>\n",
       "    <tr>\n",
       "      <th>50%</th>\n",
       "      <td>1236.000000</td>\n",
       "      <td>343.980000</td>\n",
       "    </tr>\n",
       "    <tr>\n",
       "      <th>75%</th>\n",
       "      <td>1367.000000</td>\n",
       "      <td>554.610000</td>\n",
       "    </tr>\n",
       "    <tr>\n",
       "      <th>max</th>\n",
       "      <td>1499.000000</td>\n",
       "      <td>1693.470000</td>\n",
       "    </tr>\n",
       "  </tbody>\n",
       "</table>\n",
       "</div>"
      ],
      "text/plain": [
       "             user_id        mb_used\n",
       "count  104825.000000  104825.000000\n",
       "mean     1242.496361     366.713701\n",
       "std       142.053913     277.170542\n",
       "min      1000.000000       0.000000\n",
       "25%      1122.000000     136.080000\n",
       "50%      1236.000000     343.980000\n",
       "75%      1367.000000     554.610000\n",
       "max      1499.000000    1693.470000"
      ]
     },
     "execution_count": 14,
     "metadata": {},
     "output_type": "execute_result"
    }
   ],
   "source": [
    "inet_df.describe()"
   ]
  },
  {
   "cell_type": "code",
   "execution_count": 15,
   "metadata": {},
   "outputs": [
    {
     "data": {
      "text/plain": [
       "489"
      ]
     },
     "execution_count": 15,
     "metadata": {},
     "output_type": "execute_result"
    }
   ],
   "source": [
    "inet_df['user_id'].value_counts().count()"
   ]
  },
  {
   "cell_type": "markdown",
   "metadata": {},
   "source": [
    " - `user_id` is int64 and can be changed to int16. From this example looks like the data is grouped by `user_id`. We have 489 unique ids.\n",
    " - `session_date` is a date, but in object type. Can be converted to `dateTime` object to use it later.\n",
    " - `mb_used` is in float, and has to be rounded up too, as we know that Megaline rounds up Mb to Gb per month, so we plan to group by user and month and then round the sum. Also we have 0 value which can be missing data and has to be checked."
   ]
  },
  {
   "cell_type": "markdown",
   "metadata": {},
   "source": [
    "<b> Messages info </b>"
   ]
  },
  {
   "cell_type": "code",
   "execution_count": 16,
   "metadata": {},
   "outputs": [
    {
     "name": "stdout",
     "output_type": "stream",
     "text": [
      "<class 'pandas.core.frame.DataFrame'>\n",
      "RangeIndex: 76051 entries, 0 to 76050\n",
      "Data columns (total 3 columns):\n",
      " #   Column        Non-Null Count  Dtype \n",
      "---  ------        --------------  ----- \n",
      " 0   id            76051 non-null  object\n",
      " 1   user_id       76051 non-null  int64 \n",
      " 2   message_date  76051 non-null  object\n",
      "dtypes: int64(1), object(2)\n",
      "memory usage: 1.7+ MB\n"
     ]
    }
   ],
   "source": [
    "messages_df.info()"
   ]
  },
  {
   "cell_type": "code",
   "execution_count": 17,
   "metadata": {},
   "outputs": [
    {
     "data": {
      "text/html": [
       "<div>\n",
       "<style scoped>\n",
       "    .dataframe tbody tr th:only-of-type {\n",
       "        vertical-align: middle;\n",
       "    }\n",
       "\n",
       "    .dataframe tbody tr th {\n",
       "        vertical-align: top;\n",
       "    }\n",
       "\n",
       "    .dataframe thead th {\n",
       "        text-align: right;\n",
       "    }\n",
       "</style>\n",
       "<table border=\"1\" class=\"dataframe\">\n",
       "  <thead>\n",
       "    <tr style=\"text-align: right;\">\n",
       "      <th></th>\n",
       "      <th>id</th>\n",
       "      <th>user_id</th>\n",
       "      <th>message_date</th>\n",
       "    </tr>\n",
       "  </thead>\n",
       "  <tbody>\n",
       "    <tr>\n",
       "      <th>0</th>\n",
       "      <td>1000_125</td>\n",
       "      <td>1000</td>\n",
       "      <td>2018-12-27</td>\n",
       "    </tr>\n",
       "    <tr>\n",
       "      <th>1</th>\n",
       "      <td>1000_160</td>\n",
       "      <td>1000</td>\n",
       "      <td>2018-12-31</td>\n",
       "    </tr>\n",
       "    <tr>\n",
       "      <th>2</th>\n",
       "      <td>1000_223</td>\n",
       "      <td>1000</td>\n",
       "      <td>2018-12-31</td>\n",
       "    </tr>\n",
       "    <tr>\n",
       "      <th>3</th>\n",
       "      <td>1000_251</td>\n",
       "      <td>1000</td>\n",
       "      <td>2018-12-27</td>\n",
       "    </tr>\n",
       "    <tr>\n",
       "      <th>4</th>\n",
       "      <td>1000_255</td>\n",
       "      <td>1000</td>\n",
       "      <td>2018-12-26</td>\n",
       "    </tr>\n",
       "    <tr>\n",
       "      <th>5</th>\n",
       "      <td>1000_346</td>\n",
       "      <td>1000</td>\n",
       "      <td>2018-12-29</td>\n",
       "    </tr>\n",
       "    <tr>\n",
       "      <th>6</th>\n",
       "      <td>1000_386</td>\n",
       "      <td>1000</td>\n",
       "      <td>2018-12-30</td>\n",
       "    </tr>\n",
       "    <tr>\n",
       "      <th>7</th>\n",
       "      <td>1000_413</td>\n",
       "      <td>1000</td>\n",
       "      <td>2018-12-31</td>\n",
       "    </tr>\n",
       "    <tr>\n",
       "      <th>8</th>\n",
       "      <td>1000_502</td>\n",
       "      <td>1000</td>\n",
       "      <td>2018-12-27</td>\n",
       "    </tr>\n",
       "    <tr>\n",
       "      <th>9</th>\n",
       "      <td>1000_525</td>\n",
       "      <td>1000</td>\n",
       "      <td>2018-12-28</td>\n",
       "    </tr>\n",
       "  </tbody>\n",
       "</table>\n",
       "</div>"
      ],
      "text/plain": [
       "         id  user_id message_date\n",
       "0  1000_125     1000   2018-12-27\n",
       "1  1000_160     1000   2018-12-31\n",
       "2  1000_223     1000   2018-12-31\n",
       "3  1000_251     1000   2018-12-27\n",
       "4  1000_255     1000   2018-12-26\n",
       "5  1000_346     1000   2018-12-29\n",
       "6  1000_386     1000   2018-12-30\n",
       "7  1000_413     1000   2018-12-31\n",
       "8  1000_502     1000   2018-12-27\n",
       "9  1000_525     1000   2018-12-28"
      ]
     },
     "execution_count": 17,
     "metadata": {},
     "output_type": "execute_result"
    }
   ],
   "source": [
    "messages_df.head(10)"
   ]
  },
  {
   "cell_type": "code",
   "execution_count": 18,
   "metadata": {},
   "outputs": [
    {
     "data": {
      "text/plain": [
       "402"
      ]
     },
     "execution_count": 18,
     "metadata": {},
     "output_type": "execute_result"
    }
   ],
   "source": [
    "messages_df['user_id'].value_counts().count()"
   ]
  },
  {
   "cell_type": "markdown",
   "metadata": {},
   "source": [
    " We don't see missing values here too.\n",
    " - `user_id` same as in previous dataframes, although here we have 402 unique ids.\n",
    " - `call_date` is a date but in object type. Can be converted to `dateTime` object."
   ]
  },
  {
   "cell_type": "markdown",
   "metadata": {},
   "source": [
    "<b> Megaline plans</b>"
   ]
  },
  {
   "cell_type": "code",
   "execution_count": 19,
   "metadata": {},
   "outputs": [
    {
     "name": "stdout",
     "output_type": "stream",
     "text": [
      "<class 'pandas.core.frame.DataFrame'>\n",
      "RangeIndex: 2 entries, 0 to 1\n",
      "Data columns (total 8 columns):\n",
      " #   Column                 Non-Null Count  Dtype  \n",
      "---  ------                 --------------  -----  \n",
      " 0   messages_included      2 non-null      int64  \n",
      " 1   mb_per_month_included  2 non-null      int64  \n",
      " 2   minutes_included       2 non-null      int64  \n",
      " 3   usd_monthly_pay        2 non-null      int64  \n",
      " 4   usd_per_gb             2 non-null      int64  \n",
      " 5   usd_per_message        2 non-null      float64\n",
      " 6   usd_per_minute         2 non-null      float64\n",
      " 7   plan_name              2 non-null      object \n",
      "dtypes: float64(2), int64(5), object(1)\n",
      "memory usage: 256.0+ bytes\n"
     ]
    }
   ],
   "source": [
    "plans_df.info()"
   ]
  },
  {
   "cell_type": "code",
   "execution_count": 20,
   "metadata": {},
   "outputs": [
    {
     "data": {
      "text/html": [
       "<div>\n",
       "<style scoped>\n",
       "    .dataframe tbody tr th:only-of-type {\n",
       "        vertical-align: middle;\n",
       "    }\n",
       "\n",
       "    .dataframe tbody tr th {\n",
       "        vertical-align: top;\n",
       "    }\n",
       "\n",
       "    .dataframe thead th {\n",
       "        text-align: right;\n",
       "    }\n",
       "</style>\n",
       "<table border=\"1\" class=\"dataframe\">\n",
       "  <thead>\n",
       "    <tr style=\"text-align: right;\">\n",
       "      <th></th>\n",
       "      <th>0</th>\n",
       "      <th>1</th>\n",
       "    </tr>\n",
       "  </thead>\n",
       "  <tbody>\n",
       "    <tr>\n",
       "      <th>messages_included</th>\n",
       "      <td>50</td>\n",
       "      <td>1000</td>\n",
       "    </tr>\n",
       "    <tr>\n",
       "      <th>mb_per_month_included</th>\n",
       "      <td>15360</td>\n",
       "      <td>30720</td>\n",
       "    </tr>\n",
       "    <tr>\n",
       "      <th>minutes_included</th>\n",
       "      <td>500</td>\n",
       "      <td>3000</td>\n",
       "    </tr>\n",
       "    <tr>\n",
       "      <th>usd_monthly_pay</th>\n",
       "      <td>20</td>\n",
       "      <td>70</td>\n",
       "    </tr>\n",
       "    <tr>\n",
       "      <th>usd_per_gb</th>\n",
       "      <td>10</td>\n",
       "      <td>7</td>\n",
       "    </tr>\n",
       "    <tr>\n",
       "      <th>usd_per_message</th>\n",
       "      <td>0.03</td>\n",
       "      <td>0.01</td>\n",
       "    </tr>\n",
       "    <tr>\n",
       "      <th>usd_per_minute</th>\n",
       "      <td>0.03</td>\n",
       "      <td>0.01</td>\n",
       "    </tr>\n",
       "    <tr>\n",
       "      <th>plan_name</th>\n",
       "      <td>surf</td>\n",
       "      <td>ultimate</td>\n",
       "    </tr>\n",
       "  </tbody>\n",
       "</table>\n",
       "</div>"
      ],
      "text/plain": [
       "                           0         1\n",
       "messages_included         50      1000\n",
       "mb_per_month_included  15360     30720\n",
       "minutes_included         500      3000\n",
       "usd_monthly_pay           20        70\n",
       "usd_per_gb                10         7\n",
       "usd_per_message         0.03      0.01\n",
       "usd_per_minute          0.03      0.01\n",
       "plan_name               surf  ultimate"
      ]
     },
     "execution_count": 20,
     "metadata": {},
     "output_type": "execute_result"
    }
   ],
   "source": [
    "plans_df.T"
   ]
  },
  {
   "cell_type": "markdown",
   "metadata": {},
   "source": [
    "This is general information on Megaline plans: <b>surf</b>, <b>ultimate</b>. We have information on pricing, and services included in those plans. No data is missing."
   ]
  },
  {
   "cell_type": "markdown",
   "metadata": {},
   "source": [
    "<b>Users' info </b>"
   ]
  },
  {
   "cell_type": "code",
   "execution_count": 21,
   "metadata": {},
   "outputs": [
    {
     "name": "stdout",
     "output_type": "stream",
     "text": [
      "<class 'pandas.core.frame.DataFrame'>\n",
      "RangeIndex: 500 entries, 0 to 499\n",
      "Data columns (total 8 columns):\n",
      " #   Column      Non-Null Count  Dtype \n",
      "---  ------      --------------  ----- \n",
      " 0   user_id     500 non-null    int64 \n",
      " 1   first_name  500 non-null    object\n",
      " 2   last_name   500 non-null    object\n",
      " 3   age         500 non-null    int64 \n",
      " 4   city        500 non-null    object\n",
      " 5   reg_date    500 non-null    object\n",
      " 6   plan        500 non-null    object\n",
      " 7   churn_date  34 non-null     object\n",
      "dtypes: int64(2), object(6)\n",
      "memory usage: 31.4+ KB\n"
     ]
    }
   ],
   "source": [
    "users_df.info()"
   ]
  },
  {
   "cell_type": "code",
   "execution_count": 22,
   "metadata": {},
   "outputs": [
    {
     "data": {
      "text/html": [
       "<div>\n",
       "<style scoped>\n",
       "    .dataframe tbody tr th:only-of-type {\n",
       "        vertical-align: middle;\n",
       "    }\n",
       "\n",
       "    .dataframe tbody tr th {\n",
       "        vertical-align: top;\n",
       "    }\n",
       "\n",
       "    .dataframe thead th {\n",
       "        text-align: right;\n",
       "    }\n",
       "</style>\n",
       "<table border=\"1\" class=\"dataframe\">\n",
       "  <thead>\n",
       "    <tr style=\"text-align: right;\">\n",
       "      <th></th>\n",
       "      <th>user_id</th>\n",
       "      <th>first_name</th>\n",
       "      <th>last_name</th>\n",
       "      <th>age</th>\n",
       "      <th>city</th>\n",
       "      <th>reg_date</th>\n",
       "      <th>plan</th>\n",
       "      <th>churn_date</th>\n",
       "    </tr>\n",
       "  </thead>\n",
       "  <tbody>\n",
       "    <tr>\n",
       "      <th>0</th>\n",
       "      <td>1000</td>\n",
       "      <td>Anamaria</td>\n",
       "      <td>Bauer</td>\n",
       "      <td>45</td>\n",
       "      <td>Atlanta-Sandy Springs-Roswell, GA MSA</td>\n",
       "      <td>2018-12-24</td>\n",
       "      <td>ultimate</td>\n",
       "      <td>NaN</td>\n",
       "    </tr>\n",
       "    <tr>\n",
       "      <th>1</th>\n",
       "      <td>1001</td>\n",
       "      <td>Mickey</td>\n",
       "      <td>Wilkerson</td>\n",
       "      <td>28</td>\n",
       "      <td>Seattle-Tacoma-Bellevue, WA MSA</td>\n",
       "      <td>2018-08-13</td>\n",
       "      <td>surf</td>\n",
       "      <td>NaN</td>\n",
       "    </tr>\n",
       "    <tr>\n",
       "      <th>2</th>\n",
       "      <td>1002</td>\n",
       "      <td>Carlee</td>\n",
       "      <td>Hoffman</td>\n",
       "      <td>36</td>\n",
       "      <td>Las Vegas-Henderson-Paradise, NV MSA</td>\n",
       "      <td>2018-10-21</td>\n",
       "      <td>surf</td>\n",
       "      <td>NaN</td>\n",
       "    </tr>\n",
       "    <tr>\n",
       "      <th>3</th>\n",
       "      <td>1003</td>\n",
       "      <td>Reynaldo</td>\n",
       "      <td>Jenkins</td>\n",
       "      <td>52</td>\n",
       "      <td>Tulsa, OK MSA</td>\n",
       "      <td>2018-01-28</td>\n",
       "      <td>surf</td>\n",
       "      <td>NaN</td>\n",
       "    </tr>\n",
       "    <tr>\n",
       "      <th>4</th>\n",
       "      <td>1004</td>\n",
       "      <td>Leonila</td>\n",
       "      <td>Thompson</td>\n",
       "      <td>40</td>\n",
       "      <td>Seattle-Tacoma-Bellevue, WA MSA</td>\n",
       "      <td>2018-05-23</td>\n",
       "      <td>surf</td>\n",
       "      <td>NaN</td>\n",
       "    </tr>\n",
       "    <tr>\n",
       "      <th>5</th>\n",
       "      <td>1005</td>\n",
       "      <td>Livia</td>\n",
       "      <td>Shields</td>\n",
       "      <td>31</td>\n",
       "      <td>Dallas-Fort Worth-Arlington, TX MSA</td>\n",
       "      <td>2018-11-29</td>\n",
       "      <td>surf</td>\n",
       "      <td>NaN</td>\n",
       "    </tr>\n",
       "    <tr>\n",
       "      <th>6</th>\n",
       "      <td>1006</td>\n",
       "      <td>Jesusa</td>\n",
       "      <td>Bradford</td>\n",
       "      <td>73</td>\n",
       "      <td>San Francisco-Oakland-Berkeley, CA MSA</td>\n",
       "      <td>2018-11-27</td>\n",
       "      <td>ultimate</td>\n",
       "      <td>2018-12-18</td>\n",
       "    </tr>\n",
       "    <tr>\n",
       "      <th>7</th>\n",
       "      <td>1007</td>\n",
       "      <td>Eusebio</td>\n",
       "      <td>Welch</td>\n",
       "      <td>42</td>\n",
       "      <td>Grand Rapids-Kentwood, MI MSA</td>\n",
       "      <td>2018-07-11</td>\n",
       "      <td>surf</td>\n",
       "      <td>NaN</td>\n",
       "    </tr>\n",
       "    <tr>\n",
       "      <th>8</th>\n",
       "      <td>1008</td>\n",
       "      <td>Emely</td>\n",
       "      <td>Hoffman</td>\n",
       "      <td>53</td>\n",
       "      <td>Orlando-Kissimmee-Sanford, FL MSA</td>\n",
       "      <td>2018-08-03</td>\n",
       "      <td>ultimate</td>\n",
       "      <td>NaN</td>\n",
       "    </tr>\n",
       "    <tr>\n",
       "      <th>9</th>\n",
       "      <td>1009</td>\n",
       "      <td>Gerry</td>\n",
       "      <td>Little</td>\n",
       "      <td>19</td>\n",
       "      <td>San Jose-Sunnyvale-Santa Clara, CA MSA</td>\n",
       "      <td>2018-04-22</td>\n",
       "      <td>surf</td>\n",
       "      <td>NaN</td>\n",
       "    </tr>\n",
       "  </tbody>\n",
       "</table>\n",
       "</div>"
      ],
      "text/plain": [
       "   user_id first_name  last_name  age                                    city  \\\n",
       "0     1000   Anamaria      Bauer   45   Atlanta-Sandy Springs-Roswell, GA MSA   \n",
       "1     1001     Mickey  Wilkerson   28         Seattle-Tacoma-Bellevue, WA MSA   \n",
       "2     1002     Carlee    Hoffman   36    Las Vegas-Henderson-Paradise, NV MSA   \n",
       "3     1003   Reynaldo    Jenkins   52                           Tulsa, OK MSA   \n",
       "4     1004    Leonila   Thompson   40         Seattle-Tacoma-Bellevue, WA MSA   \n",
       "5     1005      Livia    Shields   31     Dallas-Fort Worth-Arlington, TX MSA   \n",
       "6     1006     Jesusa   Bradford   73  San Francisco-Oakland-Berkeley, CA MSA   \n",
       "7     1007    Eusebio      Welch   42           Grand Rapids-Kentwood, MI MSA   \n",
       "8     1008      Emely    Hoffman   53       Orlando-Kissimmee-Sanford, FL MSA   \n",
       "9     1009      Gerry     Little   19  San Jose-Sunnyvale-Santa Clara, CA MSA   \n",
       "\n",
       "     reg_date      plan  churn_date  \n",
       "0  2018-12-24  ultimate         NaN  \n",
       "1  2018-08-13      surf         NaN  \n",
       "2  2018-10-21      surf         NaN  \n",
       "3  2018-01-28      surf         NaN  \n",
       "4  2018-05-23      surf         NaN  \n",
       "5  2018-11-29      surf         NaN  \n",
       "6  2018-11-27  ultimate  2018-12-18  \n",
       "7  2018-07-11      surf         NaN  \n",
       "8  2018-08-03  ultimate         NaN  \n",
       "9  2018-04-22      surf         NaN  "
      ]
     },
     "execution_count": 22,
     "metadata": {},
     "output_type": "execute_result"
    }
   ],
   "source": [
    "users_df.head(10)"
   ]
  },
  {
   "cell_type": "code",
   "execution_count": 23,
   "metadata": {},
   "outputs": [
    {
     "data": {
      "text/plain": [
       "0"
      ]
     },
     "execution_count": 23,
     "metadata": {},
     "output_type": "execute_result"
    }
   ],
   "source": [
    "users_df['user_id'].duplicated().sum()"
   ]
  },
  {
   "cell_type": "markdown",
   "metadata": {},
   "source": [
    "We have some general information about our users: their name, age, address, plan and the date user stopped using the plan. We see several issues to deal with:\n",
    "- for `user_id` column we've checked that all values are unique.\n",
    "- `age` can be grouped in age groups if we need this variable later for statistics. Either way it can be changed to `int16` for better memory performance.\n",
    "- `city` is overloaded with information and will be hard to process further. We can group it by areas.\n",
    "- `churn_date` has only 34 values out of 500. We know that all the missing values mean that when the database was created those users were still using their plans. Overall the evaluation of statistics for users who still use the plan and those who stopped using shouldn't be different as even though those 34 users stopped using their plans they still payed for the services, and that is what we are interested in."
   ]
  },
  {
   "cell_type": "markdown",
   "metadata": {},
   "source": [
    "<a id=\"conclusion1\"></a>\n",
    "### Conclusion"
   ]
  },
  {
   "cell_type": "markdown",
   "metadata": {},
   "source": [
    "After studying the dataset we can come to several conclusions regarding the future work that has to be done for the analysis:\n",
    " - our starting point is 5 separate databases, 4 of which have information on various services usage by user id, and one containing information on plans we're analyzing.\n",
    " - `user_id` has maximum of 500 unique values in `users_df` and minimum of 402 unique values in `messages_df`. That tells us that there's a possibility that our united database will have more missing values as not all the users seem to use all the services they get. The best strategy will be to build our main database merging at first all services data and then user info by outer merging to keep all users, and then fill the missing data by 0 as it is also part of our statistics.\n",
    " - dates in all databases can be turned to `dateTime` objects, or alternatively we can create a new column for month.\n",
    " - `duration` of calls have to be rounded up to minutes.\n",
    " - `mb_used` needs to be rounded up to Gb after grouping by month and user.\n",
    " - we will also have to count number of messages sent by user per month while grouping.\n",
    " - the `plans_df` dataframe will be used to derive totals of payments per month per user.\n",
    " - `age` looks ok.\n",
    " - `city` is in need of little investigation on whether we'll need filtering to get all NY-NJ users separately.\n",
    " - `churn_date` has a lot of missing values and only 34 present, which means that those users stopped using the plans. Still they are fit for research as they probably were charged the minimum monthly payment.\n",
    " \n",
    "Overall it seems there's a lot of grouping to be done and taking into account the needs of the analysis, it will be better to create a target database from several grouped dfs."
   ]
  },
  {
   "cell_type": "markdown",
   "metadata": {},
   "source": [
    "<a id=\"preparation\"></a>\n",
    "## Data preprocessing"
   ]
  },
  {
   "cell_type": "markdown",
   "metadata": {},
   "source": [
    "<a id=\"missing\"></a>\n",
    "### Missing values"
   ]
  },
  {
   "cell_type": "markdown",
   "metadata": {},
   "source": [
    "1. First of all, we saw 0 values in `duration` column in calls_df. It can be unanswered call or it can be a missing value, or a value rounded down. Let's see how many 0 values we have."
   ]
  },
  {
   "cell_type": "code",
   "execution_count": 24,
   "metadata": {},
   "outputs": [
    {
     "data": {
      "text/plain": [
       "0.1948233927469416"
      ]
     },
     "execution_count": 24,
     "metadata": {},
     "output_type": "execute_result"
    }
   ],
   "source": [
    "len(calls_df[calls_df['duration'] == 0]) / len(calls_df)"
   ]
  },
  {
   "cell_type": "markdown",
   "metadata": {},
   "source": [
    "19% isn't a small piece of data. Let's take a look at the rows. Then we'll check whether the data is missing for only some of the users."
   ]
  },
  {
   "cell_type": "code",
   "execution_count": 25,
   "metadata": {},
   "outputs": [
    {
     "data": {
      "text/html": [
       "<div>\n",
       "<style scoped>\n",
       "    .dataframe tbody tr th:only-of-type {\n",
       "        vertical-align: middle;\n",
       "    }\n",
       "\n",
       "    .dataframe tbody tr th {\n",
       "        vertical-align: top;\n",
       "    }\n",
       "\n",
       "    .dataframe thead th {\n",
       "        text-align: right;\n",
       "    }\n",
       "</style>\n",
       "<table border=\"1\" class=\"dataframe\">\n",
       "  <thead>\n",
       "    <tr style=\"text-align: right;\">\n",
       "      <th></th>\n",
       "      <th>id</th>\n",
       "      <th>user_id</th>\n",
       "      <th>call_date</th>\n",
       "      <th>duration</th>\n",
       "    </tr>\n",
       "  </thead>\n",
       "  <tbody>\n",
       "    <tr>\n",
       "      <th>19</th>\n",
       "      <td>1001_4</td>\n",
       "      <td>1001</td>\n",
       "      <td>2018-12-05</td>\n",
       "      <td>0.0</td>\n",
       "    </tr>\n",
       "    <tr>\n",
       "      <th>25</th>\n",
       "      <td>1001_13</td>\n",
       "      <td>1001</td>\n",
       "      <td>2018-12-24</td>\n",
       "      <td>0.0</td>\n",
       "    </tr>\n",
       "    <tr>\n",
       "      <th>31</th>\n",
       "      <td>1001_30</td>\n",
       "      <td>1001</td>\n",
       "      <td>2018-10-17</td>\n",
       "      <td>0.0</td>\n",
       "    </tr>\n",
       "    <tr>\n",
       "      <th>32</th>\n",
       "      <td>1001_31</td>\n",
       "      <td>1001</td>\n",
       "      <td>2018-11-03</td>\n",
       "      <td>0.0</td>\n",
       "    </tr>\n",
       "    <tr>\n",
       "      <th>34</th>\n",
       "      <td>1001_35</td>\n",
       "      <td>1001</td>\n",
       "      <td>2018-12-21</td>\n",
       "      <td>0.0</td>\n",
       "    </tr>\n",
       "    <tr>\n",
       "      <th>39</th>\n",
       "      <td>1001_43</td>\n",
       "      <td>1001</td>\n",
       "      <td>2018-12-13</td>\n",
       "      <td>0.0</td>\n",
       "    </tr>\n",
       "    <tr>\n",
       "      <th>44</th>\n",
       "      <td>1001_52</td>\n",
       "      <td>1001</td>\n",
       "      <td>2018-11-23</td>\n",
       "      <td>0.0</td>\n",
       "    </tr>\n",
       "    <tr>\n",
       "      <th>45</th>\n",
       "      <td>1001_53</td>\n",
       "      <td>1001</td>\n",
       "      <td>2018-10-24</td>\n",
       "      <td>0.0</td>\n",
       "    </tr>\n",
       "    <tr>\n",
       "      <th>49</th>\n",
       "      <td>1001_60</td>\n",
       "      <td>1001</td>\n",
       "      <td>2018-12-16</td>\n",
       "      <td>0.0</td>\n",
       "    </tr>\n",
       "    <tr>\n",
       "      <th>61</th>\n",
       "      <td>1001_84</td>\n",
       "      <td>1001</td>\n",
       "      <td>2018-10-07</td>\n",
       "      <td>0.0</td>\n",
       "    </tr>\n",
       "  </tbody>\n",
       "</table>\n",
       "</div>"
      ],
      "text/plain": [
       "         id  user_id   call_date  duration\n",
       "19   1001_4     1001  2018-12-05       0.0\n",
       "25  1001_13     1001  2018-12-24       0.0\n",
       "31  1001_30     1001  2018-10-17       0.0\n",
       "32  1001_31     1001  2018-11-03       0.0\n",
       "34  1001_35     1001  2018-12-21       0.0\n",
       "39  1001_43     1001  2018-12-13       0.0\n",
       "44  1001_52     1001  2018-11-23       0.0\n",
       "45  1001_53     1001  2018-10-24       0.0\n",
       "49  1001_60     1001  2018-12-16       0.0\n",
       "61  1001_84     1001  2018-10-07       0.0"
      ]
     },
     "execution_count": 25,
     "metadata": {},
     "output_type": "execute_result"
    }
   ],
   "source": [
    "calls_df[calls_df['duration'] == 0].head(10)"
   ]
  },
  {
   "cell_type": "code",
   "execution_count": 26,
   "metadata": {},
   "outputs": [
    {
     "data": {
      "text/plain": [
       "0.9937629937629938"
      ]
     },
     "execution_count": 26,
     "metadata": {},
     "output_type": "execute_result"
    }
   ],
   "source": [
    "len(calls_df[calls_df['duration'] == 0]['user_id'].unique()) / len(calls_df['user_id'].unique())"
   ]
  },
  {
   "cell_type": "markdown",
   "metadata": {},
   "source": [
    "As we can see almost all of the users have 0 values among others. Let's compare it to 0.1 and 0.2 values to estimate quantities."
   ]
  },
  {
   "cell_type": "code",
   "execution_count": 27,
   "metadata": {},
   "outputs": [
    {
     "data": {
      "text/plain": [
       "0.0004283588049515374"
      ]
     },
     "execution_count": 27,
     "metadata": {},
     "output_type": "execute_result"
    }
   ],
   "source": [
    "len(calls_df[calls_df['duration'] == 0.1]) / len(calls_df)"
   ]
  },
  {
   "cell_type": "code",
   "execution_count": 28,
   "metadata": {},
   "outputs": [
    {
     "data": {
      "text/plain": [
       "0.00043561912367952955"
      ]
     },
     "execution_count": 28,
     "metadata": {},
     "output_type": "execute_result"
    }
   ],
   "source": [
    "len(calls_df[calls_df['duration'] == 0.2]) / len(calls_df)"
   ]
  },
  {
   "cell_type": "markdown",
   "metadata": {},
   "source": [
    "*Conclusion*: The amount of really short calls (0.1 ~ 6sec, 0.2 ~12 sec) is uncomparable to 19% of 0 values.\n",
    "We've checked several theories to find out what may be the cause of 0 values: \n",
    " - *it is an error or missing data* - seems unlikely as we have 478 users with various repetitiveness of this value and it's 99% of all the users.\n",
    " - *it is a short call rounded down* - can not be confirmed: our data is in minutes, so 0.1 values that we have means  6 seconds. We don't know whether it says that all values up to 6 seconds included are rounded up to 0.1, or not. On the other hand, there are less than 1% of 0.1 or 0.2 values, which is a very small number compared to almost 20% of 0 values. If 0 value ment short calls we'd expect to see a more or less similar distribution between extremely short calls. Also, it sounds plausible that there are few occasions to make a call for less than 6 seconds, so probably those are already included in 0.1 value.\n",
    " - *it is an unanswered call* - same as a short call we can't know for sure. If we could we would have consulted with the team to better understand the mechanisms of measuring the duration of a call. Still, we saw that 99% of users have this 0 value, and comparing it to numbers of 0.1 and 0.2 value, highly likely it means an unanswered call. It seems reasonable that almost everyone has missed calls once in a while, being unable to answer during work hours, being with children etc.\n",
    "\n",
    "In conclusion we decided to treat it as a missed call and to leave 0 value as it is as it won't be calculated for the monthly payment."
   ]
  },
  {
   "cell_type": "markdown",
   "metadata": {},
   "source": [
    "2. Next let's check 0 values in `mb_used`."
   ]
  },
  {
   "cell_type": "code",
   "execution_count": 29,
   "metadata": {},
   "outputs": [
    {
     "data": {
      "text/plain": [
       "0.1311423801574052"
      ]
     },
     "execution_count": 29,
     "metadata": {},
     "output_type": "execute_result"
    }
   ],
   "source": [
    "len(inet_df[inet_df['mb_used'] == 0]) / len(inet_df)"
   ]
  },
  {
   "cell_type": "code",
   "execution_count": 30,
   "metadata": {},
   "outputs": [
    {
     "data": {
      "text/html": [
       "<div>\n",
       "<style scoped>\n",
       "    .dataframe tbody tr th:only-of-type {\n",
       "        vertical-align: middle;\n",
       "    }\n",
       "\n",
       "    .dataframe tbody tr th {\n",
       "        vertical-align: top;\n",
       "    }\n",
       "\n",
       "    .dataframe thead th {\n",
       "        text-align: right;\n",
       "    }\n",
       "</style>\n",
       "<table border=\"1\" class=\"dataframe\">\n",
       "  <thead>\n",
       "    <tr style=\"text-align: right;\">\n",
       "      <th></th>\n",
       "      <th>id</th>\n",
       "      <th>user_id</th>\n",
       "      <th>session_date</th>\n",
       "      <th>mb_used</th>\n",
       "    </tr>\n",
       "  </thead>\n",
       "  <tbody>\n",
       "    <tr>\n",
       "      <th>1</th>\n",
       "      <td>1000_204</td>\n",
       "      <td>1000</td>\n",
       "      <td>2018-12-31</td>\n",
       "      <td>0.0</td>\n",
       "    </tr>\n",
       "    <tr>\n",
       "      <th>14</th>\n",
       "      <td>1001_26</td>\n",
       "      <td>1001</td>\n",
       "      <td>2018-09-17</td>\n",
       "      <td>0.0</td>\n",
       "    </tr>\n",
       "    <tr>\n",
       "      <th>16</th>\n",
       "      <td>1001_28</td>\n",
       "      <td>1001</td>\n",
       "      <td>2018-10-17</td>\n",
       "      <td>0.0</td>\n",
       "    </tr>\n",
       "    <tr>\n",
       "      <th>34</th>\n",
       "      <td>1001_54</td>\n",
       "      <td>1001</td>\n",
       "      <td>2018-09-02</td>\n",
       "      <td>0.0</td>\n",
       "    </tr>\n",
       "    <tr>\n",
       "      <th>43</th>\n",
       "      <td>1001_77</td>\n",
       "      <td>1001</td>\n",
       "      <td>2018-10-31</td>\n",
       "      <td>0.0</td>\n",
       "    </tr>\n",
       "    <tr>\n",
       "      <th>44</th>\n",
       "      <td>1001_80</td>\n",
       "      <td>1001</td>\n",
       "      <td>2018-12-24</td>\n",
       "      <td>0.0</td>\n",
       "    </tr>\n",
       "    <tr>\n",
       "      <th>46</th>\n",
       "      <td>1001_84</td>\n",
       "      <td>1001</td>\n",
       "      <td>2018-10-13</td>\n",
       "      <td>0.0</td>\n",
       "    </tr>\n",
       "    <tr>\n",
       "      <th>54</th>\n",
       "      <td>1001_94</td>\n",
       "      <td>1001</td>\n",
       "      <td>2018-12-03</td>\n",
       "      <td>0.0</td>\n",
       "    </tr>\n",
       "    <tr>\n",
       "      <th>58</th>\n",
       "      <td>1001_103</td>\n",
       "      <td>1001</td>\n",
       "      <td>2018-12-10</td>\n",
       "      <td>0.0</td>\n",
       "    </tr>\n",
       "    <tr>\n",
       "      <th>64</th>\n",
       "      <td>1001_124</td>\n",
       "      <td>1001</td>\n",
       "      <td>2018-09-28</td>\n",
       "      <td>0.0</td>\n",
       "    </tr>\n",
       "  </tbody>\n",
       "</table>\n",
       "</div>"
      ],
      "text/plain": [
       "          id  user_id session_date  mb_used\n",
       "1   1000_204     1000   2018-12-31      0.0\n",
       "14   1001_26     1001   2018-09-17      0.0\n",
       "16   1001_28     1001   2018-10-17      0.0\n",
       "34   1001_54     1001   2018-09-02      0.0\n",
       "43   1001_77     1001   2018-10-31      0.0\n",
       "44   1001_80     1001   2018-12-24      0.0\n",
       "46   1001_84     1001   2018-10-13      0.0\n",
       "54   1001_94     1001   2018-12-03      0.0\n",
       "58  1001_103     1001   2018-12-10      0.0\n",
       "64  1001_124     1001   2018-09-28      0.0"
      ]
     },
     "execution_count": 30,
     "metadata": {},
     "output_type": "execute_result"
    }
   ],
   "source": [
    "inet_df[inet_df['mb_used'] == 0].head(10)"
   ]
  },
  {
   "cell_type": "code",
   "execution_count": 31,
   "metadata": {},
   "outputs": [
    {
     "data": {
      "text/plain": [
       "0.9754601226993865"
      ]
     },
     "execution_count": 31,
     "metadata": {},
     "output_type": "execute_result"
    }
   ],
   "source": [
    "len(inet_df[inet_df['mb_used'] == 0]['user_id'].unique()) / len(inet_df['user_id'].unique())"
   ]
  },
  {
   "cell_type": "markdown",
   "metadata": {},
   "source": [
    "*Conclusion*: same as in the previous case it looks like 97% of users have used 0 Mb at some point, and it seems reasonable. We'll conclude that this is not a missing value, but it's just that users didn't use mobile Internet every day."
   ]
  },
  {
   "cell_type": "markdown",
   "metadata": {},
   "source": [
    "3. `churn_date` column has only 34 values present, let's take a look at them."
   ]
  },
  {
   "cell_type": "code",
   "execution_count": 32,
   "metadata": {},
   "outputs": [
    {
     "data": {
      "text/html": [
       "<div>\n",
       "<style scoped>\n",
       "    .dataframe tbody tr th:only-of-type {\n",
       "        vertical-align: middle;\n",
       "    }\n",
       "\n",
       "    .dataframe tbody tr th {\n",
       "        vertical-align: top;\n",
       "    }\n",
       "\n",
       "    .dataframe thead th {\n",
       "        text-align: right;\n",
       "    }\n",
       "</style>\n",
       "<table border=\"1\" class=\"dataframe\">\n",
       "  <thead>\n",
       "    <tr style=\"text-align: right;\">\n",
       "      <th></th>\n",
       "      <th>user_id</th>\n",
       "      <th>first_name</th>\n",
       "      <th>last_name</th>\n",
       "      <th>age</th>\n",
       "      <th>city</th>\n",
       "      <th>reg_date</th>\n",
       "      <th>plan</th>\n",
       "      <th>churn_date</th>\n",
       "    </tr>\n",
       "  </thead>\n",
       "  <tbody>\n",
       "    <tr>\n",
       "      <th>6</th>\n",
       "      <td>1006</td>\n",
       "      <td>Jesusa</td>\n",
       "      <td>Bradford</td>\n",
       "      <td>73</td>\n",
       "      <td>San Francisco-Oakland-Berkeley, CA MSA</td>\n",
       "      <td>2018-11-27</td>\n",
       "      <td>ultimate</td>\n",
       "      <td>2018-12-18</td>\n",
       "    </tr>\n",
       "    <tr>\n",
       "      <th>12</th>\n",
       "      <td>1012</td>\n",
       "      <td>Jonelle</td>\n",
       "      <td>Mcbride</td>\n",
       "      <td>59</td>\n",
       "      <td>Chicago-Naperville-Elgin, IL-IN-WI MSA</td>\n",
       "      <td>2018-06-28</td>\n",
       "      <td>surf</td>\n",
       "      <td>2018-11-16</td>\n",
       "    </tr>\n",
       "    <tr>\n",
       "      <th>22</th>\n",
       "      <td>1022</td>\n",
       "      <td>Bo</td>\n",
       "      <td>Snow</td>\n",
       "      <td>73</td>\n",
       "      <td>New York-Newark-Jersey City, NY-NJ-PA MSA</td>\n",
       "      <td>2018-04-20</td>\n",
       "      <td>surf</td>\n",
       "      <td>2018-09-07</td>\n",
       "    </tr>\n",
       "    <tr>\n",
       "      <th>40</th>\n",
       "      <td>1040</td>\n",
       "      <td>Paris</td>\n",
       "      <td>Santos</td>\n",
       "      <td>72</td>\n",
       "      <td>Philadelphia-Camden-Wilmington, PA-NJ-DE-MD MSA</td>\n",
       "      <td>2018-12-23</td>\n",
       "      <td>surf</td>\n",
       "      <td>2018-12-30</td>\n",
       "    </tr>\n",
       "    <tr>\n",
       "      <th>50</th>\n",
       "      <td>1050</td>\n",
       "      <td>Jone</td>\n",
       "      <td>Owen</td>\n",
       "      <td>23</td>\n",
       "      <td>Miami-Fort Lauderdale-West Palm Beach, FL MSA</td>\n",
       "      <td>2018-03-20</td>\n",
       "      <td>ultimate</td>\n",
       "      <td>2018-10-07</td>\n",
       "    </tr>\n",
       "    <tr>\n",
       "      <th>54</th>\n",
       "      <td>1054</td>\n",
       "      <td>Denis</td>\n",
       "      <td>Frost</td>\n",
       "      <td>50</td>\n",
       "      <td>Phoenix-Mesa-Chandler, AZ MSA</td>\n",
       "      <td>2018-04-21</td>\n",
       "      <td>surf</td>\n",
       "      <td>2018-12-31</td>\n",
       "    </tr>\n",
       "    <tr>\n",
       "      <th>67</th>\n",
       "      <td>1067</td>\n",
       "      <td>Robt</td>\n",
       "      <td>Allen</td>\n",
       "      <td>37</td>\n",
       "      <td>Grand Rapids-Kentwood, MI MSA</td>\n",
       "      <td>2018-09-24</td>\n",
       "      <td>surf</td>\n",
       "      <td>2018-11-24</td>\n",
       "    </tr>\n",
       "    <tr>\n",
       "      <th>83</th>\n",
       "      <td>1083</td>\n",
       "      <td>Lyndia</td>\n",
       "      <td>Acevedo</td>\n",
       "      <td>65</td>\n",
       "      <td>Los Angeles-Long Beach-Anaheim, CA MSA</td>\n",
       "      <td>2018-10-26</td>\n",
       "      <td>surf</td>\n",
       "      <td>2018-12-18</td>\n",
       "    </tr>\n",
       "    <tr>\n",
       "      <th>84</th>\n",
       "      <td>1084</td>\n",
       "      <td>Wiley</td>\n",
       "      <td>Mckinney</td>\n",
       "      <td>21</td>\n",
       "      <td>Miami-Fort Lauderdale-West Palm Beach, FL MSA</td>\n",
       "      <td>2018-06-04</td>\n",
       "      <td>surf</td>\n",
       "      <td>2018-11-11</td>\n",
       "    </tr>\n",
       "    <tr>\n",
       "      <th>94</th>\n",
       "      <td>1094</td>\n",
       "      <td>Walter</td>\n",
       "      <td>Petersen</td>\n",
       "      <td>54</td>\n",
       "      <td>Los Angeles-Long Beach-Anaheim, CA MSA</td>\n",
       "      <td>2018-10-30</td>\n",
       "      <td>surf</td>\n",
       "      <td>2018-12-12</td>\n",
       "    </tr>\n",
       "    <tr>\n",
       "      <th>106</th>\n",
       "      <td>1106</td>\n",
       "      <td>Eddy</td>\n",
       "      <td>Garrison</td>\n",
       "      <td>47</td>\n",
       "      <td>New York-Newark-Jersey City, NY-NJ-PA MSA</td>\n",
       "      <td>2018-05-10</td>\n",
       "      <td>surf</td>\n",
       "      <td>2018-11-14</td>\n",
       "    </tr>\n",
       "    <tr>\n",
       "      <th>129</th>\n",
       "      <td>1129</td>\n",
       "      <td>Marin</td>\n",
       "      <td>Bolton</td>\n",
       "      <td>70</td>\n",
       "      <td>Baton Rouge, LA MSA</td>\n",
       "      <td>2018-11-10</td>\n",
       "      <td>surf</td>\n",
       "      <td>2018-12-27</td>\n",
       "    </tr>\n",
       "    <tr>\n",
       "      <th>172</th>\n",
       "      <td>1172</td>\n",
       "      <td>Weldon</td>\n",
       "      <td>Robinson</td>\n",
       "      <td>72</td>\n",
       "      <td>Boston-Cambridge-Newton, MA-NH MSA</td>\n",
       "      <td>2018-03-30</td>\n",
       "      <td>surf</td>\n",
       "      <td>2018-11-29</td>\n",
       "    </tr>\n",
       "    <tr>\n",
       "      <th>180</th>\n",
       "      <td>1180</td>\n",
       "      <td>Wonda</td>\n",
       "      <td>Hays</td>\n",
       "      <td>24</td>\n",
       "      <td>New York-Newark-Jersey City, NY-NJ-PA MSA</td>\n",
       "      <td>2018-12-01</td>\n",
       "      <td>surf</td>\n",
       "      <td>2018-12-22</td>\n",
       "    </tr>\n",
       "    <tr>\n",
       "      <th>186</th>\n",
       "      <td>1186</td>\n",
       "      <td>Josiah</td>\n",
       "      <td>Douglas</td>\n",
       "      <td>55</td>\n",
       "      <td>Las Vegas-Henderson-Paradise, NV MSA</td>\n",
       "      <td>2018-12-22</td>\n",
       "      <td>ultimate</td>\n",
       "      <td>2018-12-31</td>\n",
       "    </tr>\n",
       "    <tr>\n",
       "      <th>191</th>\n",
       "      <td>1191</td>\n",
       "      <td>Zack</td>\n",
       "      <td>Waters</td>\n",
       "      <td>75</td>\n",
       "      <td>St. Louis, MO-IL MSA</td>\n",
       "      <td>2018-01-21</td>\n",
       "      <td>ultimate</td>\n",
       "      <td>2018-11-30</td>\n",
       "    </tr>\n",
       "    <tr>\n",
       "      <th>220</th>\n",
       "      <td>1220</td>\n",
       "      <td>Jack</td>\n",
       "      <td>Strong</td>\n",
       "      <td>26</td>\n",
       "      <td>Cincinnati, OH-KY-IN MSA</td>\n",
       "      <td>2018-04-22</td>\n",
       "      <td>surf</td>\n",
       "      <td>2018-10-13</td>\n",
       "    </tr>\n",
       "    <tr>\n",
       "      <th>246</th>\n",
       "      <td>1246</td>\n",
       "      <td>Stevie</td>\n",
       "      <td>Moran</td>\n",
       "      <td>69</td>\n",
       "      <td>Tampa-St. Petersburg-Clearwater, FL MSA</td>\n",
       "      <td>2018-01-09</td>\n",
       "      <td>ultimate</td>\n",
       "      <td>2018-07-31</td>\n",
       "    </tr>\n",
       "    <tr>\n",
       "      <th>269</th>\n",
       "      <td>1269</td>\n",
       "      <td>Irving</td>\n",
       "      <td>Thompson</td>\n",
       "      <td>39</td>\n",
       "      <td>Dallas-Fort Worth-Arlington, TX MSA</td>\n",
       "      <td>2018-09-13</td>\n",
       "      <td>ultimate</td>\n",
       "      <td>2018-12-15</td>\n",
       "    </tr>\n",
       "    <tr>\n",
       "      <th>281</th>\n",
       "      <td>1281</td>\n",
       "      <td>Zack</td>\n",
       "      <td>Hardy</td>\n",
       "      <td>39</td>\n",
       "      <td>Charlotte-Concord-Gastonia, NC-SC MSA</td>\n",
       "      <td>2018-07-23</td>\n",
       "      <td>surf</td>\n",
       "      <td>2018-11-14</td>\n",
       "    </tr>\n",
       "    <tr>\n",
       "      <th>296</th>\n",
       "      <td>1296</td>\n",
       "      <td>Weston</td>\n",
       "      <td>Conley</td>\n",
       "      <td>36</td>\n",
       "      <td>Miami-Fort Lauderdale-West Palm Beach, FL MSA</td>\n",
       "      <td>2018-10-20</td>\n",
       "      <td>ultimate</td>\n",
       "      <td>2018-12-18</td>\n",
       "    </tr>\n",
       "    <tr>\n",
       "      <th>298</th>\n",
       "      <td>1298</td>\n",
       "      <td>Loyce</td>\n",
       "      <td>Cooley</td>\n",
       "      <td>53</td>\n",
       "      <td>Nashville-Davidson–Murfreesboro–Franklin, TN MSA</td>\n",
       "      <td>2018-09-21</td>\n",
       "      <td>surf</td>\n",
       "      <td>2018-12-19</td>\n",
       "    </tr>\n",
       "    <tr>\n",
       "      <th>300</th>\n",
       "      <td>1300</td>\n",
       "      <td>Rene</td>\n",
       "      <td>Frost</td>\n",
       "      <td>23</td>\n",
       "      <td>New York-Newark-Jersey City, NY-NJ-PA MSA</td>\n",
       "      <td>2018-10-21</td>\n",
       "      <td>surf</td>\n",
       "      <td>2018-12-19</td>\n",
       "    </tr>\n",
       "    <tr>\n",
       "      <th>315</th>\n",
       "      <td>1315</td>\n",
       "      <td>Mora</td>\n",
       "      <td>Schroeder</td>\n",
       "      <td>45</td>\n",
       "      <td>Raleigh-Cary, NC MSA</td>\n",
       "      <td>2018-04-26</td>\n",
       "      <td>surf</td>\n",
       "      <td>2018-10-03</td>\n",
       "    </tr>\n",
       "    <tr>\n",
       "      <th>358</th>\n",
       "      <td>1358</td>\n",
       "      <td>Vaughn</td>\n",
       "      <td>Maldonado</td>\n",
       "      <td>20</td>\n",
       "      <td>New York-Newark-Jersey City, NY-NJ-PA MSA</td>\n",
       "      <td>2018-04-26</td>\n",
       "      <td>surf</td>\n",
       "      <td>2018-10-22</td>\n",
       "    </tr>\n",
       "    <tr>\n",
       "      <th>363</th>\n",
       "      <td>1363</td>\n",
       "      <td>Sandee</td>\n",
       "      <td>Lott</td>\n",
       "      <td>33</td>\n",
       "      <td>Seattle-Tacoma-Bellevue, WA MSA</td>\n",
       "      <td>2018-01-05</td>\n",
       "      <td>ultimate</td>\n",
       "      <td>2018-08-16</td>\n",
       "    </tr>\n",
       "    <tr>\n",
       "      <th>402</th>\n",
       "      <td>1402</td>\n",
       "      <td>Jesus</td>\n",
       "      <td>Berry</td>\n",
       "      <td>25</td>\n",
       "      <td>New York-Newark-Jersey City, NY-NJ-PA MSA</td>\n",
       "      <td>2018-06-11</td>\n",
       "      <td>surf</td>\n",
       "      <td>2018-12-26</td>\n",
       "    </tr>\n",
       "    <tr>\n",
       "      <th>414</th>\n",
       "      <td>1414</td>\n",
       "      <td>Georgianne</td>\n",
       "      <td>Herring</td>\n",
       "      <td>30</td>\n",
       "      <td>Urban Honolulu, HI MSA</td>\n",
       "      <td>2018-03-03</td>\n",
       "      <td>surf</td>\n",
       "      <td>2018-09-01</td>\n",
       "    </tr>\n",
       "    <tr>\n",
       "      <th>416</th>\n",
       "      <td>1416</td>\n",
       "      <td>Deja</td>\n",
       "      <td>Moss</td>\n",
       "      <td>25</td>\n",
       "      <td>Minneapolis-St. Paul-Bloomington, MN-WI MSA</td>\n",
       "      <td>2018-10-03</td>\n",
       "      <td>surf</td>\n",
       "      <td>2018-11-21</td>\n",
       "    </tr>\n",
       "    <tr>\n",
       "      <th>441</th>\n",
       "      <td>1441</td>\n",
       "      <td>Piedad</td>\n",
       "      <td>Myers</td>\n",
       "      <td>23</td>\n",
       "      <td>Atlanta-Sandy Springs-Roswell, GA MSA</td>\n",
       "      <td>2018-03-08</td>\n",
       "      <td>ultimate</td>\n",
       "      <td>2018-08-19</td>\n",
       "    </tr>\n",
       "    <tr>\n",
       "      <th>451</th>\n",
       "      <td>1451</td>\n",
       "      <td>Lenard</td>\n",
       "      <td>Harding</td>\n",
       "      <td>53</td>\n",
       "      <td>Charlotte-Concord-Gastonia, NC-SC MSA</td>\n",
       "      <td>2018-02-15</td>\n",
       "      <td>ultimate</td>\n",
       "      <td>2018-12-10</td>\n",
       "    </tr>\n",
       "    <tr>\n",
       "      <th>466</th>\n",
       "      <td>1466</td>\n",
       "      <td>Alphonse</td>\n",
       "      <td>Harmon</td>\n",
       "      <td>56</td>\n",
       "      <td>Los Angeles-Long Beach-Anaheim, CA MSA</td>\n",
       "      <td>2018-01-26</td>\n",
       "      <td>surf</td>\n",
       "      <td>2018-09-17</td>\n",
       "    </tr>\n",
       "    <tr>\n",
       "      <th>467</th>\n",
       "      <td>1467</td>\n",
       "      <td>Nickolas</td>\n",
       "      <td>Deleon</td>\n",
       "      <td>64</td>\n",
       "      <td>Atlanta-Sandy Springs-Roswell, GA MSA</td>\n",
       "      <td>2018-01-31</td>\n",
       "      <td>ultimate</td>\n",
       "      <td>2018-11-18</td>\n",
       "    </tr>\n",
       "    <tr>\n",
       "      <th>491</th>\n",
       "      <td>1491</td>\n",
       "      <td>Terina</td>\n",
       "      <td>Jensen</td>\n",
       "      <td>22</td>\n",
       "      <td>Grand Rapids-Kentwood, MI MSA</td>\n",
       "      <td>2018-04-27</td>\n",
       "      <td>surf</td>\n",
       "      <td>2018-09-18</td>\n",
       "    </tr>\n",
       "  </tbody>\n",
       "</table>\n",
       "</div>"
      ],
      "text/plain": [
       "     user_id  first_name  last_name  age  \\\n",
       "6       1006      Jesusa   Bradford   73   \n",
       "12      1012     Jonelle    Mcbride   59   \n",
       "22      1022          Bo       Snow   73   \n",
       "40      1040       Paris     Santos   72   \n",
       "50      1050        Jone       Owen   23   \n",
       "54      1054       Denis      Frost   50   \n",
       "67      1067        Robt      Allen   37   \n",
       "83      1083      Lyndia    Acevedo   65   \n",
       "84      1084       Wiley   Mckinney   21   \n",
       "94      1094      Walter   Petersen   54   \n",
       "106     1106        Eddy   Garrison   47   \n",
       "129     1129       Marin     Bolton   70   \n",
       "172     1172      Weldon   Robinson   72   \n",
       "180     1180       Wonda       Hays   24   \n",
       "186     1186      Josiah    Douglas   55   \n",
       "191     1191        Zack     Waters   75   \n",
       "220     1220        Jack     Strong   26   \n",
       "246     1246      Stevie      Moran   69   \n",
       "269     1269      Irving   Thompson   39   \n",
       "281     1281        Zack      Hardy   39   \n",
       "296     1296      Weston     Conley   36   \n",
       "298     1298       Loyce     Cooley   53   \n",
       "300     1300        Rene      Frost   23   \n",
       "315     1315        Mora  Schroeder   45   \n",
       "358     1358      Vaughn  Maldonado   20   \n",
       "363     1363      Sandee       Lott   33   \n",
       "402     1402       Jesus      Berry   25   \n",
       "414     1414  Georgianne    Herring   30   \n",
       "416     1416        Deja       Moss   25   \n",
       "441     1441      Piedad      Myers   23   \n",
       "451     1451      Lenard    Harding   53   \n",
       "466     1466    Alphonse     Harmon   56   \n",
       "467     1467    Nickolas     Deleon   64   \n",
       "491     1491      Terina     Jensen   22   \n",
       "\n",
       "                                                 city    reg_date      plan  \\\n",
       "6              San Francisco-Oakland-Berkeley, CA MSA  2018-11-27  ultimate   \n",
       "12             Chicago-Naperville-Elgin, IL-IN-WI MSA  2018-06-28      surf   \n",
       "22          New York-Newark-Jersey City, NY-NJ-PA MSA  2018-04-20      surf   \n",
       "40    Philadelphia-Camden-Wilmington, PA-NJ-DE-MD MSA  2018-12-23      surf   \n",
       "50      Miami-Fort Lauderdale-West Palm Beach, FL MSA  2018-03-20  ultimate   \n",
       "54                      Phoenix-Mesa-Chandler, AZ MSA  2018-04-21      surf   \n",
       "67                      Grand Rapids-Kentwood, MI MSA  2018-09-24      surf   \n",
       "83             Los Angeles-Long Beach-Anaheim, CA MSA  2018-10-26      surf   \n",
       "84      Miami-Fort Lauderdale-West Palm Beach, FL MSA  2018-06-04      surf   \n",
       "94             Los Angeles-Long Beach-Anaheim, CA MSA  2018-10-30      surf   \n",
       "106         New York-Newark-Jersey City, NY-NJ-PA MSA  2018-05-10      surf   \n",
       "129                               Baton Rouge, LA MSA  2018-11-10      surf   \n",
       "172                Boston-Cambridge-Newton, MA-NH MSA  2018-03-30      surf   \n",
       "180         New York-Newark-Jersey City, NY-NJ-PA MSA  2018-12-01      surf   \n",
       "186              Las Vegas-Henderson-Paradise, NV MSA  2018-12-22  ultimate   \n",
       "191                              St. Louis, MO-IL MSA  2018-01-21  ultimate   \n",
       "220                          Cincinnati, OH-KY-IN MSA  2018-04-22      surf   \n",
       "246           Tampa-St. Petersburg-Clearwater, FL MSA  2018-01-09  ultimate   \n",
       "269               Dallas-Fort Worth-Arlington, TX MSA  2018-09-13  ultimate   \n",
       "281             Charlotte-Concord-Gastonia, NC-SC MSA  2018-07-23      surf   \n",
       "296     Miami-Fort Lauderdale-West Palm Beach, FL MSA  2018-10-20  ultimate   \n",
       "298  Nashville-Davidson–Murfreesboro–Franklin, TN MSA  2018-09-21      surf   \n",
       "300         New York-Newark-Jersey City, NY-NJ-PA MSA  2018-10-21      surf   \n",
       "315                              Raleigh-Cary, NC MSA  2018-04-26      surf   \n",
       "358         New York-Newark-Jersey City, NY-NJ-PA MSA  2018-04-26      surf   \n",
       "363                   Seattle-Tacoma-Bellevue, WA MSA  2018-01-05  ultimate   \n",
       "402         New York-Newark-Jersey City, NY-NJ-PA MSA  2018-06-11      surf   \n",
       "414                            Urban Honolulu, HI MSA  2018-03-03      surf   \n",
       "416       Minneapolis-St. Paul-Bloomington, MN-WI MSA  2018-10-03      surf   \n",
       "441             Atlanta-Sandy Springs-Roswell, GA MSA  2018-03-08  ultimate   \n",
       "451             Charlotte-Concord-Gastonia, NC-SC MSA  2018-02-15  ultimate   \n",
       "466            Los Angeles-Long Beach-Anaheim, CA MSA  2018-01-26      surf   \n",
       "467             Atlanta-Sandy Springs-Roswell, GA MSA  2018-01-31  ultimate   \n",
       "491                     Grand Rapids-Kentwood, MI MSA  2018-04-27      surf   \n",
       "\n",
       "     churn_date  \n",
       "6    2018-12-18  \n",
       "12   2018-11-16  \n",
       "22   2018-09-07  \n",
       "40   2018-12-30  \n",
       "50   2018-10-07  \n",
       "54   2018-12-31  \n",
       "67   2018-11-24  \n",
       "83   2018-12-18  \n",
       "84   2018-11-11  \n",
       "94   2018-12-12  \n",
       "106  2018-11-14  \n",
       "129  2018-12-27  \n",
       "172  2018-11-29  \n",
       "180  2018-12-22  \n",
       "186  2018-12-31  \n",
       "191  2018-11-30  \n",
       "220  2018-10-13  \n",
       "246  2018-07-31  \n",
       "269  2018-12-15  \n",
       "281  2018-11-14  \n",
       "296  2018-12-18  \n",
       "298  2018-12-19  \n",
       "300  2018-12-19  \n",
       "315  2018-10-03  \n",
       "358  2018-10-22  \n",
       "363  2018-08-16  \n",
       "402  2018-12-26  \n",
       "414  2018-09-01  \n",
       "416  2018-11-21  \n",
       "441  2018-08-19  \n",
       "451  2018-12-10  \n",
       "466  2018-09-17  \n",
       "467  2018-11-18  \n",
       "491  2018-09-18  "
      ]
     },
     "execution_count": 32,
     "metadata": {},
     "output_type": "execute_result"
    }
   ],
   "source": [
    "users_df[users_df['churn_date'].notnull() == True]"
   ]
  },
  {
   "cell_type": "markdown",
   "metadata": {},
   "source": [
    "*Conclusion*: These users discontinued using Megaline plans at various points of the year, also there are representatives of both plans. We can see that some of the users stopped using their plan the same month they started it. We don't know the exact policy Megaline has for those who change the plan before a whole month is due, but usual policy in this field is to receive payment for the whole month. Also as we're going to use averages per month and not per year it is ok either to leave them or to drop them. If so, we're going to leave them."
   ]
  },
  {
   "cell_type": "markdown",
   "metadata": {},
   "source": [
    "<a id=\"conversion\"></a>\n",
    "### Converting types"
   ]
  },
  {
   "cell_type": "markdown",
   "metadata": {},
   "source": [
    "At first, let's convert all `user_id` columns into int16. It may save us some memory usage."
   ]
  },
  {
   "cell_type": "code",
   "execution_count": 33,
   "metadata": {},
   "outputs": [
    {
     "name": "stdout",
     "output_type": "stream",
     "text": [
      "<class 'pandas.core.frame.DataFrame'>\n",
      "RangeIndex: 500 entries, 0 to 499\n",
      "Data columns (total 8 columns):\n",
      " #   Column      Non-Null Count  Dtype \n",
      "---  ------      --------------  ----- \n",
      " 0   user_id     500 non-null    int16 \n",
      " 1   first_name  500 non-null    object\n",
      " 2   last_name   500 non-null    object\n",
      " 3   age         500 non-null    int64 \n",
      " 4   city        500 non-null    object\n",
      " 5   reg_date    500 non-null    object\n",
      " 6   plan        500 non-null    object\n",
      " 7   churn_date  34 non-null     object\n",
      "dtypes: int16(1), int64(1), object(6)\n",
      "memory usage: 28.4+ KB\n",
      "None\n",
      "-----------------------------\n",
      "<class 'pandas.core.frame.DataFrame'>\n",
      "RangeIndex: 137735 entries, 0 to 137734\n",
      "Data columns (total 4 columns):\n",
      " #   Column     Non-Null Count   Dtype  \n",
      "---  ------     --------------   -----  \n",
      " 0   id         137735 non-null  object \n",
      " 1   user_id    137735 non-null  int16  \n",
      " 2   call_date  137735 non-null  object \n",
      " 3   duration   137735 non-null  float64\n",
      "dtypes: float64(1), int16(1), object(2)\n",
      "memory usage: 3.4+ MB\n",
      "None\n",
      "-----------------------------\n",
      "<class 'pandas.core.frame.DataFrame'>\n",
      "RangeIndex: 76051 entries, 0 to 76050\n",
      "Data columns (total 3 columns):\n",
      " #   Column        Non-Null Count  Dtype \n",
      "---  ------        --------------  ----- \n",
      " 0   id            76051 non-null  object\n",
      " 1   user_id       76051 non-null  int16 \n",
      " 2   message_date  76051 non-null  object\n",
      "dtypes: int16(1), object(2)\n",
      "memory usage: 1.3+ MB\n",
      "None\n",
      "-----------------------------\n",
      "<class 'pandas.core.frame.DataFrame'>\n",
      "RangeIndex: 104825 entries, 0 to 104824\n",
      "Data columns (total 4 columns):\n",
      " #   Column        Non-Null Count   Dtype  \n",
      "---  ------        --------------   -----  \n",
      " 0   id            104825 non-null  object \n",
      " 1   user_id       104825 non-null  int16  \n",
      " 2   session_date  104825 non-null  object \n",
      " 3   mb_used       104825 non-null  float64\n",
      "dtypes: float64(1), int16(1), object(2)\n",
      "memory usage: 2.6+ MB\n",
      "None\n",
      "-----------------------------\n"
     ]
    }
   ],
   "source": [
    "listed_df = [users_df, calls_df, messages_df, inet_df]\n",
    "\n",
    "for i in range(0, 4):\n",
    "    try:\n",
    "        listed_df[i]['user_id'] = pd.to_numeric(listed_df[i]['user_id']).astype('int16')\n",
    "    except:\n",
    "        print('Check the data type')\n",
    "    print(listed_df[i].info())\n",
    "    print('-----------------------------')"
   ]
  },
  {
   "cell_type": "markdown",
   "metadata": {},
   "source": [
    "Next, let's create a month column for all dfs with dates as we need that to calculate averages later. We're not going to permanently change the type of date columns to dateTime as for now there's no need in that."
   ]
  },
  {
   "cell_type": "code",
   "execution_count": 34,
   "metadata": {},
   "outputs": [
    {
     "name": "stdout",
     "output_type": "stream",
     "text": [
      "call_date \n",
      "1       172\n",
      "2       774\n",
      "3      1620\n",
      "4      3442\n",
      "5      5959\n",
      "6      8221\n",
      "7     11105\n",
      "8     13590\n",
      "9     16523\n",
      "10    21064\n",
      "11    24651\n",
      "12    30614\n",
      "Name: month, dtype: int64\n",
      "--------------------------------------\n",
      "session_date \n",
      "1        96\n",
      "2       604\n",
      "3      1336\n",
      "4      2558\n",
      "5      4288\n",
      "6      6057\n",
      "7      8110\n",
      "8     10718\n",
      "9     12722\n",
      "10    16193\n",
      "11    18651\n",
      "12    23492\n",
      "Name: month, dtype: int64\n",
      "--------------------------------------\n",
      "message_date \n",
      "1        83\n",
      "2       259\n",
      "3       594\n",
      "4      1333\n",
      "5      2780\n",
      "6      3833\n",
      "7      5208\n",
      "8      7394\n",
      "9      9227\n",
      "10    12201\n",
      "11    14068\n",
      "12    19071\n",
      "Name: month, dtype: int64\n",
      "--------------------------------------\n"
     ]
    }
   ],
   "source": [
    "listed_df = [calls_df, inet_df, messages_df]\n",
    "listed_names = ['call_date', 'session_date', 'message_date']\n",
    "\n",
    "date_format = '%Y-%m-%d'\n",
    "\n",
    "for i in range(0, 3):\n",
    "    listed_df[i]['month'] = pd.DatetimeIndex(pd.to_datetime(listed_df[i][listed_names[i]], format=date_format)).month\n",
    "    print(listed_names[i], '\\n{}'.format(listed_df[i]['month'].value_counts().sort_index()))\n",
    "    print('--------------------------------------')"
   ]
  },
  {
   "cell_type": "markdown",
   "metadata": {},
   "source": [
    "Half of the year seems grately overweighted, we know that the data we have is supposed to be the data from one year, but still it's better to check:"
   ]
  },
  {
   "cell_type": "code",
   "execution_count": 35,
   "metadata": {},
   "outputs": [
    {
     "name": "stdout",
     "output_type": "stream",
     "text": [
      "call_date \n",
      "2018    137735\n",
      "Name: call_date, dtype: int64\n",
      "-------------------\n",
      "session_date \n",
      "2018    104825\n",
      "Name: session_date, dtype: int64\n",
      "-------------------\n",
      "message_date \n",
      "2018    76051\n",
      "Name: message_date, dtype: int64\n",
      "-------------------\n"
     ]
    }
   ],
   "source": [
    "for i in range(0, 3):\n",
    "    print(listed_names[i], '\\n{}'.format(pd.DatetimeIndex(pd.to_datetime(listed_df[i][listed_names[i]], format='%Y-%m-%d')).year.value_counts()))\n",
    "    print('-------------------')"
   ]
  },
  {
   "cell_type": "markdown",
   "metadata": {},
   "source": [
    "*Conclusion*: we should be checking how these databases were created with the team if we could, but for now we can only assume that the plans are new to Megaline and started running only at the beginning of the year so they had few users using them, but by the end of the year the amount of users grew. Also it can be that we were purposely given data about only new users starting from 2018. It's a good idea to study this phenomena closely later in the research."
   ]
  },
  {
   "cell_type": "markdown",
   "metadata": {},
   "source": [
    "Next, let's check `city` column from users_df. Later we will need to analyze whether the average revenue from users in NY-NJ area is different from that of the users from other regions. Before that, let's check how can we recognize them and whether there's need in filtering."
   ]
  },
  {
   "cell_type": "code",
   "execution_count": 36,
   "metadata": {
    "scrolled": true
   },
   "outputs": [
    {
     "data": {
      "text/plain": [
       "New York-Newark-Jersey City, NY-NJ-PA MSA          80\n",
       "Los Angeles-Long Beach-Anaheim, CA MSA             29\n",
       "Dallas-Fort Worth-Arlington, TX MSA                21\n",
       "Chicago-Naperville-Elgin, IL-IN-WI MSA             19\n",
       "Philadelphia-Camden-Wilmington, PA-NJ-DE-MD MSA    17\n",
       "                                                   ..\n",
       "Raleigh-Cary, NC MSA                                1\n",
       "El Paso, TX MSA                                     1\n",
       "Greensboro-High Point, NC MSA                       1\n",
       "Stockton, CA MSA                                    1\n",
       "Cape Coral-Fort Myers, FL MSA                       1\n",
       "Name: city, Length: 73, dtype: int64"
      ]
     },
     "execution_count": 36,
     "metadata": {},
     "output_type": "execute_result"
    }
   ],
   "source": [
    "users_df['city'].value_counts()"
   ]
  },
  {
   "cell_type": "code",
   "execution_count": 37,
   "metadata": {},
   "outputs": [
    {
     "data": {
      "text/plain": [
       "0.16"
      ]
     },
     "execution_count": 37,
     "metadata": {},
     "output_type": "execute_result"
    }
   ],
   "source": [
    "len(users_df[users_df['city'] == 'New York-Newark-Jersey City, NY-NJ-PA MSA']) / len(users_df)"
   ]
  },
  {
   "cell_type": "markdown",
   "metadata": {},
   "source": [
    "NY-NJ is mostly already grouped, but we can also see a separate instance of 'Albany-Schenectady-Troy, NY MSA', meaning there could be others like that. Let's create a function to get a separate filter column:"
   ]
  },
  {
   "cell_type": "code",
   "execution_count": 38,
   "metadata": {},
   "outputs": [],
   "source": [
    "def search_city(row):\n",
    "    word1 = 'NY'\n",
    "    word2 = 'NJ'\n",
    "    count = 0\n",
    "    \n",
    "    if word1 not in row['city']:\n",
    "        if word2 not in row['city']:\n",
    "            count += 0\n",
    "    else:\n",
    "        count += 1\n",
    "    \n",
    "    return count"
   ]
  },
  {
   "cell_type": "code",
   "execution_count": 39,
   "metadata": {},
   "outputs": [],
   "source": [
    "users_df['NY-NJ'] = users_df.apply(search_city, axis=1)"
   ]
  },
  {
   "cell_type": "code",
   "execution_count": 40,
   "metadata": {},
   "outputs": [
    {
     "data": {
      "text/plain": [
       "New York-Newark-Jersey City, NY-NJ-PA MSA    80\n",
       "Rochester, NY MSA                             3\n",
       "Buffalo-Cheektowaga, NY MSA                   2\n",
       "Albany-Schenectady-Troy, NY MSA               1\n",
       "Name: city, dtype: int64"
      ]
     },
     "execution_count": 40,
     "metadata": {},
     "output_type": "execute_result"
    }
   ],
   "source": [
    "users_df[users_df['NY-NJ'] == 1]['city'].value_counts()"
   ]
  },
  {
   "cell_type": "markdown",
   "metadata": {},
   "source": [
    "*Conclusion*: We saw that our target group is mostly gathered under `New York-Newark-Jersey City, NY-NJ-PA MSA` value, but noticed separate instances. So we've created a separate column by giving values of 1 for all users that we need for our target group. All others received 0 value. This way it will be easier for us to proceed with the research."
   ]
  },
  {
   "cell_type": "markdown",
   "metadata": {},
   "source": [
    "<a id=\"grouping\"></a>\n",
    "### Grouping the data"
   ]
  },
  {
   "cell_type": "markdown",
   "metadata": {},
   "source": [
    "1. At first, we'll create 3 dataframes from `calls_df`, `messages_df` and `inet_df` by grouping by user and by month. We'll get the totals of minutes, Mb, and numbers of calls, sessions and messages. We also want to rename the columns for them to better portray their current meaning. Before that, we'll round up minutes in `calls_df` as it is stated that even 1 second of any call is counted as a minute, from what we can conclude that rounding per Megaline's policy should be done daily and not once a month. "
   ]
  },
  {
   "cell_type": "code",
   "execution_count": 41,
   "metadata": {},
   "outputs": [],
   "source": [
    "calls_df['duration'] = np.ceil(calls_df['duration'])"
   ]
  },
  {
   "cell_type": "code",
   "execution_count": 42,
   "metadata": {},
   "outputs": [
    {
     "data": {
      "text/plain": [
       "0.0     26834\n",
       "1.0      5795\n",
       "2.0      6446\n",
       "3.0      6942\n",
       "4.0      7434\n",
       "5.0      7778\n",
       "6.0      7848\n",
       "7.0      7769\n",
       "8.0      7718\n",
       "9.0      7357\n",
       "10.0     6918\n",
       "11.0     6407\n",
       "12.0     5750\n",
       "13.0     5070\n",
       "14.0     4402\n",
       "15.0     3889\n",
       "16.0     3011\n",
       "17.0     2461\n",
       "18.0     1992\n",
       "19.0     1604\n",
       "20.0     1243\n",
       "21.0      910\n",
       "22.0      671\n",
       "23.0      461\n",
       "24.0      324\n",
       "25.0      235\n",
       "26.0      157\n",
       "27.0      118\n",
       "28.0       62\n",
       "29.0       58\n",
       "30.0       27\n",
       "31.0       18\n",
       "32.0       13\n",
       "33.0        6\n",
       "34.0        2\n",
       "36.0        3\n",
       "37.0        1\n",
       "38.0        1\n",
       "Name: duration, dtype: int64"
      ]
     },
     "execution_count": 42,
     "metadata": {},
     "output_type": "execute_result"
    }
   ],
   "source": [
    "calls_df['duration'].value_counts().sort_index()"
   ]
  },
  {
   "cell_type": "code",
   "execution_count": 43,
   "metadata": {},
   "outputs": [],
   "source": [
    "calls_grouped = calls_df.groupby(['user_id', 'month']).agg({'duration' : 'sum', 'call_date' : 'count'}).reset_index()"
   ]
  },
  {
   "cell_type": "code",
   "execution_count": 44,
   "metadata": {},
   "outputs": [],
   "source": [
    "calls_grouped.rename(columns = {'duration' : 'total_minutes', 'call_date' : 'n_calls'}, inplace=True)"
   ]
  },
  {
   "cell_type": "code",
   "execution_count": 45,
   "metadata": {},
   "outputs": [
    {
     "data": {
      "text/html": [
       "<div>\n",
       "<style scoped>\n",
       "    .dataframe tbody tr th:only-of-type {\n",
       "        vertical-align: middle;\n",
       "    }\n",
       "\n",
       "    .dataframe tbody tr th {\n",
       "        vertical-align: top;\n",
       "    }\n",
       "\n",
       "    .dataframe thead th {\n",
       "        text-align: right;\n",
       "    }\n",
       "</style>\n",
       "<table border=\"1\" class=\"dataframe\">\n",
       "  <thead>\n",
       "    <tr style=\"text-align: right;\">\n",
       "      <th></th>\n",
       "      <th>user_id</th>\n",
       "      <th>month</th>\n",
       "      <th>total_minutes</th>\n",
       "      <th>n_calls</th>\n",
       "    </tr>\n",
       "  </thead>\n",
       "  <tbody>\n",
       "    <tr>\n",
       "      <th>0</th>\n",
       "      <td>1000</td>\n",
       "      <td>12</td>\n",
       "      <td>124.0</td>\n",
       "      <td>16</td>\n",
       "    </tr>\n",
       "    <tr>\n",
       "      <th>1</th>\n",
       "      <td>1001</td>\n",
       "      <td>8</td>\n",
       "      <td>182.0</td>\n",
       "      <td>27</td>\n",
       "    </tr>\n",
       "    <tr>\n",
       "      <th>2</th>\n",
       "      <td>1001</td>\n",
       "      <td>9</td>\n",
       "      <td>315.0</td>\n",
       "      <td>49</td>\n",
       "    </tr>\n",
       "    <tr>\n",
       "      <th>3</th>\n",
       "      <td>1001</td>\n",
       "      <td>10</td>\n",
       "      <td>393.0</td>\n",
       "      <td>65</td>\n",
       "    </tr>\n",
       "    <tr>\n",
       "      <th>4</th>\n",
       "      <td>1001</td>\n",
       "      <td>11</td>\n",
       "      <td>426.0</td>\n",
       "      <td>64</td>\n",
       "    </tr>\n",
       "    <tr>\n",
       "      <th>...</th>\n",
       "      <td>...</td>\n",
       "      <td>...</td>\n",
       "      <td>...</td>\n",
       "      <td>...</td>\n",
       "    </tr>\n",
       "    <tr>\n",
       "      <th>2253</th>\n",
       "      <td>1498</td>\n",
       "      <td>12</td>\n",
       "      <td>339.0</td>\n",
       "      <td>39</td>\n",
       "    </tr>\n",
       "    <tr>\n",
       "      <th>2254</th>\n",
       "      <td>1499</td>\n",
       "      <td>9</td>\n",
       "      <td>346.0</td>\n",
       "      <td>41</td>\n",
       "    </tr>\n",
       "    <tr>\n",
       "      <th>2255</th>\n",
       "      <td>1499</td>\n",
       "      <td>10</td>\n",
       "      <td>385.0</td>\n",
       "      <td>53</td>\n",
       "    </tr>\n",
       "    <tr>\n",
       "      <th>2256</th>\n",
       "      <td>1499</td>\n",
       "      <td>11</td>\n",
       "      <td>308.0</td>\n",
       "      <td>45</td>\n",
       "    </tr>\n",
       "    <tr>\n",
       "      <th>2257</th>\n",
       "      <td>1499</td>\n",
       "      <td>12</td>\n",
       "      <td>496.0</td>\n",
       "      <td>65</td>\n",
       "    </tr>\n",
       "  </tbody>\n",
       "</table>\n",
       "<p>2258 rows × 4 columns</p>\n",
       "</div>"
      ],
      "text/plain": [
       "      user_id  month  total_minutes  n_calls\n",
       "0        1000     12          124.0       16\n",
       "1        1001      8          182.0       27\n",
       "2        1001      9          315.0       49\n",
       "3        1001     10          393.0       65\n",
       "4        1001     11          426.0       64\n",
       "...       ...    ...            ...      ...\n",
       "2253     1498     12          339.0       39\n",
       "2254     1499      9          346.0       41\n",
       "2255     1499     10          385.0       53\n",
       "2256     1499     11          308.0       45\n",
       "2257     1499     12          496.0       65\n",
       "\n",
       "[2258 rows x 4 columns]"
      ]
     },
     "execution_count": 45,
     "metadata": {},
     "output_type": "execute_result"
    }
   ],
   "source": [
    "calls_grouped"
   ]
  },
  {
   "cell_type": "code",
   "execution_count": 46,
   "metadata": {},
   "outputs": [],
   "source": [
    "inet_grouped = inet_df.groupby(['user_id', 'month']).agg({'mb_used' : 'sum', 'session_date' : 'count'}).reset_index()"
   ]
  },
  {
   "cell_type": "code",
   "execution_count": 47,
   "metadata": {},
   "outputs": [
    {
     "data": {
      "text/html": [
       "<div>\n",
       "<style scoped>\n",
       "    .dataframe tbody tr th:only-of-type {\n",
       "        vertical-align: middle;\n",
       "    }\n",
       "\n",
       "    .dataframe tbody tr th {\n",
       "        vertical-align: top;\n",
       "    }\n",
       "\n",
       "    .dataframe thead th {\n",
       "        text-align: right;\n",
       "    }\n",
       "</style>\n",
       "<table border=\"1\" class=\"dataframe\">\n",
       "  <thead>\n",
       "    <tr style=\"text-align: right;\">\n",
       "      <th></th>\n",
       "      <th>user_id</th>\n",
       "      <th>month</th>\n",
       "      <th>total_mb</th>\n",
       "      <th>n_sessions</th>\n",
       "    </tr>\n",
       "  </thead>\n",
       "  <tbody>\n",
       "    <tr>\n",
       "      <th>0</th>\n",
       "      <td>1000</td>\n",
       "      <td>12</td>\n",
       "      <td>1901.47</td>\n",
       "      <td>5</td>\n",
       "    </tr>\n",
       "    <tr>\n",
       "      <th>1</th>\n",
       "      <td>1001</td>\n",
       "      <td>8</td>\n",
       "      <td>6919.15</td>\n",
       "      <td>25</td>\n",
       "    </tr>\n",
       "    <tr>\n",
       "      <th>2</th>\n",
       "      <td>1001</td>\n",
       "      <td>9</td>\n",
       "      <td>13314.82</td>\n",
       "      <td>53</td>\n",
       "    </tr>\n",
       "    <tr>\n",
       "      <th>3</th>\n",
       "      <td>1001</td>\n",
       "      <td>10</td>\n",
       "      <td>22330.49</td>\n",
       "      <td>56</td>\n",
       "    </tr>\n",
       "    <tr>\n",
       "      <th>4</th>\n",
       "      <td>1001</td>\n",
       "      <td>11</td>\n",
       "      <td>18504.30</td>\n",
       "      <td>51</td>\n",
       "    </tr>\n",
       "    <tr>\n",
       "      <th>...</th>\n",
       "      <td>...</td>\n",
       "      <td>...</td>\n",
       "      <td>...</td>\n",
       "      <td>...</td>\n",
       "    </tr>\n",
       "    <tr>\n",
       "      <th>2272</th>\n",
       "      <td>1498</td>\n",
       "      <td>12</td>\n",
       "      <td>23137.69</td>\n",
       "      <td>65</td>\n",
       "    </tr>\n",
       "    <tr>\n",
       "      <th>2273</th>\n",
       "      <td>1499</td>\n",
       "      <td>9</td>\n",
       "      <td>12984.76</td>\n",
       "      <td>45</td>\n",
       "    </tr>\n",
       "    <tr>\n",
       "      <th>2274</th>\n",
       "      <td>1499</td>\n",
       "      <td>10</td>\n",
       "      <td>19492.43</td>\n",
       "      <td>61</td>\n",
       "    </tr>\n",
       "    <tr>\n",
       "      <th>2275</th>\n",
       "      <td>1499</td>\n",
       "      <td>11</td>\n",
       "      <td>16813.83</td>\n",
       "      <td>49</td>\n",
       "    </tr>\n",
       "    <tr>\n",
       "      <th>2276</th>\n",
       "      <td>1499</td>\n",
       "      <td>12</td>\n",
       "      <td>22059.21</td>\n",
       "      <td>65</td>\n",
       "    </tr>\n",
       "  </tbody>\n",
       "</table>\n",
       "<p>2277 rows × 4 columns</p>\n",
       "</div>"
      ],
      "text/plain": [
       "      user_id  month  total_mb  n_sessions\n",
       "0        1000     12   1901.47           5\n",
       "1        1001      8   6919.15          25\n",
       "2        1001      9  13314.82          53\n",
       "3        1001     10  22330.49          56\n",
       "4        1001     11  18504.30          51\n",
       "...       ...    ...       ...         ...\n",
       "2272     1498     12  23137.69          65\n",
       "2273     1499      9  12984.76          45\n",
       "2274     1499     10  19492.43          61\n",
       "2275     1499     11  16813.83          49\n",
       "2276     1499     12  22059.21          65\n",
       "\n",
       "[2277 rows x 4 columns]"
      ]
     },
     "execution_count": 47,
     "metadata": {},
     "output_type": "execute_result"
    }
   ],
   "source": [
    "inet_grouped.rename(columns={'mb_used':'total_mb', 'session_date':'n_sessions'}, inplace=True)\n",
    "inet_grouped"
   ]
  },
  {
   "cell_type": "code",
   "execution_count": 48,
   "metadata": {},
   "outputs": [],
   "source": [
    "sms_grouped = messages_df.groupby(['user_id', 'month'])['message_date'].agg('count').reset_index()"
   ]
  },
  {
   "cell_type": "code",
   "execution_count": 49,
   "metadata": {},
   "outputs": [
    {
     "data": {
      "text/html": [
       "<div>\n",
       "<style scoped>\n",
       "    .dataframe tbody tr th:only-of-type {\n",
       "        vertical-align: middle;\n",
       "    }\n",
       "\n",
       "    .dataframe tbody tr th {\n",
       "        vertical-align: top;\n",
       "    }\n",
       "\n",
       "    .dataframe thead th {\n",
       "        text-align: right;\n",
       "    }\n",
       "</style>\n",
       "<table border=\"1\" class=\"dataframe\">\n",
       "  <thead>\n",
       "    <tr style=\"text-align: right;\">\n",
       "      <th></th>\n",
       "      <th>user_id</th>\n",
       "      <th>month</th>\n",
       "      <th>n_sms</th>\n",
       "    </tr>\n",
       "  </thead>\n",
       "  <tbody>\n",
       "    <tr>\n",
       "      <th>0</th>\n",
       "      <td>1000</td>\n",
       "      <td>12</td>\n",
       "      <td>11</td>\n",
       "    </tr>\n",
       "    <tr>\n",
       "      <th>1</th>\n",
       "      <td>1001</td>\n",
       "      <td>8</td>\n",
       "      <td>30</td>\n",
       "    </tr>\n",
       "    <tr>\n",
       "      <th>2</th>\n",
       "      <td>1001</td>\n",
       "      <td>9</td>\n",
       "      <td>44</td>\n",
       "    </tr>\n",
       "    <tr>\n",
       "      <th>3</th>\n",
       "      <td>1001</td>\n",
       "      <td>10</td>\n",
       "      <td>53</td>\n",
       "    </tr>\n",
       "    <tr>\n",
       "      <th>4</th>\n",
       "      <td>1001</td>\n",
       "      <td>11</td>\n",
       "      <td>36</td>\n",
       "    </tr>\n",
       "    <tr>\n",
       "      <th>...</th>\n",
       "      <td>...</td>\n",
       "      <td>...</td>\n",
       "      <td>...</td>\n",
       "    </tr>\n",
       "    <tr>\n",
       "      <th>1801</th>\n",
       "      <td>1496</td>\n",
       "      <td>9</td>\n",
       "      <td>21</td>\n",
       "    </tr>\n",
       "    <tr>\n",
       "      <th>1802</th>\n",
       "      <td>1496</td>\n",
       "      <td>10</td>\n",
       "      <td>18</td>\n",
       "    </tr>\n",
       "    <tr>\n",
       "      <th>1803</th>\n",
       "      <td>1496</td>\n",
       "      <td>11</td>\n",
       "      <td>13</td>\n",
       "    </tr>\n",
       "    <tr>\n",
       "      <th>1804</th>\n",
       "      <td>1496</td>\n",
       "      <td>12</td>\n",
       "      <td>11</td>\n",
       "    </tr>\n",
       "    <tr>\n",
       "      <th>1805</th>\n",
       "      <td>1497</td>\n",
       "      <td>12</td>\n",
       "      <td>50</td>\n",
       "    </tr>\n",
       "  </tbody>\n",
       "</table>\n",
       "<p>1806 rows × 3 columns</p>\n",
       "</div>"
      ],
      "text/plain": [
       "      user_id  month  n_sms\n",
       "0        1000     12     11\n",
       "1        1001      8     30\n",
       "2        1001      9     44\n",
       "3        1001     10     53\n",
       "4        1001     11     36\n",
       "...       ...    ...    ...\n",
       "1801     1496      9     21\n",
       "1802     1496     10     18\n",
       "1803     1496     11     13\n",
       "1804     1496     12     11\n",
       "1805     1497     12     50\n",
       "\n",
       "[1806 rows x 3 columns]"
      ]
     },
     "execution_count": 49,
     "metadata": {},
     "output_type": "execute_result"
    }
   ],
   "source": [
    "sms_grouped.rename(columns={'message_date':'n_sms'}, inplace=True)\n",
    "sms_grouped"
   ]
  },
  {
   "cell_type": "markdown",
   "metadata": {},
   "source": [
    "Now we can convert Mb to Gb per month following Megaline's policy."
   ]
  },
  {
   "cell_type": "code",
   "execution_count": 50,
   "metadata": {},
   "outputs": [],
   "source": [
    "inet_grouped['total_gb'] = np.ceil(inet_grouped['total_mb'] / 1024)"
   ]
  },
  {
   "cell_type": "code",
   "execution_count": 51,
   "metadata": {},
   "outputs": [
    {
     "data": {
      "text/html": [
       "<div>\n",
       "<style scoped>\n",
       "    .dataframe tbody tr th:only-of-type {\n",
       "        vertical-align: middle;\n",
       "    }\n",
       "\n",
       "    .dataframe tbody tr th {\n",
       "        vertical-align: top;\n",
       "    }\n",
       "\n",
       "    .dataframe thead th {\n",
       "        text-align: right;\n",
       "    }\n",
       "</style>\n",
       "<table border=\"1\" class=\"dataframe\">\n",
       "  <thead>\n",
       "    <tr style=\"text-align: right;\">\n",
       "      <th></th>\n",
       "      <th>user_id</th>\n",
       "      <th>month</th>\n",
       "      <th>total_mb</th>\n",
       "      <th>n_sessions</th>\n",
       "      <th>total_gb</th>\n",
       "    </tr>\n",
       "  </thead>\n",
       "  <tbody>\n",
       "    <tr>\n",
       "      <th>0</th>\n",
       "      <td>1000</td>\n",
       "      <td>12</td>\n",
       "      <td>1901.47</td>\n",
       "      <td>5</td>\n",
       "      <td>2.0</td>\n",
       "    </tr>\n",
       "    <tr>\n",
       "      <th>1</th>\n",
       "      <td>1001</td>\n",
       "      <td>8</td>\n",
       "      <td>6919.15</td>\n",
       "      <td>25</td>\n",
       "      <td>7.0</td>\n",
       "    </tr>\n",
       "    <tr>\n",
       "      <th>2</th>\n",
       "      <td>1001</td>\n",
       "      <td>9</td>\n",
       "      <td>13314.82</td>\n",
       "      <td>53</td>\n",
       "      <td>14.0</td>\n",
       "    </tr>\n",
       "    <tr>\n",
       "      <th>3</th>\n",
       "      <td>1001</td>\n",
       "      <td>10</td>\n",
       "      <td>22330.49</td>\n",
       "      <td>56</td>\n",
       "      <td>22.0</td>\n",
       "    </tr>\n",
       "    <tr>\n",
       "      <th>4</th>\n",
       "      <td>1001</td>\n",
       "      <td>11</td>\n",
       "      <td>18504.30</td>\n",
       "      <td>51</td>\n",
       "      <td>19.0</td>\n",
       "    </tr>\n",
       "  </tbody>\n",
       "</table>\n",
       "</div>"
      ],
      "text/plain": [
       "   user_id  month  total_mb  n_sessions  total_gb\n",
       "0     1000     12   1901.47           5       2.0\n",
       "1     1001      8   6919.15          25       7.0\n",
       "2     1001      9  13314.82          53      14.0\n",
       "3     1001     10  22330.49          56      22.0\n",
       "4     1001     11  18504.30          51      19.0"
      ]
     },
     "execution_count": 51,
     "metadata": {},
     "output_type": "execute_result"
    }
   ],
   "source": [
    "inet_grouped.head()"
   ]
  },
  {
   "cell_type": "markdown",
   "metadata": {},
   "source": [
    "2. As our second step, we'll create one database containing all the information we have on all users needed for research. For this we'll use merge method, specifying 'outer' merging, as there's a big chance that databases that we have contain unique ids of people who use the plans only partialy (for example, don't use sms at all).\n",
    "\n",
    "We'll use `reduce` function from `functools` library to merge all the datasets together at once."
   ]
  },
  {
   "cell_type": "code",
   "execution_count": 52,
   "metadata": {},
   "outputs": [],
   "source": [
    "groups_listed = [calls_grouped, sms_grouped, inet_grouped]\n",
    "\n",
    "final_data = reduce(lambda left, right : pd.merge(\n",
    "    left, right, how='outer', on=['user_id', 'month']).fillna(0), groups_listed)"
   ]
  },
  {
   "cell_type": "code",
   "execution_count": 53,
   "metadata": {},
   "outputs": [
    {
     "data": {
      "text/plain": [
       "2293"
      ]
     },
     "execution_count": 53,
     "metadata": {},
     "output_type": "execute_result"
    }
   ],
   "source": [
    "len(final_data)"
   ]
  },
  {
   "cell_type": "code",
   "execution_count": 54,
   "metadata": {},
   "outputs": [
    {
     "data": {
      "text/html": [
       "<div>\n",
       "<style scoped>\n",
       "    .dataframe tbody tr th:only-of-type {\n",
       "        vertical-align: middle;\n",
       "    }\n",
       "\n",
       "    .dataframe tbody tr th {\n",
       "        vertical-align: top;\n",
       "    }\n",
       "\n",
       "    .dataframe thead th {\n",
       "        text-align: right;\n",
       "    }\n",
       "</style>\n",
       "<table border=\"1\" class=\"dataframe\">\n",
       "  <thead>\n",
       "    <tr style=\"text-align: right;\">\n",
       "      <th></th>\n",
       "      <th>user_id</th>\n",
       "      <th>month</th>\n",
       "      <th>total_minutes</th>\n",
       "      <th>n_calls</th>\n",
       "      <th>n_sms</th>\n",
       "      <th>total_mb</th>\n",
       "      <th>n_sessions</th>\n",
       "      <th>total_gb</th>\n",
       "    </tr>\n",
       "  </thead>\n",
       "  <tbody>\n",
       "    <tr>\n",
       "      <th>0</th>\n",
       "      <td>1000</td>\n",
       "      <td>12</td>\n",
       "      <td>124.0</td>\n",
       "      <td>16.0</td>\n",
       "      <td>11.0</td>\n",
       "      <td>1901.47</td>\n",
       "      <td>5.0</td>\n",
       "      <td>2.0</td>\n",
       "    </tr>\n",
       "    <tr>\n",
       "      <th>1</th>\n",
       "      <td>1001</td>\n",
       "      <td>8</td>\n",
       "      <td>182.0</td>\n",
       "      <td>27.0</td>\n",
       "      <td>30.0</td>\n",
       "      <td>6919.15</td>\n",
       "      <td>25.0</td>\n",
       "      <td>7.0</td>\n",
       "    </tr>\n",
       "    <tr>\n",
       "      <th>2</th>\n",
       "      <td>1001</td>\n",
       "      <td>9</td>\n",
       "      <td>315.0</td>\n",
       "      <td>49.0</td>\n",
       "      <td>44.0</td>\n",
       "      <td>13314.82</td>\n",
       "      <td>53.0</td>\n",
       "      <td>14.0</td>\n",
       "    </tr>\n",
       "    <tr>\n",
       "      <th>3</th>\n",
       "      <td>1001</td>\n",
       "      <td>10</td>\n",
       "      <td>393.0</td>\n",
       "      <td>65.0</td>\n",
       "      <td>53.0</td>\n",
       "      <td>22330.49</td>\n",
       "      <td>56.0</td>\n",
       "      <td>22.0</td>\n",
       "    </tr>\n",
       "    <tr>\n",
       "      <th>4</th>\n",
       "      <td>1001</td>\n",
       "      <td>11</td>\n",
       "      <td>426.0</td>\n",
       "      <td>64.0</td>\n",
       "      <td>36.0</td>\n",
       "      <td>18504.30</td>\n",
       "      <td>51.0</td>\n",
       "      <td>19.0</td>\n",
       "    </tr>\n",
       "    <tr>\n",
       "      <th>5</th>\n",
       "      <td>1001</td>\n",
       "      <td>12</td>\n",
       "      <td>412.0</td>\n",
       "      <td>56.0</td>\n",
       "      <td>44.0</td>\n",
       "      <td>19369.18</td>\n",
       "      <td>60.0</td>\n",
       "      <td>19.0</td>\n",
       "    </tr>\n",
       "    <tr>\n",
       "      <th>6</th>\n",
       "      <td>1002</td>\n",
       "      <td>10</td>\n",
       "      <td>59.0</td>\n",
       "      <td>11.0</td>\n",
       "      <td>15.0</td>\n",
       "      <td>6552.01</td>\n",
       "      <td>21.0</td>\n",
       "      <td>7.0</td>\n",
       "    </tr>\n",
       "    <tr>\n",
       "      <th>7</th>\n",
       "      <td>1002</td>\n",
       "      <td>11</td>\n",
       "      <td>386.0</td>\n",
       "      <td>55.0</td>\n",
       "      <td>32.0</td>\n",
       "      <td>19345.08</td>\n",
       "      <td>52.0</td>\n",
       "      <td>19.0</td>\n",
       "    </tr>\n",
       "    <tr>\n",
       "      <th>8</th>\n",
       "      <td>1002</td>\n",
       "      <td>12</td>\n",
       "      <td>384.0</td>\n",
       "      <td>47.0</td>\n",
       "      <td>41.0</td>\n",
       "      <td>14396.24</td>\n",
       "      <td>51.0</td>\n",
       "      <td>15.0</td>\n",
       "    </tr>\n",
       "    <tr>\n",
       "      <th>9</th>\n",
       "      <td>1003</td>\n",
       "      <td>12</td>\n",
       "      <td>1104.0</td>\n",
       "      <td>149.0</td>\n",
       "      <td>50.0</td>\n",
       "      <td>27044.14</td>\n",
       "      <td>52.0</td>\n",
       "      <td>27.0</td>\n",
       "    </tr>\n",
       "  </tbody>\n",
       "</table>\n",
       "</div>"
      ],
      "text/plain": [
       "   user_id  month  total_minutes  n_calls  n_sms  total_mb  n_sessions  \\\n",
       "0     1000     12          124.0     16.0   11.0   1901.47         5.0   \n",
       "1     1001      8          182.0     27.0   30.0   6919.15        25.0   \n",
       "2     1001      9          315.0     49.0   44.0  13314.82        53.0   \n",
       "3     1001     10          393.0     65.0   53.0  22330.49        56.0   \n",
       "4     1001     11          426.0     64.0   36.0  18504.30        51.0   \n",
       "5     1001     12          412.0     56.0   44.0  19369.18        60.0   \n",
       "6     1002     10           59.0     11.0   15.0   6552.01        21.0   \n",
       "7     1002     11          386.0     55.0   32.0  19345.08        52.0   \n",
       "8     1002     12          384.0     47.0   41.0  14396.24        51.0   \n",
       "9     1003     12         1104.0    149.0   50.0  27044.14        52.0   \n",
       "\n",
       "   total_gb  \n",
       "0       2.0  \n",
       "1       7.0  \n",
       "2      14.0  \n",
       "3      22.0  \n",
       "4      19.0  \n",
       "5      19.0  \n",
       "6       7.0  \n",
       "7      19.0  \n",
       "8      15.0  \n",
       "9      27.0  "
      ]
     },
     "execution_count": 54,
     "metadata": {},
     "output_type": "execute_result"
    }
   ],
   "source": [
    "final_data.head(10)"
   ]
  },
  {
   "cell_type": "markdown",
   "metadata": {},
   "source": [
    "Finally we're going to add user information, such as the plan and the city that we need for the analysis."
   ]
  },
  {
   "cell_type": "code",
   "execution_count": 55,
   "metadata": {},
   "outputs": [],
   "source": [
    "final_data = final_data.merge(users_df, on='user_id', how='left')"
   ]
  },
  {
   "cell_type": "code",
   "execution_count": 56,
   "metadata": {},
   "outputs": [
    {
     "data": {
      "text/html": [
       "<div>\n",
       "<style scoped>\n",
       "    .dataframe tbody tr th:only-of-type {\n",
       "        vertical-align: middle;\n",
       "    }\n",
       "\n",
       "    .dataframe tbody tr th {\n",
       "        vertical-align: top;\n",
       "    }\n",
       "\n",
       "    .dataframe thead th {\n",
       "        text-align: right;\n",
       "    }\n",
       "</style>\n",
       "<table border=\"1\" class=\"dataframe\">\n",
       "  <thead>\n",
       "    <tr style=\"text-align: right;\">\n",
       "      <th></th>\n",
       "      <th>0</th>\n",
       "      <th>1</th>\n",
       "      <th>2</th>\n",
       "      <th>3</th>\n",
       "      <th>4</th>\n",
       "      <th>5</th>\n",
       "      <th>6</th>\n",
       "      <th>7</th>\n",
       "      <th>8</th>\n",
       "      <th>9</th>\n",
       "      <th>...</th>\n",
       "      <th>2283</th>\n",
       "      <th>2284</th>\n",
       "      <th>2285</th>\n",
       "      <th>2286</th>\n",
       "      <th>2287</th>\n",
       "      <th>2288</th>\n",
       "      <th>2289</th>\n",
       "      <th>2290</th>\n",
       "      <th>2291</th>\n",
       "      <th>2292</th>\n",
       "    </tr>\n",
       "  </thead>\n",
       "  <tbody>\n",
       "    <tr>\n",
       "      <th>user_id</th>\n",
       "      <td>1000</td>\n",
       "      <td>1001</td>\n",
       "      <td>1001</td>\n",
       "      <td>1001</td>\n",
       "      <td>1001</td>\n",
       "      <td>1001</td>\n",
       "      <td>1002</td>\n",
       "      <td>1002</td>\n",
       "      <td>1002</td>\n",
       "      <td>1003</td>\n",
       "      <td>...</td>\n",
       "      <td>1204</td>\n",
       "      <td>1204</td>\n",
       "      <td>1224</td>\n",
       "      <td>1349</td>\n",
       "      <td>1349</td>\n",
       "      <td>1349</td>\n",
       "      <td>1361</td>\n",
       "      <td>1482</td>\n",
       "      <td>1108</td>\n",
       "      <td>1311</td>\n",
       "    </tr>\n",
       "    <tr>\n",
       "      <th>month</th>\n",
       "      <td>12</td>\n",
       "      <td>8</td>\n",
       "      <td>9</td>\n",
       "      <td>10</td>\n",
       "      <td>11</td>\n",
       "      <td>12</td>\n",
       "      <td>10</td>\n",
       "      <td>11</td>\n",
       "      <td>12</td>\n",
       "      <td>12</td>\n",
       "      <td>...</td>\n",
       "      <td>11</td>\n",
       "      <td>12</td>\n",
       "      <td>6</td>\n",
       "      <td>10</td>\n",
       "      <td>11</td>\n",
       "      <td>12</td>\n",
       "      <td>5</td>\n",
       "      <td>10</td>\n",
       "      <td>12</td>\n",
       "      <td>6</td>\n",
       "    </tr>\n",
       "    <tr>\n",
       "      <th>total_minutes</th>\n",
       "      <td>124.0</td>\n",
       "      <td>182.0</td>\n",
       "      <td>315.0</td>\n",
       "      <td>393.0</td>\n",
       "      <td>426.0</td>\n",
       "      <td>412.0</td>\n",
       "      <td>59.0</td>\n",
       "      <td>386.0</td>\n",
       "      <td>384.0</td>\n",
       "      <td>1104.0</td>\n",
       "      <td>...</td>\n",
       "      <td>0.0</td>\n",
       "      <td>0.0</td>\n",
       "      <td>0.0</td>\n",
       "      <td>0.0</td>\n",
       "      <td>0.0</td>\n",
       "      <td>0.0</td>\n",
       "      <td>0.0</td>\n",
       "      <td>0.0</td>\n",
       "      <td>0.0</td>\n",
       "      <td>0.0</td>\n",
       "    </tr>\n",
       "    <tr>\n",
       "      <th>n_calls</th>\n",
       "      <td>16.0</td>\n",
       "      <td>27.0</td>\n",
       "      <td>49.0</td>\n",
       "      <td>65.0</td>\n",
       "      <td>64.0</td>\n",
       "      <td>56.0</td>\n",
       "      <td>11.0</td>\n",
       "      <td>55.0</td>\n",
       "      <td>47.0</td>\n",
       "      <td>149.0</td>\n",
       "      <td>...</td>\n",
       "      <td>0.0</td>\n",
       "      <td>0.0</td>\n",
       "      <td>0.0</td>\n",
       "      <td>0.0</td>\n",
       "      <td>0.0</td>\n",
       "      <td>0.0</td>\n",
       "      <td>0.0</td>\n",
       "      <td>0.0</td>\n",
       "      <td>0.0</td>\n",
       "      <td>0.0</td>\n",
       "    </tr>\n",
       "    <tr>\n",
       "      <th>n_sms</th>\n",
       "      <td>11.0</td>\n",
       "      <td>30.0</td>\n",
       "      <td>44.0</td>\n",
       "      <td>53.0</td>\n",
       "      <td>36.0</td>\n",
       "      <td>44.0</td>\n",
       "      <td>15.0</td>\n",
       "      <td>32.0</td>\n",
       "      <td>41.0</td>\n",
       "      <td>50.0</td>\n",
       "      <td>...</td>\n",
       "      <td>42.0</td>\n",
       "      <td>78.0</td>\n",
       "      <td>5.0</td>\n",
       "      <td>76.0</td>\n",
       "      <td>72.0</td>\n",
       "      <td>61.0</td>\n",
       "      <td>2.0</td>\n",
       "      <td>2.0</td>\n",
       "      <td>0.0</td>\n",
       "      <td>0.0</td>\n",
       "    </tr>\n",
       "    <tr>\n",
       "      <th>total_mb</th>\n",
       "      <td>1901.47</td>\n",
       "      <td>6919.15</td>\n",
       "      <td>13314.82</td>\n",
       "      <td>22330.49</td>\n",
       "      <td>18504.3</td>\n",
       "      <td>19369.18</td>\n",
       "      <td>6552.01</td>\n",
       "      <td>19345.08</td>\n",
       "      <td>14396.24</td>\n",
       "      <td>27044.14</td>\n",
       "      <td>...</td>\n",
       "      <td>21346.95</td>\n",
       "      <td>36730.05</td>\n",
       "      <td>2966.21</td>\n",
       "      <td>13093.55</td>\n",
       "      <td>17128.26</td>\n",
       "      <td>13039.91</td>\n",
       "      <td>1519.69</td>\n",
       "      <td>0.0</td>\n",
       "      <td>233.17</td>\n",
       "      <td>1498.83</td>\n",
       "    </tr>\n",
       "    <tr>\n",
       "      <th>n_sessions</th>\n",
       "      <td>5.0</td>\n",
       "      <td>25.0</td>\n",
       "      <td>53.0</td>\n",
       "      <td>56.0</td>\n",
       "      <td>51.0</td>\n",
       "      <td>60.0</td>\n",
       "      <td>21.0</td>\n",
       "      <td>52.0</td>\n",
       "      <td>51.0</td>\n",
       "      <td>52.0</td>\n",
       "      <td>...</td>\n",
       "      <td>38.0</td>\n",
       "      <td>80.0</td>\n",
       "      <td>4.0</td>\n",
       "      <td>26.0</td>\n",
       "      <td>32.0</td>\n",
       "      <td>27.0</td>\n",
       "      <td>9.0</td>\n",
       "      <td>0.0</td>\n",
       "      <td>2.0</td>\n",
       "      <td>9.0</td>\n",
       "    </tr>\n",
       "    <tr>\n",
       "      <th>total_gb</th>\n",
       "      <td>2.0</td>\n",
       "      <td>7.0</td>\n",
       "      <td>14.0</td>\n",
       "      <td>22.0</td>\n",
       "      <td>19.0</td>\n",
       "      <td>19.0</td>\n",
       "      <td>7.0</td>\n",
       "      <td>19.0</td>\n",
       "      <td>15.0</td>\n",
       "      <td>27.0</td>\n",
       "      <td>...</td>\n",
       "      <td>21.0</td>\n",
       "      <td>36.0</td>\n",
       "      <td>3.0</td>\n",
       "      <td>13.0</td>\n",
       "      <td>17.0</td>\n",
       "      <td>13.0</td>\n",
       "      <td>2.0</td>\n",
       "      <td>0.0</td>\n",
       "      <td>1.0</td>\n",
       "      <td>2.0</td>\n",
       "    </tr>\n",
       "    <tr>\n",
       "      <th>first_name</th>\n",
       "      <td>Anamaria</td>\n",
       "      <td>Mickey</td>\n",
       "      <td>Mickey</td>\n",
       "      <td>Mickey</td>\n",
       "      <td>Mickey</td>\n",
       "      <td>Mickey</td>\n",
       "      <td>Carlee</td>\n",
       "      <td>Carlee</td>\n",
       "      <td>Carlee</td>\n",
       "      <td>Reynaldo</td>\n",
       "      <td>...</td>\n",
       "      <td>Sherly</td>\n",
       "      <td>Sherly</td>\n",
       "      <td>Kelly</td>\n",
       "      <td>Florentina</td>\n",
       "      <td>Florentina</td>\n",
       "      <td>Florentina</td>\n",
       "      <td>Jacelyn</td>\n",
       "      <td>Armand</td>\n",
       "      <td>Porfirio</td>\n",
       "      <td>Cherlyn</td>\n",
       "    </tr>\n",
       "    <tr>\n",
       "      <th>last_name</th>\n",
       "      <td>Bauer</td>\n",
       "      <td>Wilkerson</td>\n",
       "      <td>Wilkerson</td>\n",
       "      <td>Wilkerson</td>\n",
       "      <td>Wilkerson</td>\n",
       "      <td>Wilkerson</td>\n",
       "      <td>Hoffman</td>\n",
       "      <td>Hoffman</td>\n",
       "      <td>Hoffman</td>\n",
       "      <td>Jenkins</td>\n",
       "      <td>...</td>\n",
       "      <td>Levy</td>\n",
       "      <td>Levy</td>\n",
       "      <td>Cole</td>\n",
       "      <td>Diaz</td>\n",
       "      <td>Diaz</td>\n",
       "      <td>Diaz</td>\n",
       "      <td>Hoffman</td>\n",
       "      <td>Glenn</td>\n",
       "      <td>Kane</td>\n",
       "      <td>Saunders</td>\n",
       "    </tr>\n",
       "    <tr>\n",
       "      <th>age</th>\n",
       "      <td>45</td>\n",
       "      <td>28</td>\n",
       "      <td>28</td>\n",
       "      <td>28</td>\n",
       "      <td>28</td>\n",
       "      <td>28</td>\n",
       "      <td>36</td>\n",
       "      <td>36</td>\n",
       "      <td>36</td>\n",
       "      <td>52</td>\n",
       "      <td>...</td>\n",
       "      <td>44</td>\n",
       "      <td>44</td>\n",
       "      <td>74</td>\n",
       "      <td>69</td>\n",
       "      <td>69</td>\n",
       "      <td>69</td>\n",
       "      <td>45</td>\n",
       "      <td>70</td>\n",
       "      <td>45</td>\n",
       "      <td>69</td>\n",
       "    </tr>\n",
       "    <tr>\n",
       "      <th>city</th>\n",
       "      <td>Atlanta-Sandy Springs-Roswell, GA MSA</td>\n",
       "      <td>Seattle-Tacoma-Bellevue, WA MSA</td>\n",
       "      <td>Seattle-Tacoma-Bellevue, WA MSA</td>\n",
       "      <td>Seattle-Tacoma-Bellevue, WA MSA</td>\n",
       "      <td>Seattle-Tacoma-Bellevue, WA MSA</td>\n",
       "      <td>Seattle-Tacoma-Bellevue, WA MSA</td>\n",
       "      <td>Las Vegas-Henderson-Paradise, NV MSA</td>\n",
       "      <td>Las Vegas-Henderson-Paradise, NV MSA</td>\n",
       "      <td>Las Vegas-Henderson-Paradise, NV MSA</td>\n",
       "      <td>Tulsa, OK MSA</td>\n",
       "      <td>...</td>\n",
       "      <td>Chicago-Naperville-Elgin, IL-IN-WI MSA</td>\n",
       "      <td>Chicago-Naperville-Elgin, IL-IN-WI MSA</td>\n",
       "      <td>Atlanta-Sandy Springs-Roswell, GA MSA</td>\n",
       "      <td>Boston-Cambridge-Newton, MA-NH MSA</td>\n",
       "      <td>Boston-Cambridge-Newton, MA-NH MSA</td>\n",
       "      <td>Boston-Cambridge-Newton, MA-NH MSA</td>\n",
       "      <td>Birmingham-Hoover, AL MSA</td>\n",
       "      <td>New York-Newark-Jersey City, NY-NJ-PA MSA</td>\n",
       "      <td>Salt Lake City, UT MSA</td>\n",
       "      <td>Memphis, TN-MS-AR MSA</td>\n",
       "    </tr>\n",
       "    <tr>\n",
       "      <th>reg_date</th>\n",
       "      <td>2018-12-24</td>\n",
       "      <td>2018-08-13</td>\n",
       "      <td>2018-08-13</td>\n",
       "      <td>2018-08-13</td>\n",
       "      <td>2018-08-13</td>\n",
       "      <td>2018-08-13</td>\n",
       "      <td>2018-10-21</td>\n",
       "      <td>2018-10-21</td>\n",
       "      <td>2018-10-21</td>\n",
       "      <td>2018-01-28</td>\n",
       "      <td>...</td>\n",
       "      <td>2018-08-20</td>\n",
       "      <td>2018-08-20</td>\n",
       "      <td>2018-06-28</td>\n",
       "      <td>2018-10-01</td>\n",
       "      <td>2018-10-01</td>\n",
       "      <td>2018-10-01</td>\n",
       "      <td>2018-04-14</td>\n",
       "      <td>2018-01-01</td>\n",
       "      <td>2018-12-30</td>\n",
       "      <td>2018-06-27</td>\n",
       "    </tr>\n",
       "    <tr>\n",
       "      <th>plan</th>\n",
       "      <td>ultimate</td>\n",
       "      <td>surf</td>\n",
       "      <td>surf</td>\n",
       "      <td>surf</td>\n",
       "      <td>surf</td>\n",
       "      <td>surf</td>\n",
       "      <td>surf</td>\n",
       "      <td>surf</td>\n",
       "      <td>surf</td>\n",
       "      <td>surf</td>\n",
       "      <td>...</td>\n",
       "      <td>ultimate</td>\n",
       "      <td>ultimate</td>\n",
       "      <td>ultimate</td>\n",
       "      <td>surf</td>\n",
       "      <td>surf</td>\n",
       "      <td>surf</td>\n",
       "      <td>surf</td>\n",
       "      <td>ultimate</td>\n",
       "      <td>ultimate</td>\n",
       "      <td>ultimate</td>\n",
       "    </tr>\n",
       "    <tr>\n",
       "      <th>churn_date</th>\n",
       "      <td>NaN</td>\n",
       "      <td>NaN</td>\n",
       "      <td>NaN</td>\n",
       "      <td>NaN</td>\n",
       "      <td>NaN</td>\n",
       "      <td>NaN</td>\n",
       "      <td>NaN</td>\n",
       "      <td>NaN</td>\n",
       "      <td>NaN</td>\n",
       "      <td>NaN</td>\n",
       "      <td>...</td>\n",
       "      <td>NaN</td>\n",
       "      <td>NaN</td>\n",
       "      <td>NaN</td>\n",
       "      <td>NaN</td>\n",
       "      <td>NaN</td>\n",
       "      <td>NaN</td>\n",
       "      <td>NaN</td>\n",
       "      <td>NaN</td>\n",
       "      <td>NaN</td>\n",
       "      <td>NaN</td>\n",
       "    </tr>\n",
       "    <tr>\n",
       "      <th>NY-NJ</th>\n",
       "      <td>0</td>\n",
       "      <td>0</td>\n",
       "      <td>0</td>\n",
       "      <td>0</td>\n",
       "      <td>0</td>\n",
       "      <td>0</td>\n",
       "      <td>0</td>\n",
       "      <td>0</td>\n",
       "      <td>0</td>\n",
       "      <td>0</td>\n",
       "      <td>...</td>\n",
       "      <td>0</td>\n",
       "      <td>0</td>\n",
       "      <td>0</td>\n",
       "      <td>0</td>\n",
       "      <td>0</td>\n",
       "      <td>0</td>\n",
       "      <td>0</td>\n",
       "      <td>1</td>\n",
       "      <td>0</td>\n",
       "      <td>0</td>\n",
       "    </tr>\n",
       "  </tbody>\n",
       "</table>\n",
       "<p>16 rows × 2293 columns</p>\n",
       "</div>"
      ],
      "text/plain": [
       "                                                0     \\\n",
       "user_id                                         1000   \n",
       "month                                             12   \n",
       "total_minutes                                  124.0   \n",
       "n_calls                                         16.0   \n",
       "n_sms                                           11.0   \n",
       "total_mb                                     1901.47   \n",
       "n_sessions                                       5.0   \n",
       "total_gb                                         2.0   \n",
       "first_name                                  Anamaria   \n",
       "last_name                                      Bauer   \n",
       "age                                               45   \n",
       "city           Atlanta-Sandy Springs-Roswell, GA MSA   \n",
       "reg_date                                  2018-12-24   \n",
       "plan                                        ultimate   \n",
       "churn_date                                       NaN   \n",
       "NY-NJ                                              0   \n",
       "\n",
       "                                          1     \\\n",
       "user_id                                   1001   \n",
       "month                                        8   \n",
       "total_minutes                            182.0   \n",
       "n_calls                                   27.0   \n",
       "n_sms                                     30.0   \n",
       "total_mb                               6919.15   \n",
       "n_sessions                                25.0   \n",
       "total_gb                                   7.0   \n",
       "first_name                              Mickey   \n",
       "last_name                            Wilkerson   \n",
       "age                                         28   \n",
       "city           Seattle-Tacoma-Bellevue, WA MSA   \n",
       "reg_date                            2018-08-13   \n",
       "plan                                      surf   \n",
       "churn_date                                 NaN   \n",
       "NY-NJ                                        0   \n",
       "\n",
       "                                          2     \\\n",
       "user_id                                   1001   \n",
       "month                                        9   \n",
       "total_minutes                            315.0   \n",
       "n_calls                                   49.0   \n",
       "n_sms                                     44.0   \n",
       "total_mb                              13314.82   \n",
       "n_sessions                                53.0   \n",
       "total_gb                                  14.0   \n",
       "first_name                              Mickey   \n",
       "last_name                            Wilkerson   \n",
       "age                                         28   \n",
       "city           Seattle-Tacoma-Bellevue, WA MSA   \n",
       "reg_date                            2018-08-13   \n",
       "plan                                      surf   \n",
       "churn_date                                 NaN   \n",
       "NY-NJ                                        0   \n",
       "\n",
       "                                          3     \\\n",
       "user_id                                   1001   \n",
       "month                                       10   \n",
       "total_minutes                            393.0   \n",
       "n_calls                                   65.0   \n",
       "n_sms                                     53.0   \n",
       "total_mb                              22330.49   \n",
       "n_sessions                                56.0   \n",
       "total_gb                                  22.0   \n",
       "first_name                              Mickey   \n",
       "last_name                            Wilkerson   \n",
       "age                                         28   \n",
       "city           Seattle-Tacoma-Bellevue, WA MSA   \n",
       "reg_date                            2018-08-13   \n",
       "plan                                      surf   \n",
       "churn_date                                 NaN   \n",
       "NY-NJ                                        0   \n",
       "\n",
       "                                          4     \\\n",
       "user_id                                   1001   \n",
       "month                                       11   \n",
       "total_minutes                            426.0   \n",
       "n_calls                                   64.0   \n",
       "n_sms                                     36.0   \n",
       "total_mb                               18504.3   \n",
       "n_sessions                                51.0   \n",
       "total_gb                                  19.0   \n",
       "first_name                              Mickey   \n",
       "last_name                            Wilkerson   \n",
       "age                                         28   \n",
       "city           Seattle-Tacoma-Bellevue, WA MSA   \n",
       "reg_date                            2018-08-13   \n",
       "plan                                      surf   \n",
       "churn_date                                 NaN   \n",
       "NY-NJ                                        0   \n",
       "\n",
       "                                          5     \\\n",
       "user_id                                   1001   \n",
       "month                                       12   \n",
       "total_minutes                            412.0   \n",
       "n_calls                                   56.0   \n",
       "n_sms                                     44.0   \n",
       "total_mb                              19369.18   \n",
       "n_sessions                                60.0   \n",
       "total_gb                                  19.0   \n",
       "first_name                              Mickey   \n",
       "last_name                            Wilkerson   \n",
       "age                                         28   \n",
       "city           Seattle-Tacoma-Bellevue, WA MSA   \n",
       "reg_date                            2018-08-13   \n",
       "plan                                      surf   \n",
       "churn_date                                 NaN   \n",
       "NY-NJ                                        0   \n",
       "\n",
       "                                               6     \\\n",
       "user_id                                        1002   \n",
       "month                                            10   \n",
       "total_minutes                                  59.0   \n",
       "n_calls                                        11.0   \n",
       "n_sms                                          15.0   \n",
       "total_mb                                    6552.01   \n",
       "n_sessions                                     21.0   \n",
       "total_gb                                        7.0   \n",
       "first_name                                   Carlee   \n",
       "last_name                                   Hoffman   \n",
       "age                                              36   \n",
       "city           Las Vegas-Henderson-Paradise, NV MSA   \n",
       "reg_date                                 2018-10-21   \n",
       "plan                                           surf   \n",
       "churn_date                                      NaN   \n",
       "NY-NJ                                             0   \n",
       "\n",
       "                                               7     \\\n",
       "user_id                                        1002   \n",
       "month                                            11   \n",
       "total_minutes                                 386.0   \n",
       "n_calls                                        55.0   \n",
       "n_sms                                          32.0   \n",
       "total_mb                                   19345.08   \n",
       "n_sessions                                     52.0   \n",
       "total_gb                                       19.0   \n",
       "first_name                                   Carlee   \n",
       "last_name                                   Hoffman   \n",
       "age                                              36   \n",
       "city           Las Vegas-Henderson-Paradise, NV MSA   \n",
       "reg_date                                 2018-10-21   \n",
       "plan                                           surf   \n",
       "churn_date                                      NaN   \n",
       "NY-NJ                                             0   \n",
       "\n",
       "                                               8              9     ...  \\\n",
       "user_id                                        1002           1003  ...   \n",
       "month                                            12             12  ...   \n",
       "total_minutes                                 384.0         1104.0  ...   \n",
       "n_calls                                        47.0          149.0  ...   \n",
       "n_sms                                          41.0           50.0  ...   \n",
       "total_mb                                   14396.24       27044.14  ...   \n",
       "n_sessions                                     51.0           52.0  ...   \n",
       "total_gb                                       15.0           27.0  ...   \n",
       "first_name                                   Carlee       Reynaldo  ...   \n",
       "last_name                                   Hoffman        Jenkins  ...   \n",
       "age                                              36             52  ...   \n",
       "city           Las Vegas-Henderson-Paradise, NV MSA  Tulsa, OK MSA  ...   \n",
       "reg_date                                 2018-10-21     2018-01-28  ...   \n",
       "plan                                           surf           surf  ...   \n",
       "churn_date                                      NaN            NaN  ...   \n",
       "NY-NJ                                             0              0  ...   \n",
       "\n",
       "                                                 2283  \\\n",
       "user_id                                          1204   \n",
       "month                                              11   \n",
       "total_minutes                                     0.0   \n",
       "n_calls                                           0.0   \n",
       "n_sms                                            42.0   \n",
       "total_mb                                     21346.95   \n",
       "n_sessions                                       38.0   \n",
       "total_gb                                         21.0   \n",
       "first_name                                     Sherly   \n",
       "last_name                                        Levy   \n",
       "age                                                44   \n",
       "city           Chicago-Naperville-Elgin, IL-IN-WI MSA   \n",
       "reg_date                                   2018-08-20   \n",
       "plan                                         ultimate   \n",
       "churn_date                                        NaN   \n",
       "NY-NJ                                               0   \n",
       "\n",
       "                                                 2284  \\\n",
       "user_id                                          1204   \n",
       "month                                              12   \n",
       "total_minutes                                     0.0   \n",
       "n_calls                                           0.0   \n",
       "n_sms                                            78.0   \n",
       "total_mb                                     36730.05   \n",
       "n_sessions                                       80.0   \n",
       "total_gb                                         36.0   \n",
       "first_name                                     Sherly   \n",
       "last_name                                        Levy   \n",
       "age                                                44   \n",
       "city           Chicago-Naperville-Elgin, IL-IN-WI MSA   \n",
       "reg_date                                   2018-08-20   \n",
       "plan                                         ultimate   \n",
       "churn_date                                        NaN   \n",
       "NY-NJ                                               0   \n",
       "\n",
       "                                                2285  \\\n",
       "user_id                                         1224   \n",
       "month                                              6   \n",
       "total_minutes                                    0.0   \n",
       "n_calls                                          0.0   \n",
       "n_sms                                            5.0   \n",
       "total_mb                                     2966.21   \n",
       "n_sessions                                       4.0   \n",
       "total_gb                                         3.0   \n",
       "first_name                                     Kelly   \n",
       "last_name                                       Cole   \n",
       "age                                               74   \n",
       "city           Atlanta-Sandy Springs-Roswell, GA MSA   \n",
       "reg_date                                  2018-06-28   \n",
       "plan                                        ultimate   \n",
       "churn_date                                       NaN   \n",
       "NY-NJ                                              0   \n",
       "\n",
       "                                             2286  \\\n",
       "user_id                                      1349   \n",
       "month                                          10   \n",
       "total_minutes                                 0.0   \n",
       "n_calls                                       0.0   \n",
       "n_sms                                        76.0   \n",
       "total_mb                                 13093.55   \n",
       "n_sessions                                   26.0   \n",
       "total_gb                                     13.0   \n",
       "first_name                             Florentina   \n",
       "last_name                                    Diaz   \n",
       "age                                            69   \n",
       "city           Boston-Cambridge-Newton, MA-NH MSA   \n",
       "reg_date                               2018-10-01   \n",
       "plan                                         surf   \n",
       "churn_date                                    NaN   \n",
       "NY-NJ                                           0   \n",
       "\n",
       "                                             2287  \\\n",
       "user_id                                      1349   \n",
       "month                                          11   \n",
       "total_minutes                                 0.0   \n",
       "n_calls                                       0.0   \n",
       "n_sms                                        72.0   \n",
       "total_mb                                 17128.26   \n",
       "n_sessions                                   32.0   \n",
       "total_gb                                     17.0   \n",
       "first_name                             Florentina   \n",
       "last_name                                    Diaz   \n",
       "age                                            69   \n",
       "city           Boston-Cambridge-Newton, MA-NH MSA   \n",
       "reg_date                               2018-10-01   \n",
       "plan                                         surf   \n",
       "churn_date                                    NaN   \n",
       "NY-NJ                                           0   \n",
       "\n",
       "                                             2288                       2289  \\\n",
       "user_id                                      1349                       1361   \n",
       "month                                          12                          5   \n",
       "total_minutes                                 0.0                        0.0   \n",
       "n_calls                                       0.0                        0.0   \n",
       "n_sms                                        61.0                        2.0   \n",
       "total_mb                                 13039.91                    1519.69   \n",
       "n_sessions                                   27.0                        9.0   \n",
       "total_gb                                     13.0                        2.0   \n",
       "first_name                             Florentina                    Jacelyn   \n",
       "last_name                                    Diaz                    Hoffman   \n",
       "age                                            69                         45   \n",
       "city           Boston-Cambridge-Newton, MA-NH MSA  Birmingham-Hoover, AL MSA   \n",
       "reg_date                               2018-10-01                 2018-04-14   \n",
       "plan                                         surf                       surf   \n",
       "churn_date                                    NaN                        NaN   \n",
       "NY-NJ                                           0                          0   \n",
       "\n",
       "                                                    2290  \\\n",
       "user_id                                             1482   \n",
       "month                                                 10   \n",
       "total_minutes                                        0.0   \n",
       "n_calls                                              0.0   \n",
       "n_sms                                                2.0   \n",
       "total_mb                                             0.0   \n",
       "n_sessions                                           0.0   \n",
       "total_gb                                             0.0   \n",
       "first_name                                        Armand   \n",
       "last_name                                          Glenn   \n",
       "age                                                   70   \n",
       "city           New York-Newark-Jersey City, NY-NJ-PA MSA   \n",
       "reg_date                                      2018-01-01   \n",
       "plan                                            ultimate   \n",
       "churn_date                                           NaN   \n",
       "NY-NJ                                                  1   \n",
       "\n",
       "                                 2291                   2292  \n",
       "user_id                          1108                   1311  \n",
       "month                              12                      6  \n",
       "total_minutes                     0.0                    0.0  \n",
       "n_calls                           0.0                    0.0  \n",
       "n_sms                             0.0                    0.0  \n",
       "total_mb                       233.17                1498.83  \n",
       "n_sessions                        2.0                    9.0  \n",
       "total_gb                          1.0                    2.0  \n",
       "first_name                   Porfirio                Cherlyn  \n",
       "last_name                        Kane               Saunders  \n",
       "age                                45                     69  \n",
       "city           Salt Lake City, UT MSA  Memphis, TN-MS-AR MSA  \n",
       "reg_date                   2018-12-30             2018-06-27  \n",
       "plan                         ultimate               ultimate  \n",
       "churn_date                        NaN                    NaN  \n",
       "NY-NJ                               0                      0  \n",
       "\n",
       "[16 rows x 2293 columns]"
      ]
     },
     "execution_count": 56,
     "metadata": {},
     "output_type": "execute_result"
    }
   ],
   "source": [
    "final_data.T"
   ]
  },
  {
   "cell_type": "code",
   "execution_count": 57,
   "metadata": {},
   "outputs": [
    {
     "data": {
      "text/plain": [
       "0"
      ]
     },
     "execution_count": 57,
     "metadata": {},
     "output_type": "execute_result"
    }
   ],
   "source": [
    "final_data['plan'].isnull().sum()"
   ]
  },
  {
   "cell_type": "markdown",
   "metadata": {},
   "source": [
    "*Conclusion*: our final dataset has 2293 rows which is only a little bit bigger than any other grouped dfs. We've checked whether there are missing values in `plan` column, and by doing this we've confirmed that users' info merged successfully to all the rows (as we didn't have missing values in `users_df` from the beginning). Now our dataset is ready for calculations."
   ]
  },
  {
   "cell_type": "markdown",
   "metadata": {},
   "source": [
    "<a id=\"calculations\"></a>\n",
    "### Calculations"
   ]
  },
  {
   "cell_type": "markdown",
   "metadata": {},
   "source": [
    "In this step we'll calculate the monthly revenue per user. But first, a little reminder about the plans:\n",
    "<br><b>Surf</b>\n",
    "\n",
    "1. Monthly charge: 20 dollars\n",
    "2. 500 monthly minutes, 50 texts, and 15 GB of data\n",
    "3. After exceeding the package limits:\n",
    "    - 1 minute: 3 cents\n",
    "    - 1 text message: 3 cents\n",
    "    - 1 GB of data: 10 dollars\n",
    "\n",
    "<b>Ultimate</b>\n",
    "\n",
    "1. Monthly charge: 70 dollars\n",
    "2. 3000 monthly minutes, 1000 text messages, and 30 GB of data\n",
    "3. After exceeding the package limits:\n",
    "    - 1 minute: 1 cent\n",
    "    - 1 text message: 1 cent\n",
    "    - 1 GB of data: 7 dollars\n",
    "    \n",
    "And the same data we have in plans_df:"
   ]
  },
  {
   "cell_type": "code",
   "execution_count": 58,
   "metadata": {},
   "outputs": [
    {
     "data": {
      "text/html": [
       "<div>\n",
       "<style scoped>\n",
       "    .dataframe tbody tr th:only-of-type {\n",
       "        vertical-align: middle;\n",
       "    }\n",
       "\n",
       "    .dataframe tbody tr th {\n",
       "        vertical-align: top;\n",
       "    }\n",
       "\n",
       "    .dataframe thead th {\n",
       "        text-align: right;\n",
       "    }\n",
       "</style>\n",
       "<table border=\"1\" class=\"dataframe\">\n",
       "  <thead>\n",
       "    <tr style=\"text-align: right;\">\n",
       "      <th></th>\n",
       "      <th>0</th>\n",
       "      <th>1</th>\n",
       "    </tr>\n",
       "  </thead>\n",
       "  <tbody>\n",
       "    <tr>\n",
       "      <th>messages_included</th>\n",
       "      <td>50</td>\n",
       "      <td>1000</td>\n",
       "    </tr>\n",
       "    <tr>\n",
       "      <th>mb_per_month_included</th>\n",
       "      <td>15360</td>\n",
       "      <td>30720</td>\n",
       "    </tr>\n",
       "    <tr>\n",
       "      <th>minutes_included</th>\n",
       "      <td>500</td>\n",
       "      <td>3000</td>\n",
       "    </tr>\n",
       "    <tr>\n",
       "      <th>usd_monthly_pay</th>\n",
       "      <td>20</td>\n",
       "      <td>70</td>\n",
       "    </tr>\n",
       "    <tr>\n",
       "      <th>usd_per_gb</th>\n",
       "      <td>10</td>\n",
       "      <td>7</td>\n",
       "    </tr>\n",
       "    <tr>\n",
       "      <th>usd_per_message</th>\n",
       "      <td>0.03</td>\n",
       "      <td>0.01</td>\n",
       "    </tr>\n",
       "    <tr>\n",
       "      <th>usd_per_minute</th>\n",
       "      <td>0.03</td>\n",
       "      <td>0.01</td>\n",
       "    </tr>\n",
       "    <tr>\n",
       "      <th>plan_name</th>\n",
       "      <td>surf</td>\n",
       "      <td>ultimate</td>\n",
       "    </tr>\n",
       "  </tbody>\n",
       "</table>\n",
       "</div>"
      ],
      "text/plain": [
       "                           0         1\n",
       "messages_included         50      1000\n",
       "mb_per_month_included  15360     30720\n",
       "minutes_included         500      3000\n",
       "usd_monthly_pay           20        70\n",
       "usd_per_gb                10         7\n",
       "usd_per_message         0.03      0.01\n",
       "usd_per_minute          0.03      0.01\n",
       "plan_name               surf  ultimate"
      ]
     },
     "execution_count": 58,
     "metadata": {},
     "output_type": "execute_result"
    }
   ],
   "source": [
    "plans_df.T"
   ]
  },
  {
   "cell_type": "markdown",
   "metadata": {},
   "source": [
    "We're creating a function to calculate revenue per month. As we can see from the plans_df above, we can use indexing to make our function more universal in case we'll need this code for upgraded plans in future."
   ]
  },
  {
   "cell_type": "code",
   "execution_count": 59,
   "metadata": {},
   "outputs": [],
   "source": [
    "def month_revenue(row):\n",
    "    plan = row['plan']\n",
    "    calls = row['total_minutes']\n",
    "    sms = row['n_sms']\n",
    "    traffic = row['total_gb']\n",
    "    \n",
    "    #getting index value for getting access to plans_df rows\n",
    "    if plan == 'surf':\n",
    "        i = 0\n",
    "    elif plan == 'ultimate':\n",
    "        i = 1\n",
    "    \n",
    "    #creating universal upper limits for plans\n",
    "    calls_lim = plans_df['minutes_included'][i]\n",
    "    sms_lim = plans_df['messages_included'][i]\n",
    "    gb_lim = plans_df['mb_per_month_included'][i] / 1024\n",
    "    plan_cost = plans_df['usd_monthly_pay'][i]\n",
    "    \n",
    "    #considering every user in a table payed at least the minimum cost of the plan:\n",
    "    revenue = plan_cost\n",
    "    \n",
    "    if calls > calls_lim:\n",
    "        revenue += (calls - calls_lim) * plans_df['usd_per_minute'][i]\n",
    "    else:\n",
    "        revenue += 0\n",
    "    if sms > sms_lim:\n",
    "        revenue += (sms - sms_lim) * plans_df['usd_per_message'][i]\n",
    "    else:\n",
    "        revenue += 0\n",
    "    if traffic > gb_lim:\n",
    "        revenue += (traffic - gb_lim) * plans_df['usd_per_gb'][i]\n",
    "    else:\n",
    "        revenue += 0\n",
    "\n",
    "    return revenue"
   ]
  },
  {
   "cell_type": "code",
   "execution_count": 60,
   "metadata": {},
   "outputs": [
    {
     "data": {
      "text/html": [
       "<div>\n",
       "<style scoped>\n",
       "    .dataframe tbody tr th:only-of-type {\n",
       "        vertical-align: middle;\n",
       "    }\n",
       "\n",
       "    .dataframe tbody tr th {\n",
       "        vertical-align: top;\n",
       "    }\n",
       "\n",
       "    .dataframe thead th {\n",
       "        text-align: right;\n",
       "    }\n",
       "</style>\n",
       "<table border=\"1\" class=\"dataframe\">\n",
       "  <thead>\n",
       "    <tr style=\"text-align: right;\">\n",
       "      <th></th>\n",
       "      <th>user_id</th>\n",
       "      <th>month</th>\n",
       "      <th>total_minutes</th>\n",
       "      <th>n_calls</th>\n",
       "      <th>n_sms</th>\n",
       "      <th>total_mb</th>\n",
       "      <th>n_sessions</th>\n",
       "      <th>total_gb</th>\n",
       "      <th>first_name</th>\n",
       "      <th>last_name</th>\n",
       "      <th>age</th>\n",
       "      <th>city</th>\n",
       "      <th>reg_date</th>\n",
       "      <th>plan</th>\n",
       "      <th>churn_date</th>\n",
       "      <th>NY-NJ</th>\n",
       "      <th>revenue</th>\n",
       "    </tr>\n",
       "  </thead>\n",
       "  <tbody>\n",
       "    <tr>\n",
       "      <th>0</th>\n",
       "      <td>1000</td>\n",
       "      <td>12</td>\n",
       "      <td>124.0</td>\n",
       "      <td>16.0</td>\n",
       "      <td>11.0</td>\n",
       "      <td>1901.47</td>\n",
       "      <td>5.0</td>\n",
       "      <td>2.0</td>\n",
       "      <td>Anamaria</td>\n",
       "      <td>Bauer</td>\n",
       "      <td>45</td>\n",
       "      <td>Atlanta-Sandy Springs-Roswell, GA MSA</td>\n",
       "      <td>2018-12-24</td>\n",
       "      <td>ultimate</td>\n",
       "      <td>NaN</td>\n",
       "      <td>0</td>\n",
       "      <td>70.00</td>\n",
       "    </tr>\n",
       "    <tr>\n",
       "      <th>1</th>\n",
       "      <td>1001</td>\n",
       "      <td>8</td>\n",
       "      <td>182.0</td>\n",
       "      <td>27.0</td>\n",
       "      <td>30.0</td>\n",
       "      <td>6919.15</td>\n",
       "      <td>25.0</td>\n",
       "      <td>7.0</td>\n",
       "      <td>Mickey</td>\n",
       "      <td>Wilkerson</td>\n",
       "      <td>28</td>\n",
       "      <td>Seattle-Tacoma-Bellevue, WA MSA</td>\n",
       "      <td>2018-08-13</td>\n",
       "      <td>surf</td>\n",
       "      <td>NaN</td>\n",
       "      <td>0</td>\n",
       "      <td>20.00</td>\n",
       "    </tr>\n",
       "    <tr>\n",
       "      <th>2</th>\n",
       "      <td>1001</td>\n",
       "      <td>9</td>\n",
       "      <td>315.0</td>\n",
       "      <td>49.0</td>\n",
       "      <td>44.0</td>\n",
       "      <td>13314.82</td>\n",
       "      <td>53.0</td>\n",
       "      <td>14.0</td>\n",
       "      <td>Mickey</td>\n",
       "      <td>Wilkerson</td>\n",
       "      <td>28</td>\n",
       "      <td>Seattle-Tacoma-Bellevue, WA MSA</td>\n",
       "      <td>2018-08-13</td>\n",
       "      <td>surf</td>\n",
       "      <td>NaN</td>\n",
       "      <td>0</td>\n",
       "      <td>20.00</td>\n",
       "    </tr>\n",
       "    <tr>\n",
       "      <th>3</th>\n",
       "      <td>1001</td>\n",
       "      <td>10</td>\n",
       "      <td>393.0</td>\n",
       "      <td>65.0</td>\n",
       "      <td>53.0</td>\n",
       "      <td>22330.49</td>\n",
       "      <td>56.0</td>\n",
       "      <td>22.0</td>\n",
       "      <td>Mickey</td>\n",
       "      <td>Wilkerson</td>\n",
       "      <td>28</td>\n",
       "      <td>Seattle-Tacoma-Bellevue, WA MSA</td>\n",
       "      <td>2018-08-13</td>\n",
       "      <td>surf</td>\n",
       "      <td>NaN</td>\n",
       "      <td>0</td>\n",
       "      <td>90.09</td>\n",
       "    </tr>\n",
       "    <tr>\n",
       "      <th>4</th>\n",
       "      <td>1001</td>\n",
       "      <td>11</td>\n",
       "      <td>426.0</td>\n",
       "      <td>64.0</td>\n",
       "      <td>36.0</td>\n",
       "      <td>18504.30</td>\n",
       "      <td>51.0</td>\n",
       "      <td>19.0</td>\n",
       "      <td>Mickey</td>\n",
       "      <td>Wilkerson</td>\n",
       "      <td>28</td>\n",
       "      <td>Seattle-Tacoma-Bellevue, WA MSA</td>\n",
       "      <td>2018-08-13</td>\n",
       "      <td>surf</td>\n",
       "      <td>NaN</td>\n",
       "      <td>0</td>\n",
       "      <td>60.00</td>\n",
       "    </tr>\n",
       "    <tr>\n",
       "      <th>...</th>\n",
       "      <td>...</td>\n",
       "      <td>...</td>\n",
       "      <td>...</td>\n",
       "      <td>...</td>\n",
       "      <td>...</td>\n",
       "      <td>...</td>\n",
       "      <td>...</td>\n",
       "      <td>...</td>\n",
       "      <td>...</td>\n",
       "      <td>...</td>\n",
       "      <td>...</td>\n",
       "      <td>...</td>\n",
       "      <td>...</td>\n",
       "      <td>...</td>\n",
       "      <td>...</td>\n",
       "      <td>...</td>\n",
       "      <td>...</td>\n",
       "    </tr>\n",
       "    <tr>\n",
       "      <th>2288</th>\n",
       "      <td>1349</td>\n",
       "      <td>12</td>\n",
       "      <td>0.0</td>\n",
       "      <td>0.0</td>\n",
       "      <td>61.0</td>\n",
       "      <td>13039.91</td>\n",
       "      <td>27.0</td>\n",
       "      <td>13.0</td>\n",
       "      <td>Florentina</td>\n",
       "      <td>Diaz</td>\n",
       "      <td>69</td>\n",
       "      <td>Boston-Cambridge-Newton, MA-NH MSA</td>\n",
       "      <td>2018-10-01</td>\n",
       "      <td>surf</td>\n",
       "      <td>NaN</td>\n",
       "      <td>0</td>\n",
       "      <td>20.33</td>\n",
       "    </tr>\n",
       "    <tr>\n",
       "      <th>2289</th>\n",
       "      <td>1361</td>\n",
       "      <td>5</td>\n",
       "      <td>0.0</td>\n",
       "      <td>0.0</td>\n",
       "      <td>2.0</td>\n",
       "      <td>1519.69</td>\n",
       "      <td>9.0</td>\n",
       "      <td>2.0</td>\n",
       "      <td>Jacelyn</td>\n",
       "      <td>Hoffman</td>\n",
       "      <td>45</td>\n",
       "      <td>Birmingham-Hoover, AL MSA</td>\n",
       "      <td>2018-04-14</td>\n",
       "      <td>surf</td>\n",
       "      <td>NaN</td>\n",
       "      <td>0</td>\n",
       "      <td>20.00</td>\n",
       "    </tr>\n",
       "    <tr>\n",
       "      <th>2290</th>\n",
       "      <td>1482</td>\n",
       "      <td>10</td>\n",
       "      <td>0.0</td>\n",
       "      <td>0.0</td>\n",
       "      <td>2.0</td>\n",
       "      <td>0.00</td>\n",
       "      <td>0.0</td>\n",
       "      <td>0.0</td>\n",
       "      <td>Armand</td>\n",
       "      <td>Glenn</td>\n",
       "      <td>70</td>\n",
       "      <td>New York-Newark-Jersey City, NY-NJ-PA MSA</td>\n",
       "      <td>2018-01-01</td>\n",
       "      <td>ultimate</td>\n",
       "      <td>NaN</td>\n",
       "      <td>1</td>\n",
       "      <td>70.00</td>\n",
       "    </tr>\n",
       "    <tr>\n",
       "      <th>2291</th>\n",
       "      <td>1108</td>\n",
       "      <td>12</td>\n",
       "      <td>0.0</td>\n",
       "      <td>0.0</td>\n",
       "      <td>0.0</td>\n",
       "      <td>233.17</td>\n",
       "      <td>2.0</td>\n",
       "      <td>1.0</td>\n",
       "      <td>Porfirio</td>\n",
       "      <td>Kane</td>\n",
       "      <td>45</td>\n",
       "      <td>Salt Lake City, UT MSA</td>\n",
       "      <td>2018-12-30</td>\n",
       "      <td>ultimate</td>\n",
       "      <td>NaN</td>\n",
       "      <td>0</td>\n",
       "      <td>70.00</td>\n",
       "    </tr>\n",
       "    <tr>\n",
       "      <th>2292</th>\n",
       "      <td>1311</td>\n",
       "      <td>6</td>\n",
       "      <td>0.0</td>\n",
       "      <td>0.0</td>\n",
       "      <td>0.0</td>\n",
       "      <td>1498.83</td>\n",
       "      <td>9.0</td>\n",
       "      <td>2.0</td>\n",
       "      <td>Cherlyn</td>\n",
       "      <td>Saunders</td>\n",
       "      <td>69</td>\n",
       "      <td>Memphis, TN-MS-AR MSA</td>\n",
       "      <td>2018-06-27</td>\n",
       "      <td>ultimate</td>\n",
       "      <td>NaN</td>\n",
       "      <td>0</td>\n",
       "      <td>70.00</td>\n",
       "    </tr>\n",
       "  </tbody>\n",
       "</table>\n",
       "<p>2293 rows × 17 columns</p>\n",
       "</div>"
      ],
      "text/plain": [
       "      user_id  month  total_minutes  n_calls  n_sms  total_mb  n_sessions  \\\n",
       "0        1000     12          124.0     16.0   11.0   1901.47         5.0   \n",
       "1        1001      8          182.0     27.0   30.0   6919.15        25.0   \n",
       "2        1001      9          315.0     49.0   44.0  13314.82        53.0   \n",
       "3        1001     10          393.0     65.0   53.0  22330.49        56.0   \n",
       "4        1001     11          426.0     64.0   36.0  18504.30        51.0   \n",
       "...       ...    ...            ...      ...    ...       ...         ...   \n",
       "2288     1349     12            0.0      0.0   61.0  13039.91        27.0   \n",
       "2289     1361      5            0.0      0.0    2.0   1519.69         9.0   \n",
       "2290     1482     10            0.0      0.0    2.0      0.00         0.0   \n",
       "2291     1108     12            0.0      0.0    0.0    233.17         2.0   \n",
       "2292     1311      6            0.0      0.0    0.0   1498.83         9.0   \n",
       "\n",
       "      total_gb  first_name  last_name  age  \\\n",
       "0          2.0    Anamaria      Bauer   45   \n",
       "1          7.0      Mickey  Wilkerson   28   \n",
       "2         14.0      Mickey  Wilkerson   28   \n",
       "3         22.0      Mickey  Wilkerson   28   \n",
       "4         19.0      Mickey  Wilkerson   28   \n",
       "...        ...         ...        ...  ...   \n",
       "2288      13.0  Florentina       Diaz   69   \n",
       "2289       2.0     Jacelyn    Hoffman   45   \n",
       "2290       0.0      Armand      Glenn   70   \n",
       "2291       1.0    Porfirio       Kane   45   \n",
       "2292       2.0     Cherlyn   Saunders   69   \n",
       "\n",
       "                                           city    reg_date      plan  \\\n",
       "0         Atlanta-Sandy Springs-Roswell, GA MSA  2018-12-24  ultimate   \n",
       "1               Seattle-Tacoma-Bellevue, WA MSA  2018-08-13      surf   \n",
       "2               Seattle-Tacoma-Bellevue, WA MSA  2018-08-13      surf   \n",
       "3               Seattle-Tacoma-Bellevue, WA MSA  2018-08-13      surf   \n",
       "4               Seattle-Tacoma-Bellevue, WA MSA  2018-08-13      surf   \n",
       "...                                         ...         ...       ...   \n",
       "2288         Boston-Cambridge-Newton, MA-NH MSA  2018-10-01      surf   \n",
       "2289                  Birmingham-Hoover, AL MSA  2018-04-14      surf   \n",
       "2290  New York-Newark-Jersey City, NY-NJ-PA MSA  2018-01-01  ultimate   \n",
       "2291                     Salt Lake City, UT MSA  2018-12-30  ultimate   \n",
       "2292                      Memphis, TN-MS-AR MSA  2018-06-27  ultimate   \n",
       "\n",
       "     churn_date  NY-NJ  revenue  \n",
       "0           NaN      0    70.00  \n",
       "1           NaN      0    20.00  \n",
       "2           NaN      0    20.00  \n",
       "3           NaN      0    90.09  \n",
       "4           NaN      0    60.00  \n",
       "...         ...    ...      ...  \n",
       "2288        NaN      0    20.33  \n",
       "2289        NaN      0    20.00  \n",
       "2290        NaN      1    70.00  \n",
       "2291        NaN      0    70.00  \n",
       "2292        NaN      0    70.00  \n",
       "\n",
       "[2293 rows x 17 columns]"
      ]
     },
     "execution_count": 60,
     "metadata": {},
     "output_type": "execute_result"
    }
   ],
   "source": [
    "final_data['revenue'] = final_data.apply(month_revenue, axis=1)\n",
    "final_data"
   ]
  },
  {
   "cell_type": "code",
   "execution_count": 61,
   "metadata": {},
   "outputs": [
    {
     "data": {
      "text/plain": [
       "count    2293.000000\n",
       "mean       64.351147\n",
       "std        46.624945\n",
       "min        20.000000\n",
       "25%        23.480000\n",
       "50%        70.000000\n",
       "75%        70.000000\n",
       "max       590.370000\n",
       "Name: revenue, dtype: float64"
      ]
     },
     "execution_count": 61,
     "metadata": {},
     "output_type": "execute_result"
    }
   ],
   "source": [
    "final_data['revenue'].describe()"
   ]
  },
  {
   "cell_type": "markdown",
   "metadata": {},
   "source": [
    "<a id=\"conclusion2\"></a>\n",
    "### Conclusion"
   ]
  },
  {
   "cell_type": "markdown",
   "metadata": {},
   "source": [
    "Preparing our data at first we've dealt with several issues:\n",
    "\n",
    " - `duration` column from calls_df has 0 values, which makes 19% of the data. We've checked several theories to find out what may be the cause, and decided to treat it as a missed call and leave 0 value as it is.\n",
    " - `mb_used` also has 0 values which we concluded looked genuine and meant a user not using mobile Internet, and left as it it.\n",
    " - `churn_date` has only 37 values present and others missing. We concluded that it looks natural, and there's no need to change anything, as probably even people who used one of the plans less than a month at least payed the monthly cost.\n",
    "\n",
    "<br>Then we've used data conversion for some columns:\n",
    " - we've converted all `user_id` columns from `int64` to `int16` for better memory performance.\n",
    " - we've created `month` column for each relevant df.\n",
    " - we've checked whether there's a need to change anything in `city` column and found that there were some separate instances of 'NY', so we've created an additional column `NY-NJ` to differentiate our target group by 0/1 values.\n",
    "\n",
    "<br>As a next step we've created grouped dfs before merging them:\n",
    " - we've created grouped dfs for calls, Internet and messages dfs. We've grouped by `user_id` and `month`, summing and counting relevant values.\n",
    " - then we've created a single dataframe containing all the relevant information for the research.\n",
    "\n",
    "<br>Final preparation:\n",
    " - we've created a function for calculating the revenue per user per month.\n",
    "\n",
    "<br>Now we're ready for the analysis."
   ]
  },
  {
   "cell_type": "markdown",
   "metadata": {},
   "source": [
    "<a id=\"analysis\"></a>\n",
    "## Exploratory Data analysis"
   ]
  },
  {
   "cell_type": "markdown",
   "metadata": {},
   "source": [
    "<a id=\"univariate\"></a>\n",
    "### Univariate analysis"
   ]
  },
  {
   "cell_type": "markdown",
   "metadata": {},
   "source": [
    "Now let's take a look at the shapes of our data."
   ]
  },
  {
   "cell_type": "markdown",
   "metadata": {},
   "source": [
    "At first, we want to take a closer look at our plans."
   ]
  },
  {
   "cell_type": "code",
   "execution_count": 62,
   "metadata": {},
   "outputs": [
    {
     "data": {
      "text/html": [
       "<div>\n",
       "<style scoped>\n",
       "    .dataframe tbody tr th:only-of-type {\n",
       "        vertical-align: middle;\n",
       "    }\n",
       "\n",
       "    .dataframe tbody tr th {\n",
       "        vertical-align: top;\n",
       "    }\n",
       "\n",
       "    .dataframe thead th {\n",
       "        text-align: right;\n",
       "    }\n",
       "</style>\n",
       "<table border=\"1\" class=\"dataframe\">\n",
       "  <thead>\n",
       "    <tr style=\"text-align: right;\">\n",
       "      <th></th>\n",
       "      <th>Surf</th>\n",
       "      <th>Ultimate</th>\n",
       "    </tr>\n",
       "    <tr>\n",
       "      <th>month</th>\n",
       "      <th></th>\n",
       "      <th></th>\n",
       "    </tr>\n",
       "  </thead>\n",
       "  <tbody>\n",
       "    <tr>\n",
       "      <th>1</th>\n",
       "      <td>2</td>\n",
       "      <td>4</td>\n",
       "    </tr>\n",
       "    <tr>\n",
       "      <th>2</th>\n",
       "      <td>9</td>\n",
       "      <td>7</td>\n",
       "    </tr>\n",
       "    <tr>\n",
       "      <th>3</th>\n",
       "      <td>23</td>\n",
       "      <td>12</td>\n",
       "    </tr>\n",
       "    <tr>\n",
       "      <th>4</th>\n",
       "      <td>50</td>\n",
       "      <td>21</td>\n",
       "    </tr>\n",
       "    <tr>\n",
       "      <th>5</th>\n",
       "      <td>77</td>\n",
       "      <td>29</td>\n",
       "    </tr>\n",
       "    <tr>\n",
       "      <th>6</th>\n",
       "      <td>97</td>\n",
       "      <td>47</td>\n",
       "    </tr>\n",
       "    <tr>\n",
       "      <th>7</th>\n",
       "      <td>121</td>\n",
       "      <td>59</td>\n",
       "    </tr>\n",
       "    <tr>\n",
       "      <th>8</th>\n",
       "      <td>162</td>\n",
       "      <td>71</td>\n",
       "    </tr>\n",
       "    <tr>\n",
       "      <th>9</th>\n",
       "      <td>194</td>\n",
       "      <td>86</td>\n",
       "    </tr>\n",
       "    <tr>\n",
       "      <th>10</th>\n",
       "      <td>237</td>\n",
       "      <td>106</td>\n",
       "    </tr>\n",
       "    <tr>\n",
       "      <th>11</th>\n",
       "      <td>283</td>\n",
       "      <td>127</td>\n",
       "    </tr>\n",
       "    <tr>\n",
       "      <th>12</th>\n",
       "      <td>318</td>\n",
       "      <td>151</td>\n",
       "    </tr>\n",
       "  </tbody>\n",
       "</table>\n",
       "</div>"
      ],
      "text/plain": [
       "       Surf  Ultimate\n",
       "month                \n",
       "1         2         4\n",
       "2         9         7\n",
       "3        23        12\n",
       "4        50        21\n",
       "5        77        29\n",
       "6        97        47\n",
       "7       121        59\n",
       "8       162        71\n",
       "9       194        86\n",
       "10      237       106\n",
       "11      283       127\n",
       "12      318       151"
      ]
     },
     "execution_count": 62,
     "metadata": {},
     "output_type": "execute_result"
    }
   ],
   "source": [
    "month_pivot = final_data.pivot_table(index='month', columns='plan', values='user_id', aggfunc='count')\n",
    "month_pivot.columns = ['Surf', 'Ultimate']\n",
    "month_pivot"
   ]
  },
  {
   "cell_type": "code",
   "execution_count": 63,
   "metadata": {},
   "outputs": [
    {
     "data": {
      "image/png": "[encoded data removed]",
      "text/plain": [
       "<Figure size 1152x360 with 1 Axes>"
      ]
     },
     "metadata": {
      "needs_background": "light"
     },
     "output_type": "display_data"
    }
   ],
   "source": [
    "month_pivot.plot(kind='bar', grid=True, figsize=(16, 5))\n",
    "plt.xlabel('month')\n",
    "plt.ylabel('Number of users')\n",
    "\n",
    "plt.show()"
   ]
  },
  {
   "cell_type": "markdown",
   "metadata": {},
   "source": [
    "As we've noticed before both plans start with a few users at the beginning of the year and have a stable growth. It looks reasonable that there are fewer users using 'Ultimate' plan as it is the most expensive, so we can't compare pure numbers between 2 plans, but it is curious to check which of the two plans grew at a higher pace."
   ]
  },
  {
   "cell_type": "code",
   "execution_count": 64,
   "metadata": {},
   "outputs": [
    {
     "name": "stdout",
     "output_type": "stream",
     "text": [
      "The number of users for \"Surf\" grew in 159.00 times from the beginning of the year, average growth pace: 1.76\n",
      "The number of users for \"Ultimate\" grew in 37.75 times from the beginning of the year, average growth pace: 1.41\n"
     ]
    }
   ],
   "source": [
    "growth1 = []\n",
    "growth2 = []\n",
    "n1 = month_pivot['Surf'][12] / month_pivot['Surf'][1]\n",
    "n2 = month_pivot['Ultimate'][12] / month_pivot['Ultimate'][1]\n",
    "  \n",
    "for i in range(0, 11):\n",
    "    growth1.append(month_pivot['Surf'][i + 2] / month_pivot['Surf'][i + 1])\n",
    "    growth2.append(month_pivot['Ultimate'][i + 2] / month_pivot['Ultimate'][i + 1])\n",
    "    \n",
    "print('The number of users for \"Surf\" grew in {:.2f} times from the beginning of the year, average growth pace: {:.2f}'\n",
    "      .format(n1, np.mean(growth1)))\n",
    "print('The number of users for \"Ultimate\" grew in {:.2f} times from the beginning of the year, average growth pace: {:.2f}'\n",
    "      .format(n2, np.mean(growth2)))"
   ]
  },
  {
   "cell_type": "markdown",
   "metadata": {},
   "source": [
    "*Conclusion*: as we can see although both plans grew considerably from the beginning of the year, \"Surf\"'s audience grew faster and much greater.\n",
    "\n",
    "Now let's take a look at our quantitative variables."
   ]
  },
  {
   "cell_type": "code",
   "execution_count": 65,
   "metadata": {
    "scrolled": false
   },
   "outputs": [
    {
     "data": {
      "image/png": "[encoded data removed]",
      "text/plain": [
       "<Figure size 1080x432 with 2 Axes>"
      ]
     },
     "metadata": {
      "needs_background": "light"
     },
     "output_type": "display_data"
    },
    {
     "name": "stdout",
     "output_type": "stream",
     "text": [
      "Surf mean: 428.75   |   Ultimate mean: 430.45\n",
      "Surf std: 234.45   |  Ultimate std: 240.51\n",
      "Surf median: 425.0  |  Ultimate median: 424.0\n",
      "Surf is centered around average\n",
      "Ultimate is centered around average\n",
      "\n",
      "----------------------------------------------------------------------------------------------------\n"
     ]
    },
    {
     "data": {
      "image/png": "[encoded data removed]",
      "text/plain": [
       "<Figure size 1080x432 with 2 Axes>"
      ]
     },
     "metadata": {
      "needs_background": "light"
     },
     "output_type": "display_data"
    },
    {
     "name": "stdout",
     "output_type": "stream",
     "text": [
      "Surf mean: 59.81   |   Ultimate mean: 60.63\n",
      "Surf std: 32.02   |  Ultimate std: 33.24\n",
      "Surf median: 60.0  |  Ultimate median: 61.0\n",
      "Surf is centered around average\n",
      "Ultimate is centered around average\n",
      "\n",
      "----------------------------------------------------------------------------------------------------\n"
     ]
    },
    {
     "data": {
      "image/png": "[encoded data removed]",
      "text/plain": [
       "<Figure size 1080x432 with 2 Axes>"
      ]
     },
     "metadata": {
      "needs_background": "light"
     },
     "output_type": "display_data"
    },
    {
     "name": "stdout",
     "output_type": "stream",
     "text": [
      "Surf mean: 31.16   |   Ultimate mean: 37.55\n",
      "Surf std: 33.57   |  Ultimate std: 34.77\n",
      "Surf median: 24.0  |  Ultimate median: 30.0\n",
      "Surf varies a lot\n",
      "Ultimate is centered around average\n",
      "\n",
      "----------------------------------------------------------------------------------------------------\n"
     ]
    },
    {
     "data": {
      "image/png": "[encoded data removed]",
      "text/plain": [
       "<Figure size 1080x432 with 2 Axes>"
      ]
     },
     "metadata": {
      "needs_background": "light"
     },
     "output_type": "display_data"
    },
    {
     "name": "stdout",
     "output_type": "stream",
     "text": [
      "Surf mean: 16.67   |   Ultimate mean: 17.31\n",
      "Surf std: 7.85   |  Ultimate std: 7.67\n",
      "Surf median: 17.0  |  Ultimate median: 17.0\n",
      "Surf is centered around average\n",
      "Ultimate is centered around average\n",
      "\n",
      "----------------------------------------------------------------------------------------------------\n"
     ]
    },
    {
     "data": {
      "image/png": "[encoded data removed]",
      "text/plain": [
       "<Figure size 1080x432 with 2 Axes>"
      ]
     },
     "metadata": {
      "needs_background": "light"
     },
     "output_type": "display_data"
    },
    {
     "name": "stdout",
     "output_type": "stream",
     "text": [
      "Surf mean: 60.71   |   Ultimate mean: 72.31\n",
      "Surf std: 55.39   |  Ultimate std: 11.40\n",
      "Surf median: 40.36  |  Ultimate median: 70.0\n",
      "Surf is centered around average\n",
      "Ultimate is centered around average\n",
      "\n",
      "----------------------------------------------------------------------------------------------------\n"
     ]
    }
   ],
   "source": [
    "listed_hist = ['total_minutes', 'n_calls', 'n_sms', 'total_gb', 'revenue']\n",
    "\n",
    "for name in listed_hist:\n",
    "    fig, ax = plt.subplots(nrows=1, ncols=2, figsize=(15, 6))\n",
    "    \n",
    "    ax[0].hist(x=final_data[final_data['plan'] == 'surf'][name], bins=30, color='red', alpha=0.3, label='surf')\n",
    "    ax[0].hist(x=final_data[final_data['plan'] == 'ultimate'][name], bins=30, color='green', alpha=0.3, label='ultimate')\n",
    "    ax[0].grid()\n",
    "    \n",
    "    ax[0].legend()\n",
    "    \n",
    "    ax[0].set_title('Dispersion of {} by plan'.format(name))\n",
    "    ax[0].set_ylabel('Number')\n",
    "    ax[0].set_xlabel(name)\n",
    "    \n",
    "    ax[1] = sns.boxplot(x='plan', y=name, data=final_data, palette='Set2')\n",
    "    ax[1].grid()\n",
    "    ax[1].set_title('Dispersion of {} per plan'.format(name))\n",
    "    \n",
    "    plt.show()\n",
    "    \n",
    "    std_surf = final_data.query('plan == \"surf\"')[name].std()\n",
    "    std_ult =  final_data.query('plan == \"ultimate\"')[name].std()\n",
    "    mean_surf = final_data.query('plan == \"surf\"')[name].mean()\n",
    "    mean_ult = final_data.query('plan == \"ultimate\"')[name].mean()\n",
    "    median_surf = final_data.query('plan == \"surf\"')[name].median()\n",
    "    median_ult = final_data.query('plan == \"ultimate\"')[name].median()\n",
    "    \n",
    "    print('Surf mean: {:.2f}   |   Ultimate mean: {:.2f}'.format(mean_surf, mean_ult))\n",
    "    print('Surf std: {:.2f}   |  Ultimate std: {:.2f}'.format(std_surf, std_ult))\n",
    "    print('Surf median: {}  |  Ultimate median: {}'.format(median_surf, median_ult))\n",
    "    if std_surf / mean_surf > 1:\n",
    "        print(\"Surf varies a lot\")\n",
    "    else:\n",
    "        print('Surf is centered around average')\n",
    "    if std_ult / mean_ult > 1:\n",
    "        print(\"Ultimate varies a lot\")\n",
    "    else:\n",
    "        print('Ultimate is centered around average')\n",
    "    print()\n",
    "    print('----------------------------------------------------------------------------------------------------')"
   ]
  },
  {
   "cell_type": "markdown",
   "metadata": {},
   "source": [
    "*Conclusion*: \n",
    " - `total_minutes`: the data is skewed to the right, we can also see that there's only a slight difference between mean and median, which tells us that there are some outliers, though not very extreme and not so many as to set mean and median far apart. Checking mean and standard deviation we can conclude that the data is mostly centered around the mean. Boxplots also look almost identical, though there are more visible outliers in 'Surf' than in 'Ultimate'. We can conclude that there's no significant difference between the plans in terms of time spent on phone calls. The average number of minutes per month for our user is about 425 for both plans. On the other hand comparing graphs to the number of minutes included in plans we can tell that for Ultimate absolute majority of users don't go overboard, the upper whisker of boxplot is just a bit greater than 1000 minutes (1000 is the upper limit for Ultimate). As for Surf, the upper limit is 500, but about 50% of users use from 425 to just above 1000 minutes per month. We can conclude that for Surf there's a stable streak of users that go overboard the limit and pay extra.\n",
    " - `n_calls`: We can see that even the number of calls doesn't differ very much between the plans, Ultimate's median being only slightly bigger that Surf's. The average number of calls per month is about 60 for both plans, making the average time needed for one call 7 minutes.\n",
    " - `n_sms`: from these plots, we can also spot some differences between two plans, being that in Surf we have considerably more outliers that pull our mean: even though 50% of users use no more than 24 sms per month, the mean is 31. Still, even 31 is not over the sms limit for 'Surf', being 50 sms. Half of the users use from 24 to about 110 sms per month, and we see that the data varies. There's also a considerable part of users that go over their limit of sms for Surf. Ultimate upper half of the boxplot is from 30 to about 140 sms per month, which is still very far from the limit they have (1000 sms per month). We can't forget to mention that a lot of users in both plans don't use sms at all or use just a few.\n",
    " - `gb_total`: The data is skewed to the right, although without the outliers the shape of Ultimate data reminds normal distribution. Half of the users use up to 17 Gb, and the other half up to about 32 Gb, making it again that almost none of them go over the limit, being 30 Gb. For Surf however, even though the distribution looks exactly the same, that means that 50% of users go over their limit being 15 Gb per month and pay extra.\n",
    " - `revenue`: the data is right-skewed, for both plans the data is centered around the average, though still we can see that Surf's mean is pulled by outliers making mean 60 while the median is only 40. For Ultimate mean(72) is very close to median(70), std is also very low, and we can see from the boxplot that there's almost to no variation of the data. If there weren't outliers visible we would have run checks for the revenue column. This implies that users using Ultimate rarely go over the limits of their plan, it is sufficient, while the limits of Surf are often not enough for the users."
   ]
  },
  {
   "cell_type": "markdown",
   "metadata": {},
   "source": [
    "<a id=\"bivariate\"></a>\n",
    "### Bi-variate analysis\n",
    "\n",
    "Let's check what service influences the revenue the most:\n",
    "\n",
    " - `n_sms`\n",
    " - `total_minutes`\n",
    " - `total_gb`"
   ]
  },
  {
   "cell_type": "code",
   "execution_count": 66,
   "metadata": {},
   "outputs": [
    {
     "data": {
      "image/png": "[encoded data removed]",
      "text/plain": [
       "<Figure size 576x576 with 1 Axes>"
      ]
     },
     "metadata": {
      "needs_background": "light"
     },
     "output_type": "display_data"
    },
    {
     "data": {
      "image/png": "[encoded data removed]",
      "text/plain": [
       "<Figure size 576x576 with 1 Axes>"
      ]
     },
     "metadata": {
      "needs_background": "light"
     },
     "output_type": "display_data"
    },
    {
     "data": {
      "image/png": "[encoded data removed]",
      "text/plain": [
       "<Figure size 576x576 with 1 Axes>"
      ]
     },
     "metadata": {
      "needs_background": "light"
     },
     "output_type": "display_data"
    },
    {
     "name": "stdout",
     "output_type": "stream",
     "text": [
      "                  n_sms  total_minutes  total_gb   revenue\n",
      "n_sms          1.000000       0.241799  0.219047  0.157644\n",
      "total_minutes  0.241799       1.000000  0.320659  0.222645\n",
      "total_gb       0.219047       0.320659  1.000000  0.778781\n",
      "revenue        0.157644       0.222645  0.778781  1.000000\n"
     ]
    }
   ],
   "source": [
    "listed_scatter = ['n_sms', 'total_minutes', 'total_gb', 'revenue']\n",
    "\n",
    "for name in listed_scatter:\n",
    "    if name == 'revenue':\n",
    "        continue\n",
    "    else:\n",
    "        fig, ax = plt.subplots(figsize=(8, 8))\n",
    "\n",
    "        ax.scatter(final_data.query('plan == \"surf\"')[name], final_data.query('plan == \"surf\"')['revenue'],\n",
    "                   color='red', alpha=0.3, label='Surf')\n",
    "        ax.scatter(final_data.query('plan == \"ultimate\"')[name], final_data.query('plan == \"ultimate\"')['revenue'],  \n",
    "                   color='green', alpha=0.3, label='Ultimate')\n",
    "\n",
    "        ax.legend()\n",
    "\n",
    "        ax.set_title('Dependence of revenue on {} per plan'.format(name))\n",
    "        ax.set_xlabel(name)\n",
    "        ax.set_ylabel('Revenue')\n",
    "\n",
    "        plt.show()\n",
    "\n",
    "print(final_data[listed_scatter].corr())"
   ]
  },
  {
   "cell_type": "markdown",
   "metadata": {},
   "source": [
    "*Conclusion*: of course all the services influence the revenue, but we can see that the usage of Internet has the strongest positive correlation: the more users use it, the more they pay. It can be taken into consideration for future profits and used for prediction. If so, let's take a look at the user behavior for Surf when they use more than 15 Gb per month:"
   ]
  },
  {
   "cell_type": "code",
   "execution_count": 67,
   "metadata": {},
   "outputs": [
    {
     "data": {
      "image/png": "[encoded data removed]",
      "text/plain": [
       "<Figure size 576x576 with 1 Axes>"
      ]
     },
     "metadata": {
      "needs_background": "light"
     },
     "output_type": "display_data"
    }
   ],
   "source": [
    "fig, ax = plt.subplots(figsize=(8,8))\n",
    "\n",
    "plot_range = (15, 70)\n",
    "ax.hist(x=final_data.query('plan == \"surf\"')['total_gb'], range=plot_range)\n",
    "ax.grid()\n",
    "ax.set_title('Dispertion of number of total of minutes: outliers')\n",
    "ax.set_xlabel('Total of minutes per month')\n",
    "ax.set_ylabel('Number of users')\n",
    "\n",
    "plt.show()"
   ]
  },
  {
   "cell_type": "markdown",
   "metadata": {},
   "source": [
    "We can see that most of users exceeding the limits of their plan need from 17 and up to 30 Gb per month."
   ]
  },
  {
   "cell_type": "markdown",
   "metadata": {},
   "source": [
    "<a id=\"conclusion3\"></a>\n",
    "### Conclusion"
   ]
  },
  {
   "cell_type": "markdown",
   "metadata": {},
   "source": [
    "At this stage we've studied user's behaviour and how it influences monthly revenue.\n",
    "We can sum it up to next points:\n",
    "\n",
    "- On average user requires 425 minutes of calling per month. That means that half of the users don't go over the limit for both plans. Also we saw that Ultimate users almost don't go over their limit of 1000 minutes, while almost half of Surf users exceed the limits of their plan.\n",
    "- In addition taking a look at the number of calls and calculating it's average we can tell that on average user makes 7-minute calls.\n",
    "- The average number of sms varies per plan: it's 24 for Surf and 30 for Ultimate. Although in both plans there are outliers that pull their means: 31 for Surf and 37 for Ultimate. Still both don't exceed the limits of plans too much. We saw that the usage of this services varies a lot for Surf, and is centered around the average for Ultimate.\n",
    "- The average usage of mobile Internet is 17 Gb per month for both plans, though if in case of Ultimate it doesn't exceed the limits, for Surf it means that half of the users exceed the limits of their plan on monthly basis. From correlation and scatterplot analysis we saw that this service influences the final revenue the most, and most of users exceeding 15 Gb threshold for Surf use 17 to 30 Gb per month."
   ]
  },
  {
   "cell_type": "markdown",
   "metadata": {},
   "source": [
    "<a id=\"testing\"></a>\n",
    "## Hypotheses testing"
   ]
  },
  {
   "cell_type": "markdown",
   "metadata": {},
   "source": [
    "In the next step we'll test a few hypotheses:\n",
    "\n",
    "- The average revenue from users of Ultimate and Surf calling plans differs.\n",
    "- The average revenue from users in NY-NJ area is different from that of the users from other regions.\n",
    "<br><br>\n",
    "* We will take standard value for alpha - 5%."
   ]
  },
  {
   "cell_type": "markdown",
   "metadata": {},
   "source": [
    "<b> The average revenue for Ultimate and Surf </b>\n",
    "* The H0 is that there's no difference between the revenue of 2 plans.\n",
    "* The H1 is that there is a difference between the revenue of 2 plans.\n",
    "\n",
    "<b>The average revenue for NY-NJ area vs other regions</b>\n",
    "* The H0 is that there's no difference between regions.\n",
    "* The H1 is that there's difference between regions."
   ]
  },
  {
   "cell_type": "code",
   "execution_count": 68,
   "metadata": {},
   "outputs": [],
   "source": [
    "ultimate = final_data.query('plan == \"ultimate\"')\n",
    "surf = final_data.query('plan == \"surf\"')"
   ]
  },
  {
   "cell_type": "code",
   "execution_count": 69,
   "metadata": {},
   "outputs": [],
   "source": [
    "ult_sample = ultimate['revenue']\n",
    "surf_sample = surf['revenue']"
   ]
  },
  {
   "cell_type": "code",
   "execution_count": 70,
   "metadata": {},
   "outputs": [
    {
     "data": {
      "text/plain": [
       "0        70.0\n",
       "19       70.0\n",
       "20       84.0\n",
       "26       70.0\n",
       "27       70.0\n",
       "        ...  \n",
       "2284    112.0\n",
       "2285     70.0\n",
       "2290     70.0\n",
       "2291     70.0\n",
       "2292     70.0\n",
       "Name: revenue, Length: 720, dtype: float64"
      ]
     },
     "execution_count": 70,
     "metadata": {},
     "output_type": "execute_result"
    }
   ],
   "source": [
    "ult_sample"
   ]
  },
  {
   "cell_type": "markdown",
   "metadata": {},
   "source": [
    "Let's check the sizes of our samples:"
   ]
  },
  {
   "cell_type": "code",
   "execution_count": 71,
   "metadata": {},
   "outputs": [
    {
     "name": "stdout",
     "output_type": "stream",
     "text": [
      "Percentage: 0.3139991277802006\n",
      "N: 720\n"
     ]
    }
   ],
   "source": [
    "print('Percentage:', len(ult_sample) / len(final_data))\n",
    "print('N:', len(ult_sample))"
   ]
  },
  {
   "cell_type": "code",
   "execution_count": 72,
   "metadata": {},
   "outputs": [
    {
     "name": "stdout",
     "output_type": "stream",
     "text": [
      "Percentage: 0.6860008722197994\n",
      "N: 1573\n"
     ]
    }
   ],
   "source": [
    "print('Percentage:', len(surf_sample) / len(final_data))\n",
    "print('N:', len(surf_sample))"
   ]
  },
  {
   "cell_type": "code",
   "execution_count": 73,
   "metadata": {},
   "outputs": [],
   "source": [
    "nj = final_data[final_data['NY-NJ'] == 1]\n",
    "others = final_data[final_data['NY-NJ'] == 0]"
   ]
  },
  {
   "cell_type": "code",
   "execution_count": 74,
   "metadata": {},
   "outputs": [],
   "source": [
    "nj_sample = nj['revenue']\n",
    "others_sample = others['revenue']"
   ]
  },
  {
   "cell_type": "code",
   "execution_count": 75,
   "metadata": {},
   "outputs": [
    {
     "data": {
      "text/plain": [
       "56       20.00\n",
       "57       38.84\n",
       "75       20.00\n",
       "76      100.00\n",
       "77       20.00\n",
       "         ...  \n",
       "2260    120.42\n",
       "2261    170.27\n",
       "2262    200.00\n",
       "2263    110.33\n",
       "2290     70.00\n",
       "Name: revenue, Length: 406, dtype: float64"
      ]
     },
     "execution_count": 75,
     "metadata": {},
     "output_type": "execute_result"
    }
   ],
   "source": [
    "nj_sample"
   ]
  },
  {
   "cell_type": "code",
   "execution_count": 76,
   "metadata": {},
   "outputs": [
    {
     "name": "stdout",
     "output_type": "stream",
     "text": [
      "Percentage: 0.17706061927605757\n",
      "N: 406\n"
     ]
    }
   ],
   "source": [
    "print('Percentage:',len(nj_sample) / len(final_data))\n",
    "print('N:', len(nj_sample))"
   ]
  },
  {
   "cell_type": "code",
   "execution_count": 77,
   "metadata": {},
   "outputs": [
    {
     "name": "stdout",
     "output_type": "stream",
     "text": [
      "Percentage: 0.8229393807239425\n",
      "N: 1887\n"
     ]
    }
   ],
   "source": [
    "print('Percentage:',len(others_sample) / len(final_data))\n",
    "print('N:', len(others_sample))"
   ]
  },
  {
   "cell_type": "code",
   "execution_count": 78,
   "metadata": {},
   "outputs": [],
   "source": [
    "alpha = 0.05"
   ]
  },
  {
   "cell_type": "markdown",
   "metadata": {},
   "source": [
    "For the mathematical confirmation of one of our theories we're going to use Leven's test, as we compare the averages of two samples and it will help us to compare the variances, and the T-test."
   ]
  },
  {
   "cell_type": "code",
   "execution_count": 79,
   "metadata": {},
   "outputs": [],
   "source": [
    "def revenue_ttest(sample1, sample2):\n",
    "    \n",
    "    pvalue_levene = st.levene(sample1, sample2).pvalue\n",
    "    \n",
    "    alpha = 0.05\n",
    "\n",
    "    if pvalue_levene < alpha:\n",
    "        eqvar = False\n",
    "    else:\n",
    "        eqvar = True\n",
    "    \n",
    "    if st.ttest_ind(sample1, sample2, equal_var=eqvar).pvalue < alpha:\n",
    "        print('Reject H0: average of sample 1 is not equal to average of sample 2')\n",
    "    else:\n",
    "        print(\"Fail to Reject H0: We don't have enough evidence to say that averages of sample 1 and sample 2 are not the same\")"
   ]
  },
  {
   "cell_type": "code",
   "execution_count": 80,
   "metadata": {},
   "outputs": [
    {
     "name": "stdout",
     "output_type": "stream",
     "text": [
      "Reject H0: average of sample 1 is not equal to average of sample 2\n"
     ]
    }
   ],
   "source": [
    "revenue_ttest(ult_sample, surf_sample)"
   ]
  },
  {
   "cell_type": "code",
   "execution_count": 81,
   "metadata": {},
   "outputs": [
    {
     "name": "stdout",
     "output_type": "stream",
     "text": [
      "Fail to Reject H0: We don't have enough evidence to say that averages of sample 1 and sample 2 are not the same\n"
     ]
    }
   ],
   "source": [
    "revenue_ttest(nj_sample, others_sample)"
   ]
  },
  {
   "cell_type": "markdown",
   "metadata": {},
   "source": [
    "*Conclusion*: \n",
    "1) we can succesfully reject the H0 which states that there's no difference between the revenue of two plans. This means that there is a chance that there's a difference between the revenues. Now to answer which of the plans bring in more revenue we'll need to run a one-tailed hypothesis.\n",
    "\n",
    "2) We failed to reject H0 that states that there's no difference between the revenue from NY-NJ area and other regions. It's highly possibly that revenue doesn't depend on whether the user lives in NY-NJ or another regions."
   ]
  },
  {
   "cell_type": "code",
   "execution_count": 82,
   "metadata": {},
   "outputs": [
    {
     "data": {
      "text/plain": [
       "72.31388888888888"
      ]
     },
     "execution_count": 82,
     "metadata": {},
     "output_type": "execute_result"
    }
   ],
   "source": [
    "ult_sample.mean()"
   ]
  },
  {
   "cell_type": "code",
   "execution_count": 83,
   "metadata": {},
   "outputs": [
    {
     "data": {
      "text/plain": [
       "60.70640813731715"
      ]
     },
     "execution_count": 83,
     "metadata": {},
     "output_type": "execute_result"
    }
   ],
   "source": [
    "surf_sample.mean()"
   ]
  },
  {
   "cell_type": "markdown",
   "metadata": {},
   "source": [
    "For our new test we'll use one-tailed hypothesis. We want to check whether revenue from Ultimate (as it costs more) is greater than the revenue from Surf.\n",
    "\n",
    "* H0 is that the revenue from Ultimate is the same as revenue from Surf.\n",
    "* H1 is that the revenue from Ultimate is greater than that from Surf.\n",
    "\n",
    "The alpha will stay 5%."
   ]
  },
  {
   "cell_type": "code",
   "execution_count": 84,
   "metadata": {},
   "outputs": [
    {
     "name": "stdout",
     "output_type": "stream",
     "text": [
      "Reject H0: the revenue from Ultimate was significantly greater than from Surf\n"
     ]
    }
   ],
   "source": [
    "average_value = surf_sample.mean()\n",
    "\n",
    "results = st.ttest_1samp(ult_sample, average_value).pvalue\n",
    "\n",
    "if (results/2 < alpha) and (ult_sample.mean() > average_value):\n",
    "    print('Reject H0: the revenue from Ultimate was significantly greater than from Surf')\n",
    "else:\n",
    "    print(\"Fail to Reject H0: the Ultimate revenue wasn't significantly greater\")"
   ]
  },
  {
   "cell_type": "markdown",
   "metadata": {},
   "source": [
    "<a id=\"conclusion4\"></a>\n",
    "### Conclusion"
   ]
  },
  {
   "cell_type": "markdown",
   "metadata": {},
   "source": [
    "We've run 3 hypotheses tests and here are the conclusions we've come to:\n",
    "\n",
    "1) We can reject the null hypothesis being that there's no difference between the revenue of two plans. It is more likely that the first hypothesis is true, and considering all other statistical investogations we've done before, it is highly likely that the average revenue differs between two plans.\n",
    "\n",
    "2) We failed to reject the null hypothesis being that there's no difference between revenues from NY-NJ area and all other regions. Still it is better to take into consideration that our sample size of NY-NJ was considerably smaller than the size of all other regions together.\n",
    "\n",
    "3) As we saw that there's a high chance that there's a difference in average revenue per plan, we ran an additional test to find out that most likely average revenue from Ultimate is higher than that of Surf. "
   ]
  },
  {
   "cell_type": "markdown",
   "metadata": {},
   "source": [
    "<a id=\"final-conclusion\"></a>\n",
    "## Overall conclusion"
   ]
  },
  {
   "cell_type": "markdown",
   "metadata": {},
   "source": [
    "In conclusion we'd like to sum up all the information we've gathered and found out from our data.\n",
    "\n",
    "<b>User behaviour</b>\n",
    "<br>Users' behaviour doesn't vary very much between the two plans, hence:\n",
    "* half of the users need up to 425 minutes per month:\n",
    "    * *Ultimate*: majority doesn't go over the limit of their plan being 3000 minutes per month\n",
    "    * *Surf*: half of the users need more than 425 minutes for calls monthly, meaning that there's a great amount of users exceeding their plan limit being 500 minutes.\n",
    "* there is some notable difference between average number of messages per plan, although we have to note that this service has the least influence among others, and also isn't used on daily basis:\n",
    "    * *Ultimate*: on average  the user needs 30 sms per month, about a half of users use up to 140 messages per month, which still is a number much lower than plan's limit being 1000.\n",
    "    * *Surf*: on average the user needs 24 sms per month, which is way low the limit being 50. The data is varied, meaning it mostly depends on individual need of the user.\n",
    "* the most notable service for us is mobile Internet as it is a service that influences monthly revenue the most:\n",
    "    * *Ultimate*: on average users need 17 Gb per month, while almost half of users use up to 32Gb, which slightly exceeds the limit of the plan being 30Gb.\n",
    "    * *Surf*: the same as Ultimate users, 17Gb is the average, which is already over the threshold of 15Gb. Half of users use up to 32Gb. Note, that for this plan users pay extra 10 dollars for each additional Gb.\n",
    "* at last, we'll describe revenue from each of the plans:\n",
    "    * *Ultimate*: average and absolute majority pay 70 dollars per month, meaning only the basic cost of the plan.\n",
    "    * *Surf*: on average monthly revenue is 40 dollars, which is already twice greater than a basic cost of the plan, being 20 dollars. \n",
    "    \n",
    "<b>Hypotheses' testing</b>\n",
    "\n",
    "We've tested some hypotheses and came to a conclusion that:\n",
    "* After testing hypotheses about equality between the revenue of two plans, we've come to a conclusion that there's a high chance that the revenue between two plans has different potential and that Ultimate brings in more revenue. We advise advertising it, especially among many users of Surf that their current plan isn't sufficient for their needs, paying attention that usage of mobile Internet is the most insufficient and expensive for them at the moment.\n",
    "* We've tested the idea of whether there could be a difference in revenue depending on the living area. We've checked NY-NJ area versus all other regions, and this hypothesis is highly likely can be rejected."
   ]
  },
  {
   "cell_type": "markdown",
   "metadata": {},
   "source": [
    "<b>Recommendations for business:</b>\n",
    "\n",
    "* Surf users exceed the limits of their plan on a monthly basis, especially the Internet usage. They pay on average twice the basic price of their plan. Considering that Ultimate plan has potential to bring in more revenue, but is less popular because of it's high price, it is recommended to advertise this plan to the group of Surf users that actively use mobile Internet, while highlighting the Internet limits. \n",
    "\n",
    "* For those users and any other potential users of Megaline it can be a good idea to temporary reduce the basic cost of Ultimate, for example, for the first 3 months, as it will make the plan more attractive.\n",
    "\n",
    "* Overall Ultimate is much less attractive for users but is more fit to satisfy their needs for mobile Internet and highly likely will bring more revenue, so overall recommendation is to use any other techniques that could make this plan more attractive."
   ]
  },
  {
   "cell_type": "code",
   "execution_count": null,
   "metadata": {},
   "outputs": [],
   "source": []
  }
 ],
 "metadata": {
  "ExecuteTimeLog": [
   {
    "duration": 1026,
    "start_time": "2021-11-06T20:29:20.394Z"
   },
   {
    "duration": 297,
    "start_time": "2021-11-06T20:31:36.209Z"
   },
   {
    "duration": 301,
    "start_time": "2021-11-06T20:32:06.045Z"
   },
   {
    "duration": 975,
    "start_time": "2021-11-07T06:15:28.382Z"
   },
   {
    "duration": 1744,
    "start_time": "2021-11-07T06:15:30.673Z"
   },
   {
    "duration": 17,
    "start_time": "2021-11-07T06:15:44.464Z"
   },
   {
    "duration": 12,
    "start_time": "2021-11-07T06:16:01.304Z"
   },
   {
    "duration": 14,
    "start_time": "2021-11-07T06:22:34.863Z"
   },
   {
    "duration": 8,
    "start_time": "2021-11-07T06:22:58.694Z"
   },
   {
    "duration": 17,
    "start_time": "2021-11-07T06:32:12.443Z"
   },
   {
    "duration": 7,
    "start_time": "2021-11-07T06:33:37.603Z"
   },
   {
    "duration": 1068,
    "start_time": "2021-11-07T11:22:03.429Z"
   },
   {
    "duration": 309,
    "start_time": "2021-11-07T11:22:05.448Z"
   },
   {
    "duration": 18,
    "start_time": "2021-11-07T11:22:08.759Z"
   },
   {
    "duration": 12,
    "start_time": "2021-11-07T11:22:13.781Z"
   },
   {
    "duration": 7,
    "start_time": "2021-11-07T11:27:38.340Z"
   },
   {
    "duration": 9,
    "start_time": "2021-11-07T11:27:58.828Z"
   },
   {
    "duration": 9,
    "start_time": "2021-11-07T11:28:43.258Z"
   },
   {
    "duration": 7,
    "start_time": "2021-11-07T11:32:52.019Z"
   },
   {
    "duration": 11,
    "start_time": "2021-11-07T11:33:11.479Z"
   },
   {
    "duration": 24,
    "start_time": "2021-11-07T12:10:10.629Z"
   },
   {
    "duration": 20,
    "start_time": "2021-11-07T12:32:09.174Z"
   },
   {
    "duration": 1134,
    "start_time": "2021-11-07T16:10:46.968Z"
   },
   {
    "duration": 342,
    "start_time": "2021-11-07T16:10:49.378Z"
   },
   {
    "duration": 19,
    "start_time": "2021-11-07T16:10:54.566Z"
   },
   {
    "duration": 13,
    "start_time": "2021-11-07T16:11:00.017Z"
   },
   {
    "duration": 27,
    "start_time": "2021-11-07T16:11:03.937Z"
   },
   {
    "duration": 16,
    "start_time": "2021-11-07T16:11:16.078Z"
   },
   {
    "duration": 8,
    "start_time": "2021-11-07T16:11:19.648Z"
   },
   {
    "duration": 21,
    "start_time": "2021-11-07T16:11:23.358Z"
   },
   {
    "duration": 19,
    "start_time": "2021-11-07T16:11:28.909Z"
   },
   {
    "duration": 8,
    "start_time": "2021-11-07T16:11:32.456Z"
   },
   {
    "duration": 7,
    "start_time": "2021-11-07T16:11:42.487Z"
   },
   {
    "duration": 9,
    "start_time": "2021-11-07T16:11:43.639Z"
   },
   {
    "duration": 7,
    "start_time": "2021-11-07T16:11:50.826Z"
   },
   {
    "duration": 10,
    "start_time": "2021-11-07T16:11:54.738Z"
   },
   {
    "duration": 11,
    "start_time": "2021-11-07T16:17:25.337Z"
   },
   {
    "duration": 12,
    "start_time": "2021-11-07T16:17:42.821Z"
   },
   {
    "duration": 419,
    "start_time": "2021-11-07T16:20:47.674Z"
   },
   {
    "duration": 360,
    "start_time": "2021-11-07T16:21:06.035Z"
   },
   {
    "duration": 339,
    "start_time": "2021-11-07T16:22:38.652Z"
   },
   {
    "duration": 5,
    "start_time": "2021-11-07T16:22:48.937Z"
   },
   {
    "duration": 8,
    "start_time": "2021-11-07T16:23:23.697Z"
   },
   {
    "duration": 7,
    "start_time": "2021-11-07T16:25:12.027Z"
   },
   {
    "duration": 6,
    "start_time": "2021-11-07T16:26:32.681Z"
   },
   {
    "duration": 359,
    "start_time": "2021-11-07T16:29:07.480Z"
   },
   {
    "duration": 576,
    "start_time": "2021-11-07T16:29:13.824Z"
   },
   {
    "duration": 8,
    "start_time": "2021-11-07T16:29:29.092Z"
   },
   {
    "duration": 7,
    "start_time": "2021-11-07T16:29:38.935Z"
   },
   {
    "duration": 4,
    "start_time": "2021-11-07T16:29:59.715Z"
   },
   {
    "duration": 3,
    "start_time": "2021-11-07T18:35:04.807Z"
   },
   {
    "duration": 20,
    "start_time": "2021-11-07T18:55:07.228Z"
   },
   {
    "duration": 1654,
    "start_time": "2021-11-08T09:23:56.375Z"
   },
   {
    "duration": 551,
    "start_time": "2021-11-08T09:23:59.018Z"
   },
   {
    "duration": 38,
    "start_time": "2021-11-08T09:24:03.146Z"
   },
   {
    "duration": 55,
    "start_time": "2021-11-08T09:24:09.384Z"
   },
   {
    "duration": 13,
    "start_time": "2021-11-08T09:24:12.160Z"
   },
   {
    "duration": 25,
    "start_time": "2021-11-08T09:24:12.800Z"
   },
   {
    "duration": 19,
    "start_time": "2021-11-08T09:24:23.371Z"
   },
   {
    "duration": 12,
    "start_time": "2021-11-08T09:24:24.098Z"
   },
   {
    "duration": 29,
    "start_time": "2021-11-08T09:24:26.176Z"
   },
   {
    "duration": 8,
    "start_time": "2021-11-08T09:24:26.847Z"
   },
   {
    "duration": 15,
    "start_time": "2021-11-08T09:24:30.222Z"
   },
   {
    "duration": 11,
    "start_time": "2021-11-08T09:24:30.877Z"
   },
   {
    "duration": 8,
    "start_time": "2021-11-08T09:24:33.044Z"
   },
   {
    "duration": 9,
    "start_time": "2021-11-08T09:24:35.653Z"
   },
   {
    "duration": 14,
    "start_time": "2021-11-08T09:24:37.752Z"
   },
   {
    "duration": 10,
    "start_time": "2021-11-08T09:24:41.032Z"
   },
   {
    "duration": 16,
    "start_time": "2021-11-08T09:24:41.955Z"
   },
   {
    "duration": 6,
    "start_time": "2021-11-08T09:24:45.153Z"
   },
   {
    "duration": 407,
    "start_time": "2021-11-08T09:30:47.544Z"
   },
   {
    "duration": 403,
    "start_time": "2021-11-08T09:31:02.328Z"
   },
   {
    "duration": 46,
    "start_time": "2021-11-08T09:31:12.919Z"
   },
   {
    "duration": 10,
    "start_time": "2021-11-08T09:31:35.731Z"
   },
   {
    "duration": 11,
    "start_time": "2021-11-08T09:31:44.962Z"
   },
   {
    "duration": 276,
    "start_time": "2021-11-08T09:33:42.892Z"
   },
   {
    "duration": 36,
    "start_time": "2021-11-08T09:33:54.445Z"
   },
   {
    "duration": 9,
    "start_time": "2021-11-08T09:34:23.870Z"
   },
   {
    "duration": 51,
    "start_time": "2021-11-08T09:36:13.403Z"
   },
   {
    "duration": 39,
    "start_time": "2021-11-08T09:38:24.649Z"
   },
   {
    "duration": 335,
    "start_time": "2021-11-08T10:47:12.309Z"
   },
   {
    "duration": 499,
    "start_time": "2021-11-08T10:47:59.984Z"
   },
   {
    "duration": 285,
    "start_time": "2021-11-08T10:52:22.498Z"
   },
   {
    "duration": 112,
    "start_time": "2021-11-08T11:15:03.735Z"
   },
   {
    "duration": 87,
    "start_time": "2021-11-08T11:16:08.438Z"
   },
   {
    "duration": 102,
    "start_time": "2021-11-08T11:17:07.081Z"
   },
   {
    "duration": 133,
    "start_time": "2021-11-08T11:19:00.899Z"
   },
   {
    "duration": 112,
    "start_time": "2021-11-08T11:21:05.351Z"
   },
   {
    "duration": 109,
    "start_time": "2021-11-08T11:24:22.657Z"
   },
   {
    "duration": 115,
    "start_time": "2021-11-08T11:47:32.915Z"
   },
   {
    "duration": 18,
    "start_time": "2021-11-08T11:51:57.021Z"
   },
   {
    "duration": 11,
    "start_time": "2021-11-08T11:52:35.894Z"
   },
   {
    "duration": 19,
    "start_time": "2021-11-08T11:54:18.697Z"
   },
   {
    "duration": 16,
    "start_time": "2021-11-08T11:55:01.746Z"
   },
   {
    "duration": 13,
    "start_time": "2021-11-08T11:55:08.104Z"
   },
   {
    "duration": 19,
    "start_time": "2021-11-08T11:55:55.850Z"
   },
   {
    "duration": 14,
    "start_time": "2021-11-08T11:56:10.227Z"
   },
   {
    "duration": 10,
    "start_time": "2021-11-08T11:56:26.300Z"
   },
   {
    "duration": 10,
    "start_time": "2021-11-08T11:56:31.987Z"
   },
   {
    "duration": 12,
    "start_time": "2021-11-08T11:56:38.755Z"
   },
   {
    "duration": 13,
    "start_time": "2021-11-08T11:56:56.158Z"
   },
   {
    "duration": 15,
    "start_time": "2021-11-08T11:59:44.057Z"
   },
   {
    "duration": 9,
    "start_time": "2021-11-08T12:11:13.704Z"
   },
   {
    "duration": 7,
    "start_time": "2021-11-08T12:36:41.810Z"
   },
   {
    "duration": 10,
    "start_time": "2021-11-08T12:36:52.157Z"
   },
   {
    "duration": 7,
    "start_time": "2021-11-08T12:37:12.009Z"
   },
   {
    "duration": 283,
    "start_time": "2021-11-08T12:37:44.290Z"
   },
   {
    "duration": 292,
    "start_time": "2021-11-08T12:37:58.209Z"
   },
   {
    "duration": 272,
    "start_time": "2021-11-08T12:38:07.582Z"
   },
   {
    "duration": 10,
    "start_time": "2021-11-08T12:38:49.278Z"
   },
   {
    "duration": 11,
    "start_time": "2021-11-08T12:39:31.761Z"
   },
   {
    "duration": 305,
    "start_time": "2021-11-08T12:39:46.397Z"
   },
   {
    "duration": 16,
    "start_time": "2021-11-08T12:40:00.671Z"
   },
   {
    "duration": 295,
    "start_time": "2021-11-08T12:40:56.234Z"
   },
   {
    "duration": 14,
    "start_time": "2021-11-08T12:41:03.956Z"
   },
   {
    "duration": 9,
    "start_time": "2021-11-08T12:54:24.931Z"
   },
   {
    "duration": 9,
    "start_time": "2021-11-08T12:55:33.400Z"
   },
   {
    "duration": 13,
    "start_time": "2021-11-08T13:09:04.800Z"
   },
   {
    "duration": 11,
    "start_time": "2021-11-08T13:09:24.421Z"
   },
   {
    "duration": 8,
    "start_time": "2021-11-08T13:09:51.399Z"
   },
   {
    "duration": 9,
    "start_time": "2021-11-08T13:09:53.453Z"
   },
   {
    "duration": 18,
    "start_time": "2021-11-08T13:11:21.980Z"
   },
   {
    "duration": 11,
    "start_time": "2021-11-08T13:12:00.699Z"
   },
   {
    "duration": 13,
    "start_time": "2021-11-08T13:14:53.015Z"
   },
   {
    "duration": 26,
    "start_time": "2021-11-08T13:21:03.472Z"
   },
   {
    "duration": 7133,
    "start_time": "2021-11-08T13:22:36.698Z"
   },
   {
    "duration": 143,
    "start_time": "2021-11-08T13:23:33.930Z"
   },
   {
    "duration": 25,
    "start_time": "2021-11-08T13:23:43.604Z"
   },
   {
    "duration": 25,
    "start_time": "2021-11-08T13:26:09.780Z"
   },
   {
    "duration": 284,
    "start_time": "2021-11-08T13:26:53.647Z"
   },
   {
    "duration": 278,
    "start_time": "2021-11-08T13:27:53.614Z"
   },
   {
    "duration": 7,
    "start_time": "2021-11-08T13:28:15.982Z"
   },
   {
    "duration": 8,
    "start_time": "2021-11-08T13:36:53.964Z"
   },
   {
    "duration": 24,
    "start_time": "2021-11-08T13:37:21.151Z"
   },
   {
    "duration": 10,
    "start_time": "2021-11-08T13:56:40.067Z"
   },
   {
    "duration": 13,
    "start_time": "2021-11-08T13:57:05.555Z"
   },
   {
    "duration": 10,
    "start_time": "2021-11-08T13:57:26.038Z"
   },
   {
    "duration": 61,
    "start_time": "2021-11-08T13:58:32.185Z"
   },
   {
    "duration": 115,
    "start_time": "2021-11-08T13:59:30.373Z"
   },
   {
    "duration": 17,
    "start_time": "2021-11-08T14:08:58.304Z"
   },
   {
    "duration": 11,
    "start_time": "2021-11-08T14:09:06.795Z"
   },
   {
    "duration": 346,
    "start_time": "2021-11-08T14:09:33.028Z"
   },
   {
    "duration": 99,
    "start_time": "2021-11-08T14:16:35.336Z"
   },
   {
    "duration": 28,
    "start_time": "2021-11-08T14:16:53.271Z"
   },
   {
    "duration": 19,
    "start_time": "2021-11-08T14:16:55.088Z"
   },
   {
    "duration": 299,
    "start_time": "2021-11-08T14:19:18.727Z"
   },
   {
    "duration": 29,
    "start_time": "2021-11-08T14:19:50.958Z"
   },
   {
    "duration": 24,
    "start_time": "2021-11-08T14:40:28.033Z"
   },
   {
    "duration": 17,
    "start_time": "2021-11-08T14:40:29.206Z"
   },
   {
    "duration": 32,
    "start_time": "2021-11-08T14:41:52.833Z"
   },
   {
    "duration": 18,
    "start_time": "2021-11-08T14:41:54.337Z"
   },
   {
    "duration": 24,
    "start_time": "2021-11-08T14:42:15.769Z"
   },
   {
    "duration": 16,
    "start_time": "2021-11-08T14:42:17.068Z"
   },
   {
    "duration": 19,
    "start_time": "2021-11-08T14:46:38.070Z"
   },
   {
    "duration": 13,
    "start_time": "2021-11-08T14:46:39.236Z"
   },
   {
    "duration": 6,
    "start_time": "2021-11-08T14:51:04.204Z"
   },
   {
    "duration": 21,
    "start_time": "2021-11-08T14:51:12.842Z"
   },
   {
    "duration": 18,
    "start_time": "2021-11-08T14:52:40.238Z"
   },
   {
    "duration": 16,
    "start_time": "2021-11-08T14:52:57.109Z"
   },
   {
    "duration": 15,
    "start_time": "2021-11-08T14:53:46.905Z"
   },
   {
    "duration": 278,
    "start_time": "2021-11-08T15:14:32.693Z"
   },
   {
    "duration": 290,
    "start_time": "2021-11-08T15:14:44.730Z"
   },
   {
    "duration": 6,
    "start_time": "2021-11-08T15:14:51.274Z"
   },
   {
    "duration": 8,
    "start_time": "2021-11-08T15:15:11.292Z"
   },
   {
    "duration": 11,
    "start_time": "2021-11-08T15:16:55.058Z"
   },
   {
    "duration": 12,
    "start_time": "2021-11-08T15:17:07.539Z"
   },
   {
    "duration": 8,
    "start_time": "2021-11-08T15:35:24.805Z"
   },
   {
    "duration": 9,
    "start_time": "2021-11-08T15:35:47.421Z"
   },
   {
    "duration": 299,
    "start_time": "2021-11-08T15:38:31.897Z"
   },
   {
    "duration": 22,
    "start_time": "2021-11-08T15:38:46.496Z"
   },
   {
    "duration": 22,
    "start_time": "2021-11-08T15:38:56.318Z"
   },
   {
    "duration": 24,
    "start_time": "2021-11-08T15:39:14.768Z"
   },
   {
    "duration": 5,
    "start_time": "2021-11-08T15:39:44.905Z"
   },
   {
    "duration": 6,
    "start_time": "2021-11-08T15:40:12.324Z"
   },
   {
    "duration": 16,
    "start_time": "2021-11-08T15:40:27.836Z"
   },
   {
    "duration": 16,
    "start_time": "2021-11-08T15:40:44.778Z"
   },
   {
    "duration": 29,
    "start_time": "2021-11-08T15:41:10.143Z"
   },
   {
    "duration": 5,
    "start_time": "2021-11-08T15:41:15.800Z"
   },
   {
    "duration": 17,
    "start_time": "2021-11-08T15:41:16.862Z"
   },
   {
    "duration": 1295,
    "start_time": "2021-11-08T15:44:53.076Z"
   },
   {
    "duration": 376,
    "start_time": "2021-11-08T15:44:54.374Z"
   },
   {
    "duration": 22,
    "start_time": "2021-11-08T15:44:54.753Z"
   },
   {
    "duration": 16,
    "start_time": "2021-11-08T15:44:54.778Z"
   },
   {
    "duration": 36,
    "start_time": "2021-11-08T15:44:54.797Z"
   },
   {
    "duration": 9,
    "start_time": "2021-11-08T15:44:54.836Z"
   },
   {
    "duration": 24,
    "start_time": "2021-11-08T15:44:54.849Z"
   },
   {
    "duration": 47,
    "start_time": "2021-11-08T15:44:54.875Z"
   },
   {
    "duration": 12,
    "start_time": "2021-11-08T15:44:54.924Z"
   },
   {
    "duration": 32,
    "start_time": "2021-11-08T15:44:54.938Z"
   },
   {
    "duration": 8,
    "start_time": "2021-11-08T15:44:54.972Z"
   },
   {
    "duration": 52,
    "start_time": "2021-11-08T15:44:54.982Z"
   },
   {
    "duration": 11,
    "start_time": "2021-11-08T15:44:55.036Z"
   },
   {
    "duration": 10,
    "start_time": "2021-11-08T15:44:55.049Z"
   },
   {
    "duration": 9,
    "start_time": "2021-11-08T15:44:55.061Z"
   },
   {
    "duration": 52,
    "start_time": "2021-11-08T15:44:55.073Z"
   },
   {
    "duration": 10,
    "start_time": "2021-11-08T15:44:55.127Z"
   },
   {
    "duration": 16,
    "start_time": "2021-11-08T15:44:55.142Z"
   },
   {
    "duration": 7,
    "start_time": "2021-11-08T15:44:55.161Z"
   },
   {
    "duration": 54,
    "start_time": "2021-11-08T15:44:55.170Z"
   },
   {
    "duration": 17,
    "start_time": "2021-11-08T15:44:55.226Z"
   },
   {
    "duration": 13,
    "start_time": "2021-11-08T15:44:55.246Z"
   },
   {
    "duration": 7,
    "start_time": "2021-11-08T15:44:55.261Z"
   },
   {
    "duration": 13,
    "start_time": "2021-11-08T15:44:55.270Z"
   },
   {
    "duration": 9,
    "start_time": "2021-11-08T15:44:55.322Z"
   },
   {
    "duration": 27,
    "start_time": "2021-11-08T15:44:55.333Z"
   },
   {
    "duration": 10,
    "start_time": "2021-11-08T15:44:55.362Z"
   },
   {
    "duration": 50,
    "start_time": "2021-11-08T15:44:55.374Z"
   },
   {
    "duration": 64,
    "start_time": "2021-11-08T15:44:55.427Z"
   },
   {
    "duration": 135,
    "start_time": "2021-11-08T15:44:55.493Z"
   },
   {
    "duration": 115,
    "start_time": "2021-11-08T15:44:55.630Z"
   },
   {
    "duration": 6,
    "start_time": "2021-11-08T15:44:55.747Z"
   },
   {
    "duration": 18,
    "start_time": "2021-11-08T15:44:55.755Z"
   },
   {
    "duration": 55,
    "start_time": "2021-11-08T15:44:55.775Z"
   },
   {
    "duration": 6,
    "start_time": "2021-11-08T15:44:55.833Z"
   },
   {
    "duration": 22,
    "start_time": "2021-11-08T15:44:55.841Z"
   },
   {
    "duration": 26,
    "start_time": "2021-11-08T15:44:55.866Z"
   },
   {
    "duration": 40,
    "start_time": "2021-11-08T15:44:55.894Z"
   },
   {
    "duration": 24,
    "start_time": "2021-11-08T15:44:55.936Z"
   },
   {
    "duration": 18,
    "start_time": "2021-11-08T15:44:55.963Z"
   },
   {
    "duration": 42,
    "start_time": "2021-11-08T15:44:55.984Z"
   },
   {
    "duration": 20,
    "start_time": "2021-11-08T15:44:56.029Z"
   },
   {
    "duration": 4,
    "start_time": "2021-11-08T18:31:12.640Z"
   },
   {
    "duration": 23,
    "start_time": "2021-11-08T18:36:08.245Z"
   },
   {
    "duration": 5,
    "start_time": "2021-11-08T18:36:20.448Z"
   },
   {
    "duration": 17,
    "start_time": "2021-11-08T18:36:35.119Z"
   },
   {
    "duration": 5,
    "start_time": "2021-11-08T18:37:26.876Z"
   },
   {
    "duration": 16,
    "start_time": "2021-11-08T18:37:27.675Z"
   },
   {
    "duration": 31,
    "start_time": "2021-11-08T18:38:20.206Z"
   },
   {
    "duration": 6,
    "start_time": "2021-11-08T18:38:21.173Z"
   },
   {
    "duration": 16,
    "start_time": "2021-11-08T18:38:22.813Z"
   },
   {
    "duration": 24,
    "start_time": "2021-11-08T18:38:26.291Z"
   },
   {
    "duration": 17,
    "start_time": "2021-11-08T18:38:27.186Z"
   },
   {
    "duration": 20,
    "start_time": "2021-11-08T18:38:31.006Z"
   },
   {
    "duration": 13,
    "start_time": "2021-11-08T18:38:31.872Z"
   },
   {
    "duration": 6,
    "start_time": "2021-11-08T18:38:36.620Z"
   },
   {
    "duration": 13,
    "start_time": "2021-11-08T18:38:37.499Z"
   },
   {
    "duration": 22,
    "start_time": "2021-11-08T18:38:41.936Z"
   },
   {
    "duration": 6,
    "start_time": "2021-11-08T18:38:42.900Z"
   },
   {
    "duration": 17,
    "start_time": "2021-11-08T18:38:44.202Z"
   },
   {
    "duration": 7,
    "start_time": "2021-11-08T18:50:42.535Z"
   },
   {
    "duration": 9,
    "start_time": "2021-11-08T18:51:02.483Z"
   },
   {
    "duration": 6,
    "start_time": "2021-11-08T18:53:11.997Z"
   },
   {
    "duration": 400,
    "start_time": "2021-11-08T19:14:41.423Z"
   },
   {
    "duration": 38,
    "start_time": "2021-11-08T19:15:50.497Z"
   },
   {
    "duration": 21,
    "start_time": "2021-11-08T19:17:26.417Z"
   },
   {
    "duration": 5,
    "start_time": "2021-11-08T19:17:27.394Z"
   },
   {
    "duration": 17,
    "start_time": "2021-11-08T19:17:28.410Z"
   },
   {
    "duration": 50,
    "start_time": "2021-11-08T19:18:54.250Z"
   },
   {
    "duration": 12,
    "start_time": "2021-11-08T19:30:56.645Z"
   },
   {
    "duration": 11,
    "start_time": "2021-11-08T19:31:04.299Z"
   },
   {
    "duration": 261,
    "start_time": "2021-11-08T19:45:29.606Z"
   },
   {
    "duration": 8,
    "start_time": "2021-11-08T19:45:38.389Z"
   },
   {
    "duration": 8,
    "start_time": "2021-11-08T19:45:49.931Z"
   },
   {
    "duration": 299,
    "start_time": "2021-11-08T19:46:31.138Z"
   },
   {
    "duration": 10,
    "start_time": "2021-11-08T19:46:49.417Z"
   },
   {
    "duration": 280,
    "start_time": "2021-11-08T19:55:44.583Z"
   },
   {
    "duration": 303,
    "start_time": "2021-11-08T19:56:21.292Z"
   },
   {
    "duration": 10,
    "start_time": "2021-11-08T19:56:39.663Z"
   },
   {
    "duration": 9,
    "start_time": "2021-11-08T19:57:22.834Z"
   },
   {
    "duration": 8,
    "start_time": "2021-11-08T19:57:47.923Z"
   },
   {
    "duration": 10,
    "start_time": "2021-11-08T19:57:52.386Z"
   },
   {
    "duration": 9,
    "start_time": "2021-11-08T19:58:08.809Z"
   },
   {
    "duration": 6,
    "start_time": "2021-11-08T20:06:29.067Z"
   },
   {
    "duration": 355,
    "start_time": "2021-11-08T20:06:38.753Z"
   },
   {
    "duration": 96,
    "start_time": "2021-11-08T20:06:52.047Z"
   },
   {
    "duration": 6,
    "start_time": "2021-11-08T20:07:20.964Z"
   },
   {
    "duration": 7,
    "start_time": "2021-11-08T20:07:37.059Z"
   },
   {
    "duration": 5,
    "start_time": "2021-11-08T20:08:08.211Z"
   },
   {
    "duration": 4,
    "start_time": "2021-11-08T20:08:11.704Z"
   },
   {
    "duration": 6,
    "start_time": "2021-11-08T20:08:21.522Z"
   },
   {
    "duration": 5,
    "start_time": "2021-11-08T20:15:14.389Z"
   },
   {
    "duration": 12,
    "start_time": "2021-11-08T20:15:16.087Z"
   },
   {
    "duration": 5,
    "start_time": "2021-11-08T20:15:37.556Z"
   },
   {
    "duration": 408,
    "start_time": "2021-11-08T20:15:37.563Z"
   },
   {
    "duration": 22,
    "start_time": "2021-11-08T20:15:37.975Z"
   },
   {
    "duration": 15,
    "start_time": "2021-11-08T20:15:38.000Z"
   },
   {
    "duration": 43,
    "start_time": "2021-11-08T20:15:38.018Z"
   },
   {
    "duration": 10,
    "start_time": "2021-11-08T20:15:38.064Z"
   },
   {
    "duration": 27,
    "start_time": "2021-11-08T20:15:38.077Z"
   },
   {
    "duration": 19,
    "start_time": "2021-11-08T20:15:38.123Z"
   },
   {
    "duration": 12,
    "start_time": "2021-11-08T20:15:38.146Z"
   },
   {
    "duration": 65,
    "start_time": "2021-11-08T20:15:38.162Z"
   },
   {
    "duration": 8,
    "start_time": "2021-11-08T20:15:38.229Z"
   },
   {
    "duration": 16,
    "start_time": "2021-11-08T20:15:38.239Z"
   },
   {
    "duration": 12,
    "start_time": "2021-11-08T20:15:38.258Z"
   },
   {
    "duration": 18,
    "start_time": "2021-11-08T20:15:38.272Z"
   },
   {
    "duration": 10,
    "start_time": "2021-11-08T20:15:38.322Z"
   },
   {
    "duration": 20,
    "start_time": "2021-11-08T20:15:38.334Z"
   },
   {
    "duration": 10,
    "start_time": "2021-11-08T20:15:38.357Z"
   },
   {
    "duration": 18,
    "start_time": "2021-11-08T20:15:38.370Z"
   },
   {
    "duration": 33,
    "start_time": "2021-11-08T20:15:38.391Z"
   },
   {
    "duration": 13,
    "start_time": "2021-11-08T20:15:38.426Z"
   },
   {
    "duration": 17,
    "start_time": "2021-11-08T20:15:38.442Z"
   },
   {
    "duration": 12,
    "start_time": "2021-11-08T20:15:38.462Z"
   },
   {
    "duration": 49,
    "start_time": "2021-11-08T20:15:38.477Z"
   },
   {
    "duration": 9,
    "start_time": "2021-11-08T20:15:38.530Z"
   },
   {
    "duration": 12,
    "start_time": "2021-11-08T20:15:38.543Z"
   },
   {
    "duration": 16,
    "start_time": "2021-11-08T20:15:38.557Z"
   },
   {
    "duration": 11,
    "start_time": "2021-11-08T20:15:38.624Z"
   },
   {
    "duration": 23,
    "start_time": "2021-11-08T20:15:38.638Z"
   },
   {
    "duration": 86,
    "start_time": "2021-11-08T20:15:38.664Z"
   },
   {
    "duration": 123,
    "start_time": "2021-11-08T20:15:38.753Z"
   },
   {
    "duration": 122,
    "start_time": "2021-11-08T20:15:38.879Z"
   },
   {
    "duration": 23,
    "start_time": "2021-11-08T20:15:39.003Z"
   },
   {
    "duration": 8,
    "start_time": "2021-11-08T20:15:39.029Z"
   },
   {
    "duration": 7,
    "start_time": "2021-11-08T20:15:39.039Z"
   },
   {
    "duration": 13,
    "start_time": "2021-11-08T20:15:39.049Z"
   },
   {
    "duration": 71,
    "start_time": "2021-11-08T20:15:39.072Z"
   },
   {
    "duration": 7,
    "start_time": "2021-11-08T20:15:39.145Z"
   },
   {
    "duration": 22,
    "start_time": "2021-11-08T20:15:39.155Z"
   },
   {
    "duration": 52,
    "start_time": "2021-11-08T20:15:39.180Z"
   },
   {
    "duration": 17,
    "start_time": "2021-11-08T20:15:39.235Z"
   },
   {
    "duration": 22,
    "start_time": "2021-11-08T20:15:39.254Z"
   },
   {
    "duration": 15,
    "start_time": "2021-11-08T20:15:39.278Z"
   },
   {
    "duration": 32,
    "start_time": "2021-11-08T20:15:39.295Z"
   },
   {
    "duration": 17,
    "start_time": "2021-11-08T20:15:39.330Z"
   },
   {
    "duration": 28,
    "start_time": "2021-11-08T20:15:39.349Z"
   },
   {
    "duration": 6,
    "start_time": "2021-11-08T20:15:39.379Z"
   },
   {
    "duration": 19,
    "start_time": "2021-11-08T20:15:39.423Z"
   },
   {
    "duration": 49,
    "start_time": "2021-11-08T20:15:39.444Z"
   },
   {
    "duration": 11,
    "start_time": "2021-11-08T20:15:48.313Z"
   },
   {
    "duration": 9,
    "start_time": "2021-11-08T20:28:18.647Z"
   },
   {
    "duration": 8172,
    "start_time": "2021-11-08T20:28:20.301Z"
   },
   {
    "duration": 6956,
    "start_time": "2021-11-08T20:32:39.279Z"
   },
   {
    "duration": 1525,
    "start_time": "2021-11-08T20:33:49.446Z"
   },
   {
    "duration": 382,
    "start_time": "2021-11-08T20:33:50.973Z"
   },
   {
    "duration": 22,
    "start_time": "2021-11-08T20:33:51.358Z"
   },
   {
    "duration": 19,
    "start_time": "2021-11-08T20:33:51.383Z"
   },
   {
    "duration": 32,
    "start_time": "2021-11-08T20:33:51.405Z"
   },
   {
    "duration": 9,
    "start_time": "2021-11-08T20:33:51.439Z"
   },
   {
    "duration": 23,
    "start_time": "2021-11-08T20:33:51.451Z"
   },
   {
    "duration": 50,
    "start_time": "2021-11-08T20:33:51.480Z"
   },
   {
    "duration": 12,
    "start_time": "2021-11-08T20:33:51.533Z"
   },
   {
    "duration": 33,
    "start_time": "2021-11-08T20:33:51.547Z"
   },
   {
    "duration": 8,
    "start_time": "2021-11-08T20:33:51.582Z"
   },
   {
    "duration": 47,
    "start_time": "2021-11-08T20:33:51.592Z"
   },
   {
    "duration": 13,
    "start_time": "2021-11-08T20:33:51.642Z"
   },
   {
    "duration": 12,
    "start_time": "2021-11-08T20:33:51.657Z"
   },
   {
    "duration": 8,
    "start_time": "2021-11-08T20:33:51.671Z"
   },
   {
    "duration": 46,
    "start_time": "2021-11-08T20:33:51.682Z"
   },
   {
    "duration": 13,
    "start_time": "2021-11-08T20:33:51.730Z"
   },
   {
    "duration": 17,
    "start_time": "2021-11-08T20:33:51.745Z"
   },
   {
    "duration": 7,
    "start_time": "2021-11-08T20:33:51.765Z"
   },
   {
    "duration": 11,
    "start_time": "2021-11-08T20:33:51.775Z"
   },
   {
    "duration": 19,
    "start_time": "2021-11-08T20:33:51.823Z"
   },
   {
    "duration": 16,
    "start_time": "2021-11-08T20:33:51.845Z"
   },
   {
    "duration": 7,
    "start_time": "2021-11-08T20:33:51.866Z"
   },
   {
    "duration": 48,
    "start_time": "2021-11-08T20:33:51.876Z"
   },
   {
    "duration": 14,
    "start_time": "2021-11-08T20:33:51.928Z"
   },
   {
    "duration": 15,
    "start_time": "2021-11-08T20:33:51.944Z"
   },
   {
    "duration": 11,
    "start_time": "2021-11-08T20:33:51.961Z"
   },
   {
    "duration": 63,
    "start_time": "2021-11-08T20:33:51.975Z"
   },
   {
    "duration": 62,
    "start_time": "2021-11-08T20:33:52.040Z"
   },
   {
    "duration": 137,
    "start_time": "2021-11-08T20:33:52.104Z"
   },
   {
    "duration": 125,
    "start_time": "2021-11-08T20:33:52.243Z"
   },
   {
    "duration": 10,
    "start_time": "2021-11-08T20:33:52.370Z"
   },
   {
    "duration": 20,
    "start_time": "2021-11-08T20:33:52.382Z"
   },
   {
    "duration": 16,
    "start_time": "2021-11-08T20:33:52.406Z"
   },
   {
    "duration": 15,
    "start_time": "2021-11-08T20:33:52.425Z"
   },
   {
    "duration": 31,
    "start_time": "2021-11-08T20:33:52.443Z"
   },
   {
    "duration": 7,
    "start_time": "2021-11-08T20:33:52.477Z"
   },
   {
    "duration": 48,
    "start_time": "2021-11-08T20:33:52.486Z"
   },
   {
    "duration": 31,
    "start_time": "2021-11-08T20:33:52.536Z"
   },
   {
    "duration": 19,
    "start_time": "2021-11-08T20:33:52.569Z"
   },
   {
    "duration": 49,
    "start_time": "2021-11-08T20:33:52.590Z"
   },
   {
    "duration": 13,
    "start_time": "2021-11-08T20:33:52.642Z"
   },
   {
    "duration": 13,
    "start_time": "2021-11-08T20:33:52.657Z"
   },
   {
    "duration": 16,
    "start_time": "2021-11-08T20:33:52.673Z"
   },
   {
    "duration": 24,
    "start_time": "2021-11-08T20:33:52.722Z"
   },
   {
    "duration": 7,
    "start_time": "2021-11-08T20:33:52.748Z"
   },
   {
    "duration": 22,
    "start_time": "2021-11-08T20:33:52.758Z"
   },
   {
    "duration": 74,
    "start_time": "2021-11-08T20:33:52.782Z"
   },
   {
    "duration": 7677,
    "start_time": "2021-11-08T20:33:52.859Z"
   },
   {
    "duration": -461,
    "start_time": "2021-11-08T20:34:00.999Z"
   },
   {
    "duration": 6,
    "start_time": "2021-11-08T20:34:27.517Z"
   },
   {
    "duration": 11,
    "start_time": "2021-11-08T20:34:41.608Z"
   },
   {
    "duration": 5,
    "start_time": "2021-11-08T20:34:45.225Z"
   },
   {
    "duration": 34,
    "start_time": "2021-11-08T20:34:52.506Z"
   },
   {
    "duration": 26,
    "start_time": "2021-11-08T20:35:01.777Z"
   },
   {
    "duration": 169,
    "start_time": "2021-11-08T20:35:25.558Z"
   },
   {
    "duration": 178,
    "start_time": "2021-11-08T20:35:33.502Z"
   },
   {
    "duration": 10,
    "start_time": "2021-11-08T20:37:18.375Z"
   },
   {
    "duration": 8,
    "start_time": "2021-11-08T20:37:24.041Z"
   },
   {
    "duration": 4931,
    "start_time": "2021-11-08T20:37:26.584Z"
   },
   {
    "duration": 262,
    "start_time": "2021-11-08T20:39:04.657Z"
   },
   {
    "duration": 8,
    "start_time": "2021-11-08T20:39:14.718Z"
   },
   {
    "duration": 5220,
    "start_time": "2021-11-08T20:39:35.535Z"
   },
   {
    "duration": 5275,
    "start_time": "2021-11-08T20:40:05.637Z"
   },
   {
    "duration": 8,
    "start_time": "2021-11-08T20:40:15.459Z"
   },
   {
    "duration": 10,
    "start_time": "2021-11-08T20:41:12.042Z"
   },
   {
    "duration": 585,
    "start_time": "2021-11-08T20:41:13.310Z"
   },
   {
    "duration": 6,
    "start_time": "2021-11-08T20:43:22.923Z"
   },
   {
    "duration": 5,
    "start_time": "2021-11-08T20:43:28.693Z"
   },
   {
    "duration": 6,
    "start_time": "2021-11-08T20:45:32.804Z"
   },
   {
    "duration": 5,
    "start_time": "2021-11-08T20:45:53.917Z"
   },
   {
    "duration": 11,
    "start_time": "2021-11-08T20:46:09.396Z"
   },
   {
    "duration": 368,
    "start_time": "2021-11-08T20:46:10.538Z"
   },
   {
    "duration": 16,
    "start_time": "2021-11-08T20:54:09.140Z"
   },
   {
    "duration": 8,
    "start_time": "2021-11-08T20:58:09.092Z"
   },
   {
    "duration": 397,
    "start_time": "2021-11-08T20:58:10.866Z"
   },
   {
    "duration": 12,
    "start_time": "2021-11-08T20:58:14.599Z"
   },
   {
    "duration": 24,
    "start_time": "2021-11-08T20:59:38.364Z"
   },
   {
    "duration": 26,
    "start_time": "2021-11-08T21:00:04.446Z"
   },
   {
    "duration": 13,
    "start_time": "2021-11-08T21:00:52.650Z"
   },
   {
    "duration": 12,
    "start_time": "2021-11-08T21:01:58.843Z"
   },
   {
    "duration": 8,
    "start_time": "2021-11-08T21:02:42.102Z"
   },
   {
    "duration": 1097,
    "start_time": "2021-11-09T05:50:56.229Z"
   },
   {
    "duration": 304,
    "start_time": "2021-11-09T05:50:57.328Z"
   },
   {
    "duration": 17,
    "start_time": "2021-11-09T05:50:57.634Z"
   },
   {
    "duration": 12,
    "start_time": "2021-11-09T05:50:57.653Z"
   },
   {
    "duration": 29,
    "start_time": "2021-11-09T05:50:57.667Z"
   },
   {
    "duration": 6,
    "start_time": "2021-11-09T05:50:57.698Z"
   },
   {
    "duration": 39,
    "start_time": "2021-11-09T05:50:57.706Z"
   },
   {
    "duration": 14,
    "start_time": "2021-11-09T05:50:57.746Z"
   },
   {
    "duration": 8,
    "start_time": "2021-11-09T05:50:57.762Z"
   },
   {
    "duration": 22,
    "start_time": "2021-11-09T05:50:57.772Z"
   },
   {
    "duration": 6,
    "start_time": "2021-11-09T05:50:57.796Z"
   },
   {
    "duration": 44,
    "start_time": "2021-11-09T05:50:57.803Z"
   },
   {
    "duration": 7,
    "start_time": "2021-11-09T05:50:57.849Z"
   },
   {
    "duration": 10,
    "start_time": "2021-11-09T05:50:57.857Z"
   },
   {
    "duration": 7,
    "start_time": "2021-11-09T05:50:57.868Z"
   },
   {
    "duration": 9,
    "start_time": "2021-11-09T05:50:57.877Z"
   },
   {
    "duration": 6,
    "start_time": "2021-11-09T05:50:57.888Z"
   },
   {
    "duration": 11,
    "start_time": "2021-11-09T05:50:57.895Z"
   },
   {
    "duration": 5,
    "start_time": "2021-11-09T05:50:57.908Z"
   },
   {
    "duration": 8,
    "start_time": "2021-11-09T05:50:57.944Z"
   },
   {
    "duration": 11,
    "start_time": "2021-11-09T05:50:57.954Z"
   },
   {
    "duration": 12,
    "start_time": "2021-11-09T05:51:04.541Z"
   },
   {
    "duration": 39,
    "start_time": "2021-11-09T06:02:46.234Z"
   },
   {
    "duration": 79,
    "start_time": "2021-11-09T06:02:54.782Z"
   },
   {
    "duration": 75,
    "start_time": "2021-11-09T06:03:11.803Z"
   },
   {
    "duration": 6,
    "start_time": "2021-11-09T06:05:17.557Z"
   },
   {
    "duration": 6,
    "start_time": "2021-11-09T06:05:21.900Z"
   },
   {
    "duration": 5,
    "start_time": "2021-11-09T06:16:11.952Z"
   },
   {
    "duration": 9,
    "start_time": "2021-11-09T06:16:13.233Z"
   },
   {
    "duration": 25,
    "start_time": "2021-11-09T06:16:19.372Z"
   },
   {
    "duration": 4,
    "start_time": "2021-11-09T06:16:20.433Z"
   },
   {
    "duration": 12,
    "start_time": "2021-11-09T06:16:21.881Z"
   },
   {
    "duration": 20,
    "start_time": "2021-11-09T06:16:30.132Z"
   },
   {
    "duration": 13,
    "start_time": "2021-11-09T06:16:31.012Z"
   },
   {
    "duration": 15,
    "start_time": "2021-11-09T06:16:37.053Z"
   },
   {
    "duration": 10,
    "start_time": "2021-11-09T06:16:37.913Z"
   },
   {
    "duration": 6,
    "start_time": "2021-11-09T06:16:52.892Z"
   },
   {
    "duration": 8,
    "start_time": "2021-11-09T06:16:54.418Z"
   },
   {
    "duration": 15,
    "start_time": "2021-11-09T06:17:46.852Z"
   },
   {
    "duration": 4,
    "start_time": "2021-11-09T06:17:47.850Z"
   },
   {
    "duration": 11,
    "start_time": "2021-11-09T06:17:49.170Z"
   },
   {
    "duration": 8,
    "start_time": "2021-11-09T06:18:08.235Z"
   },
   {
    "duration": 135,
    "start_time": "2021-11-09T06:18:09.285Z"
   },
   {
    "duration": 5,
    "start_time": "2021-11-09T06:18:27.926Z"
   },
   {
    "duration": 8,
    "start_time": "2021-11-09T06:21:26.165Z"
   },
   {
    "duration": 5,
    "start_time": "2021-11-09T06:21:47.824Z"
   },
   {
    "duration": 209,
    "start_time": "2021-11-09T06:21:51.564Z"
   },
   {
    "duration": 9,
    "start_time": "2021-11-09T06:22:08.223Z"
   },
   {
    "duration": 10,
    "start_time": "2021-11-09T06:22:28.728Z"
   },
   {
    "duration": 454,
    "start_time": "2021-11-09T08:29:53.847Z"
   },
   {
    "duration": 4,
    "start_time": "2021-11-09T08:30:29.417Z"
   },
   {
    "duration": 1529,
    "start_time": "2021-11-09T08:30:45.657Z"
   },
   {
    "duration": 386,
    "start_time": "2021-11-09T08:30:47.188Z"
   },
   {
    "duration": 25,
    "start_time": "2021-11-09T08:30:47.577Z"
   },
   {
    "duration": 17,
    "start_time": "2021-11-09T08:30:47.606Z"
   },
   {
    "duration": 34,
    "start_time": "2021-11-09T08:30:47.626Z"
   },
   {
    "duration": 12,
    "start_time": "2021-11-09T08:30:47.663Z"
   },
   {
    "duration": 66,
    "start_time": "2021-11-09T08:30:47.677Z"
   },
   {
    "duration": 24,
    "start_time": "2021-11-09T08:30:47.747Z"
   },
   {
    "duration": 13,
    "start_time": "2021-11-09T08:30:47.777Z"
   },
   {
    "duration": 65,
    "start_time": "2021-11-09T08:30:47.794Z"
   },
   {
    "duration": 9,
    "start_time": "2021-11-09T08:30:47.861Z"
   },
   {
    "duration": 16,
    "start_time": "2021-11-09T08:30:47.872Z"
   },
   {
    "duration": 12,
    "start_time": "2021-11-09T08:30:47.923Z"
   },
   {
    "duration": 11,
    "start_time": "2021-11-09T08:30:47.937Z"
   },
   {
    "duration": 11,
    "start_time": "2021-11-09T08:30:47.952Z"
   },
   {
    "duration": 15,
    "start_time": "2021-11-09T08:30:47.965Z"
   },
   {
    "duration": 47,
    "start_time": "2021-11-09T08:30:47.982Z"
   },
   {
    "duration": 17,
    "start_time": "2021-11-09T08:30:48.032Z"
   },
   {
    "duration": 9,
    "start_time": "2021-11-09T08:30:48.051Z"
   },
   {
    "duration": 13,
    "start_time": "2021-11-09T08:30:48.063Z"
   },
   {
    "duration": 20,
    "start_time": "2021-11-09T08:30:48.123Z"
   },
   {
    "duration": 15,
    "start_time": "2021-11-09T08:30:48.146Z"
   },
   {
    "duration": 7,
    "start_time": "2021-11-09T08:30:48.165Z"
   },
   {
    "duration": 49,
    "start_time": "2021-11-09T08:30:48.175Z"
   },
   {
    "duration": 13,
    "start_time": "2021-11-09T08:30:48.227Z"
   },
   {
    "duration": 19,
    "start_time": "2021-11-09T08:30:48.242Z"
   },
   {
    "duration": 11,
    "start_time": "2021-11-09T08:30:48.265Z"
   },
   {
    "duration": 60,
    "start_time": "2021-11-09T08:30:48.280Z"
   },
   {
    "duration": 89,
    "start_time": "2021-11-09T08:30:48.343Z"
   },
   {
    "duration": 127,
    "start_time": "2021-11-09T08:30:48.434Z"
   },
   {
    "duration": 124,
    "start_time": "2021-11-09T08:30:48.564Z"
   },
   {
    "duration": 9,
    "start_time": "2021-11-09T08:30:48.691Z"
   },
   {
    "duration": 22,
    "start_time": "2021-11-09T08:30:48.703Z"
   },
   {
    "duration": 4,
    "start_time": "2021-11-09T08:30:56.229Z"
   },
   {
    "duration": 35,
    "start_time": "2021-11-09T08:30:57.699Z"
   },
   {
    "duration": 22,
    "start_time": "2021-11-09T08:31:31.739Z"
   },
   {
    "duration": 32,
    "start_time": "2021-11-09T09:51:09.828Z"
   },
   {
    "duration": 27,
    "start_time": "2021-11-09T09:52:05.830Z"
   },
   {
    "duration": 10,
    "start_time": "2021-11-09T09:52:32.137Z"
   },
   {
    "duration": 1443,
    "start_time": "2021-11-09T10:11:52.045Z"
   },
   {
    "duration": 422,
    "start_time": "2021-11-09T10:11:53.491Z"
   },
   {
    "duration": 22,
    "start_time": "2021-11-09T10:11:53.917Z"
   },
   {
    "duration": 15,
    "start_time": "2021-11-09T10:11:53.942Z"
   },
   {
    "duration": 31,
    "start_time": "2021-11-09T10:11:53.960Z"
   },
   {
    "duration": 34,
    "start_time": "2021-11-09T10:11:53.993Z"
   },
   {
    "duration": 26,
    "start_time": "2021-11-09T10:11:54.030Z"
   },
   {
    "duration": 20,
    "start_time": "2021-11-09T10:11:54.058Z"
   },
   {
    "duration": 46,
    "start_time": "2021-11-09T10:11:54.083Z"
   },
   {
    "duration": 32,
    "start_time": "2021-11-09T10:11:54.133Z"
   },
   {
    "duration": 8,
    "start_time": "2021-11-09T10:11:54.167Z"
   },
   {
    "duration": 49,
    "start_time": "2021-11-09T10:11:54.177Z"
   },
   {
    "duration": 11,
    "start_time": "2021-11-09T10:11:54.228Z"
   },
   {
    "duration": 12,
    "start_time": "2021-11-09T10:11:54.241Z"
   },
   {
    "duration": 11,
    "start_time": "2021-11-09T10:11:54.256Z"
   },
   {
    "duration": 56,
    "start_time": "2021-11-09T10:11:54.270Z"
   },
   {
    "duration": 11,
    "start_time": "2021-11-09T10:11:54.329Z"
   },
   {
    "duration": 17,
    "start_time": "2021-11-09T10:11:54.344Z"
   },
   {
    "duration": 10,
    "start_time": "2021-11-09T10:11:54.364Z"
   },
   {
    "duration": 48,
    "start_time": "2021-11-09T10:11:54.376Z"
   },
   {
    "duration": 16,
    "start_time": "2021-11-09T10:11:54.426Z"
   },
   {
    "duration": 14,
    "start_time": "2021-11-09T10:11:54.445Z"
   },
   {
    "duration": 6,
    "start_time": "2021-11-09T10:11:54.462Z"
   },
   {
    "duration": 14,
    "start_time": "2021-11-09T10:11:54.471Z"
   },
   {
    "duration": 9,
    "start_time": "2021-11-09T10:11:54.524Z"
   },
   {
    "duration": 16,
    "start_time": "2021-11-09T10:11:54.536Z"
   },
   {
    "duration": 11,
    "start_time": "2021-11-09T10:11:54.556Z"
   },
   {
    "duration": 65,
    "start_time": "2021-11-09T10:11:54.570Z"
   },
   {
    "duration": 66,
    "start_time": "2021-11-09T10:11:54.637Z"
   },
   {
    "duration": 129,
    "start_time": "2021-11-09T10:11:54.705Z"
   },
   {
    "duration": 118,
    "start_time": "2021-11-09T10:11:54.836Z"
   },
   {
    "duration": 10,
    "start_time": "2021-11-09T10:11:54.957Z"
   },
   {
    "duration": 9,
    "start_time": "2021-11-09T10:11:54.969Z"
   },
   {
    "duration": 5,
    "start_time": "2021-11-09T10:12:01.105Z"
   },
   {
    "duration": 22,
    "start_time": "2021-11-09T10:12:02.275Z"
   },
   {
    "duration": 11,
    "start_time": "2021-11-09T10:12:06.155Z"
   },
   {
    "duration": 6,
    "start_time": "2021-11-09T10:12:16.345Z"
   },
   {
    "duration": 13,
    "start_time": "2021-11-09T10:12:17.683Z"
   },
   {
    "duration": 33,
    "start_time": "2021-11-09T10:12:24.206Z"
   },
   {
    "duration": 7,
    "start_time": "2021-11-09T10:12:25.316Z"
   },
   {
    "duration": 16,
    "start_time": "2021-11-09T10:12:26.685Z"
   },
   {
    "duration": 27,
    "start_time": "2021-11-09T10:12:31.133Z"
   },
   {
    "duration": 20,
    "start_time": "2021-11-09T10:12:32.254Z"
   },
   {
    "duration": 20,
    "start_time": "2021-11-09T10:12:35.895Z"
   },
   {
    "duration": 14,
    "start_time": "2021-11-09T10:12:37.375Z"
   },
   {
    "duration": 13,
    "start_time": "2021-11-09T10:12:42.395Z"
   },
   {
    "duration": 14,
    "start_time": "2021-11-09T10:12:43.596Z"
   },
   {
    "duration": 24,
    "start_time": "2021-11-09T10:12:47.848Z"
   },
   {
    "duration": 6,
    "start_time": "2021-11-09T10:12:48.973Z"
   },
   {
    "duration": 17,
    "start_time": "2021-11-09T10:12:55.745Z"
   },
   {
    "duration": 11,
    "start_time": "2021-11-09T10:13:01.466Z"
   },
   {
    "duration": 181,
    "start_time": "2021-11-09T10:13:02.635Z"
   },
   {
    "duration": 6,
    "start_time": "2021-11-09T10:13:31.445Z"
   },
   {
    "duration": 11,
    "start_time": "2021-11-09T10:13:43.205Z"
   },
   {
    "duration": 8,
    "start_time": "2021-11-09T10:13:49.139Z"
   },
   {
    "duration": 351,
    "start_time": "2021-11-09T10:13:52.745Z"
   },
   {
    "duration": 10,
    "start_time": "2021-11-09T10:14:18.996Z"
   },
   {
    "duration": 14,
    "start_time": "2021-11-09T10:14:20.075Z"
   },
   {
    "duration": 2084,
    "start_time": "2021-11-09T15:20:08.592Z"
   },
   {
    "duration": 414,
    "start_time": "2021-11-09T15:20:10.678Z"
   },
   {
    "duration": 23,
    "start_time": "2021-11-09T15:20:11.095Z"
   },
   {
    "duration": 19,
    "start_time": "2021-11-09T15:20:11.121Z"
   },
   {
    "duration": 35,
    "start_time": "2021-11-09T15:20:11.142Z"
   },
   {
    "duration": 10,
    "start_time": "2021-11-09T15:20:11.180Z"
   },
   {
    "duration": 54,
    "start_time": "2021-11-09T15:20:11.192Z"
   },
   {
    "duration": 18,
    "start_time": "2021-11-09T15:20:11.250Z"
   },
   {
    "duration": 12,
    "start_time": "2021-11-09T15:20:11.271Z"
   },
   {
    "duration": 58,
    "start_time": "2021-11-09T15:20:11.286Z"
   },
   {
    "duration": 8,
    "start_time": "2021-11-09T15:20:11.346Z"
   },
   {
    "duration": 15,
    "start_time": "2021-11-09T15:20:11.356Z"
   },
   {
    "duration": 11,
    "start_time": "2021-11-09T15:20:11.373Z"
   },
   {
    "duration": 8,
    "start_time": "2021-11-09T15:20:11.423Z"
   },
   {
    "duration": 10,
    "start_time": "2021-11-09T15:20:11.433Z"
   },
   {
    "duration": 15,
    "start_time": "2021-11-09T15:20:11.446Z"
   },
   {
    "duration": 59,
    "start_time": "2021-11-09T15:20:11.464Z"
   },
   {
    "duration": 17,
    "start_time": "2021-11-09T15:20:11.526Z"
   },
   {
    "duration": 13,
    "start_time": "2021-11-09T15:20:11.546Z"
   },
   {
    "duration": 21,
    "start_time": "2021-11-09T15:20:11.562Z"
   },
   {
    "duration": 42,
    "start_time": "2021-11-09T15:20:11.586Z"
   },
   {
    "duration": 19,
    "start_time": "2021-11-09T15:20:11.631Z"
   },
   {
    "duration": 7,
    "start_time": "2021-11-09T15:20:11.657Z"
   },
   {
    "duration": 17,
    "start_time": "2021-11-09T15:20:11.667Z"
   },
   {
    "duration": 41,
    "start_time": "2021-11-09T15:20:11.686Z"
   },
   {
    "duration": 19,
    "start_time": "2021-11-09T15:20:11.729Z"
   },
   {
    "duration": 13,
    "start_time": "2021-11-09T15:20:11.751Z"
   },
   {
    "duration": 63,
    "start_time": "2021-11-09T15:20:11.767Z"
   },
   {
    "duration": 59,
    "start_time": "2021-11-09T15:20:11.833Z"
   },
   {
    "duration": 146,
    "start_time": "2021-11-09T15:20:11.895Z"
   },
   {
    "duration": 122,
    "start_time": "2021-11-09T15:20:12.044Z"
   },
   {
    "duration": 8,
    "start_time": "2021-11-09T15:20:12.169Z"
   },
   {
    "duration": 9,
    "start_time": "2021-11-09T15:20:12.179Z"
   },
   {
    "duration": 4,
    "start_time": "2021-11-09T15:20:12.191Z"
   },
   {
    "duration": 21,
    "start_time": "2021-11-09T15:20:12.222Z"
   },
   {
    "duration": 11,
    "start_time": "2021-11-09T15:20:12.246Z"
   },
   {
    "duration": 10,
    "start_time": "2021-11-09T15:20:12.259Z"
   },
   {
    "duration": 13,
    "start_time": "2021-11-09T15:20:12.271Z"
   },
   {
    "duration": 65,
    "start_time": "2021-11-09T15:20:12.287Z"
   },
   {
    "duration": 5,
    "start_time": "2021-11-09T15:20:12.355Z"
   },
   {
    "duration": 28,
    "start_time": "2021-11-09T15:20:12.362Z"
   },
   {
    "duration": 44,
    "start_time": "2021-11-09T15:20:12.393Z"
   },
   {
    "duration": 19,
    "start_time": "2021-11-09T15:20:12.440Z"
   },
   {
    "duration": 24,
    "start_time": "2021-11-09T15:20:12.462Z"
   },
   {
    "duration": 41,
    "start_time": "2021-11-09T15:20:12.488Z"
   },
   {
    "duration": 16,
    "start_time": "2021-11-09T15:20:12.531Z"
   },
   {
    "duration": 11,
    "start_time": "2021-11-09T15:20:12.549Z"
   },
   {
    "duration": 28,
    "start_time": "2021-11-09T15:20:12.562Z"
   },
   {
    "duration": 4,
    "start_time": "2021-11-09T15:20:12.592Z"
   },
   {
    "duration": 39,
    "start_time": "2021-11-09T15:20:12.599Z"
   },
   {
    "duration": 15,
    "start_time": "2021-11-09T15:20:12.640Z"
   },
   {
    "duration": 201,
    "start_time": "2021-11-09T15:20:12.657Z"
   },
   {
    "duration": 7,
    "start_time": "2021-11-09T15:20:12.860Z"
   },
   {
    "duration": 13,
    "start_time": "2021-11-09T15:20:12.869Z"
   },
   {
    "duration": 8,
    "start_time": "2021-11-09T15:20:12.884Z"
   },
   {
    "duration": 401,
    "start_time": "2021-11-09T15:20:12.895Z"
   },
   {
    "duration": 12,
    "start_time": "2021-11-09T15:20:13.298Z"
   },
   {
    "duration": 13,
    "start_time": "2021-11-09T15:20:18.880Z"
   },
   {
    "duration": 4,
    "start_time": "2021-11-09T16:23:54.955Z"
   },
   {
    "duration": 416,
    "start_time": "2021-11-09T16:35:03.288Z"
   },
   {
    "duration": 818,
    "start_time": "2021-11-09T16:37:17.723Z"
   },
   {
    "duration": 572,
    "start_time": "2021-11-09T16:53:53.249Z"
   },
   {
    "duration": 569,
    "start_time": "2021-11-09T16:54:20.685Z"
   },
   {
    "duration": 1339,
    "start_time": "2021-11-09T18:54:43.751Z"
   },
   {
    "duration": 401,
    "start_time": "2021-11-09T18:54:45.093Z"
   },
   {
    "duration": 25,
    "start_time": "2021-11-09T18:54:45.497Z"
   },
   {
    "duration": 17,
    "start_time": "2021-11-09T18:54:45.525Z"
   },
   {
    "duration": 43,
    "start_time": "2021-11-09T18:54:45.544Z"
   },
   {
    "duration": 9,
    "start_time": "2021-11-09T18:54:45.589Z"
   },
   {
    "duration": 26,
    "start_time": "2021-11-09T18:54:45.623Z"
   },
   {
    "duration": 18,
    "start_time": "2021-11-09T18:54:45.653Z"
   },
   {
    "duration": 13,
    "start_time": "2021-11-09T18:54:45.674Z"
   },
   {
    "duration": 59,
    "start_time": "2021-11-09T18:54:45.690Z"
   },
   {
    "duration": 7,
    "start_time": "2021-11-09T18:54:45.752Z"
   },
   {
    "duration": 16,
    "start_time": "2021-11-09T18:54:45.762Z"
   },
   {
    "duration": 51,
    "start_time": "2021-11-09T18:54:45.781Z"
   },
   {
    "duration": 16,
    "start_time": "2021-11-09T18:54:45.835Z"
   },
   {
    "duration": 10,
    "start_time": "2021-11-09T18:54:45.854Z"
   },
   {
    "duration": 19,
    "start_time": "2021-11-09T18:54:45.866Z"
   },
   {
    "duration": 34,
    "start_time": "2021-11-09T18:54:45.888Z"
   },
   {
    "duration": 22,
    "start_time": "2021-11-09T18:54:45.925Z"
   },
   {
    "duration": 16,
    "start_time": "2021-11-09T18:54:45.950Z"
   },
   {
    "duration": 23,
    "start_time": "2021-11-09T18:54:45.969Z"
   },
   {
    "duration": 35,
    "start_time": "2021-11-09T18:54:45.994Z"
   },
   {
    "duration": 13,
    "start_time": "2021-11-09T18:54:46.031Z"
   },
   {
    "duration": 8,
    "start_time": "2021-11-09T18:54:46.051Z"
   },
   {
    "duration": 11,
    "start_time": "2021-11-09T18:54:46.063Z"
   },
   {
    "duration": 52,
    "start_time": "2021-11-09T18:54:46.076Z"
   },
   {
    "duration": 16,
    "start_time": "2021-11-09T18:54:46.131Z"
   },
   {
    "duration": 12,
    "start_time": "2021-11-09T18:54:46.150Z"
   },
   {
    "duration": 25,
    "start_time": "2021-11-09T18:54:46.164Z"
   },
   {
    "duration": 86,
    "start_time": "2021-11-09T18:54:46.191Z"
   },
   {
    "duration": 150,
    "start_time": "2021-11-09T18:54:46.280Z"
   },
   {
    "duration": 119,
    "start_time": "2021-11-09T18:54:46.432Z"
   },
   {
    "duration": 9,
    "start_time": "2021-11-09T18:54:46.553Z"
   },
   {
    "duration": 10,
    "start_time": "2021-11-09T18:54:46.564Z"
   },
   {
    "duration": 5,
    "start_time": "2021-11-09T18:54:46.576Z"
   },
   {
    "duration": 54,
    "start_time": "2021-11-09T18:54:46.584Z"
   },
   {
    "duration": 12,
    "start_time": "2021-11-09T18:54:46.640Z"
   },
   {
    "duration": 11,
    "start_time": "2021-11-09T18:54:46.655Z"
   },
   {
    "duration": 14,
    "start_time": "2021-11-09T18:54:46.668Z"
   },
   {
    "duration": 65,
    "start_time": "2021-11-09T18:54:46.684Z"
   },
   {
    "duration": 5,
    "start_time": "2021-11-09T18:54:46.752Z"
   },
   {
    "duration": 22,
    "start_time": "2021-11-09T18:54:46.759Z"
   },
   {
    "duration": 56,
    "start_time": "2021-11-09T18:54:46.784Z"
   },
   {
    "duration": 20,
    "start_time": "2021-11-09T18:54:46.843Z"
   },
   {
    "duration": 21,
    "start_time": "2021-11-09T18:54:46.866Z"
   },
   {
    "duration": 42,
    "start_time": "2021-11-09T18:54:46.890Z"
   },
   {
    "duration": 23,
    "start_time": "2021-11-09T18:54:46.935Z"
   },
   {
    "duration": 14,
    "start_time": "2021-11-09T18:54:46.961Z"
   },
   {
    "duration": 54,
    "start_time": "2021-11-09T18:54:46.978Z"
   },
   {
    "duration": 7,
    "start_time": "2021-11-09T18:54:47.034Z"
   },
   {
    "duration": 20,
    "start_time": "2021-11-09T18:54:47.044Z"
   },
   {
    "duration": 13,
    "start_time": "2021-11-09T18:54:47.067Z"
   },
   {
    "duration": 218,
    "start_time": "2021-11-09T18:54:47.083Z"
   },
   {
    "duration": 6,
    "start_time": "2021-11-09T18:54:47.304Z"
   },
   {
    "duration": 23,
    "start_time": "2021-11-09T18:54:47.312Z"
   },
   {
    "duration": 7,
    "start_time": "2021-11-09T18:54:47.338Z"
   },
   {
    "duration": 406,
    "start_time": "2021-11-09T18:54:47.347Z"
   },
   {
    "duration": 11,
    "start_time": "2021-11-09T18:54:47.755Z"
   },
   {
    "duration": 16,
    "start_time": "2021-11-09T18:54:47.768Z"
   },
   {
    "duration": 703,
    "start_time": "2021-11-09T18:54:47.787Z"
   },
   {
    "duration": 1398,
    "start_time": "2021-11-09T18:54:48.494Z"
   },
   {
    "duration": 2494,
    "start_time": "2021-11-09T19:52:55.731Z"
   },
   {
    "duration": 2352,
    "start_time": "2021-11-09T19:55:46.686Z"
   },
   {
    "duration": 3082,
    "start_time": "2021-11-09T19:56:37.548Z"
   },
   {
    "duration": 3236,
    "start_time": "2021-11-09T19:57:32.486Z"
   },
   {
    "duration": 2991,
    "start_time": "2021-11-09T19:59:37.709Z"
   },
   {
    "duration": 2701,
    "start_time": "2021-11-09T19:59:51.692Z"
   },
   {
    "duration": 2895,
    "start_time": "2021-11-09T22:20:10.416Z"
   },
   {
    "duration": 2767,
    "start_time": "2021-11-09T22:24:20.765Z"
   },
   {
    "duration": 2856,
    "start_time": "2021-11-09T22:28:03.036Z"
   },
   {
    "duration": 3000,
    "start_time": "2021-11-09T22:30:16.932Z"
   },
   {
    "duration": 2870,
    "start_time": "2021-11-09T22:30:52.600Z"
   },
   {
    "duration": 2788,
    "start_time": "2021-11-09T22:31:11.146Z"
   },
   {
    "duration": 3001,
    "start_time": "2021-11-09T22:31:28.529Z"
   },
   {
    "duration": 449,
    "start_time": "2021-11-10T10:43:52.188Z"
   },
   {
    "duration": 1352,
    "start_time": "2021-11-10T10:43:58.557Z"
   },
   {
    "duration": 413,
    "start_time": "2021-11-10T10:43:59.912Z"
   },
   {
    "duration": 22,
    "start_time": "2021-11-10T10:44:00.328Z"
   },
   {
    "duration": 27,
    "start_time": "2021-11-10T10:44:00.354Z"
   },
   {
    "duration": 35,
    "start_time": "2021-11-10T10:44:00.384Z"
   },
   {
    "duration": 9,
    "start_time": "2021-11-10T10:44:00.421Z"
   },
   {
    "duration": 48,
    "start_time": "2021-11-10T10:44:00.432Z"
   },
   {
    "duration": 20,
    "start_time": "2021-11-10T10:44:00.484Z"
   },
   {
    "duration": 17,
    "start_time": "2021-11-10T10:44:00.507Z"
   },
   {
    "duration": 57,
    "start_time": "2021-11-10T10:44:00.527Z"
   },
   {
    "duration": 8,
    "start_time": "2021-11-10T10:44:00.586Z"
   },
   {
    "duration": 23,
    "start_time": "2021-11-10T10:44:00.596Z"
   },
   {
    "duration": 15,
    "start_time": "2021-11-10T10:44:00.622Z"
   },
   {
    "duration": 8,
    "start_time": "2021-11-10T10:44:00.659Z"
   },
   {
    "duration": 26,
    "start_time": "2021-11-10T10:44:00.669Z"
   },
   {
    "duration": 33,
    "start_time": "2021-11-10T10:44:00.699Z"
   },
   {
    "duration": 22,
    "start_time": "2021-11-10T10:44:00.735Z"
   },
   {
    "duration": 31,
    "start_time": "2021-11-10T10:44:00.760Z"
   },
   {
    "duration": 20,
    "start_time": "2021-11-10T10:44:00.794Z"
   },
   {
    "duration": 16,
    "start_time": "2021-11-10T10:44:00.818Z"
   },
   {
    "duration": 26,
    "start_time": "2021-11-10T10:44:00.837Z"
   },
   {
    "duration": 13,
    "start_time": "2021-11-10T10:44:00.867Z"
   },
   {
    "duration": 10,
    "start_time": "2021-11-10T10:44:00.888Z"
   },
   {
    "duration": 12,
    "start_time": "2021-11-10T10:44:00.903Z"
   },
   {
    "duration": 60,
    "start_time": "2021-11-10T10:44:00.918Z"
   },
   {
    "duration": 30,
    "start_time": "2021-11-10T10:44:00.981Z"
   },
   {
    "duration": 12,
    "start_time": "2021-11-10T10:44:01.013Z"
   },
   {
    "duration": 43,
    "start_time": "2021-11-10T10:44:01.028Z"
   },
   {
    "duration": 68,
    "start_time": "2021-11-10T10:44:01.073Z"
   },
   {
    "duration": 142,
    "start_time": "2021-11-10T10:44:01.143Z"
   },
   {
    "duration": 114,
    "start_time": "2021-11-10T10:44:01.287Z"
   },
   {
    "duration": 8,
    "start_time": "2021-11-10T10:44:01.404Z"
   },
   {
    "duration": 21,
    "start_time": "2021-11-10T10:44:01.414Z"
   },
   {
    "duration": 9,
    "start_time": "2021-11-10T10:44:01.437Z"
   },
   {
    "duration": 19,
    "start_time": "2021-11-10T10:44:01.459Z"
   },
   {
    "duration": 10,
    "start_time": "2021-11-10T10:44:01.480Z"
   },
   {
    "duration": 12,
    "start_time": "2021-11-10T10:44:01.492Z"
   },
   {
    "duration": 16,
    "start_time": "2021-11-10T10:44:01.506Z"
   },
   {
    "duration": 33,
    "start_time": "2021-11-10T10:44:01.559Z"
   },
   {
    "duration": 5,
    "start_time": "2021-11-10T10:44:01.594Z"
   },
   {
    "duration": 30,
    "start_time": "2021-11-10T10:44:01.601Z"
   },
   {
    "duration": 49,
    "start_time": "2021-11-10T10:44:01.633Z"
   },
   {
    "duration": 17,
    "start_time": "2021-11-10T10:44:01.685Z"
   },
   {
    "duration": 29,
    "start_time": "2021-11-10T10:44:01.704Z"
   },
   {
    "duration": 32,
    "start_time": "2021-11-10T10:44:01.735Z"
   },
   {
    "duration": 31,
    "start_time": "2021-11-10T10:44:01.769Z"
   },
   {
    "duration": 16,
    "start_time": "2021-11-10T10:44:01.802Z"
   },
   {
    "duration": 34,
    "start_time": "2021-11-10T10:44:01.820Z"
   },
   {
    "duration": 10,
    "start_time": "2021-11-10T10:44:01.857Z"
   },
   {
    "duration": 20,
    "start_time": "2021-11-10T10:44:01.869Z"
   },
   {
    "duration": 13,
    "start_time": "2021-11-10T10:44:01.891Z"
   },
   {
    "duration": 195,
    "start_time": "2021-11-10T10:44:01.907Z"
   },
   {
    "duration": 6,
    "start_time": "2021-11-10T10:44:02.105Z"
   },
   {
    "duration": 16,
    "start_time": "2021-11-10T10:44:02.113Z"
   },
   {
    "duration": 32,
    "start_time": "2021-11-10T10:44:02.131Z"
   },
   {
    "duration": 376,
    "start_time": "2021-11-10T10:44:02.165Z"
   },
   {
    "duration": 24,
    "start_time": "2021-11-10T10:44:02.544Z"
   },
   {
    "duration": 14,
    "start_time": "2021-11-10T10:44:02.571Z"
   },
   {
    "duration": 3075,
    "start_time": "2021-11-10T10:44:02.587Z"
   },
   {
    "duration": 764,
    "start_time": "2021-11-10T10:44:09.415Z"
   },
   {
    "duration": 2050,
    "start_time": "2021-11-10T10:44:45.720Z"
   },
   {
    "duration": 1885,
    "start_time": "2021-11-10T10:45:03.921Z"
   },
   {
    "duration": 1977,
    "start_time": "2021-11-10T10:45:35.135Z"
   },
   {
    "duration": 128,
    "start_time": "2021-11-10T18:13:08.268Z"
   },
   {
    "duration": 119,
    "start_time": "2021-11-10T18:13:47.399Z"
   },
   {
    "duration": 123,
    "start_time": "2021-11-10T18:15:15.529Z"
   },
   {
    "duration": 509,
    "start_time": "2021-11-10T18:15:29.802Z"
   },
   {
    "duration": 652,
    "start_time": "2021-11-10T18:15:53.981Z"
   },
   {
    "duration": 806,
    "start_time": "2021-11-10T18:16:21.247Z"
   },
   {
    "duration": 312,
    "start_time": "2021-11-10T18:16:28.495Z"
   },
   {
    "duration": 393,
    "start_time": "2021-11-10T18:16:37.368Z"
   },
   {
    "duration": 303,
    "start_time": "2021-11-10T18:16:41.543Z"
   },
   {
    "duration": 313,
    "start_time": "2021-11-10T18:17:04.642Z"
   },
   {
    "duration": 2972,
    "start_time": "2021-11-10T18:32:57.631Z"
   },
   {
    "duration": 2897,
    "start_time": "2021-11-10T18:33:40.835Z"
   },
   {
    "duration": 11,
    "start_time": "2021-11-10T18:35:00.114Z"
   },
   {
    "duration": 14,
    "start_time": "2021-11-10T18:35:34.398Z"
   },
   {
    "duration": 1389,
    "start_time": "2021-11-10T18:37:57.178Z"
   },
   {
    "duration": 1201,
    "start_time": "2021-11-10T18:38:16.883Z"
   },
   {
    "duration": 1300,
    "start_time": "2021-11-10T18:39:21.283Z"
   },
   {
    "duration": 25083,
    "start_time": "2021-11-10T19:11:39.861Z"
   },
   {
    "duration": 683,
    "start_time": "2021-11-10T19:16:04.347Z"
   },
   {
    "duration": 459,
    "start_time": "2021-11-10T19:16:37.435Z"
   },
   {
    "duration": 2374,
    "start_time": "2021-11-10T19:17:12.394Z"
   },
   {
    "duration": 3123,
    "start_time": "2021-11-10T19:19:12.315Z"
   },
   {
    "duration": 3492,
    "start_time": "2021-11-10T19:19:31.314Z"
   },
   {
    "duration": 3392,
    "start_time": "2021-11-10T19:20:10.051Z"
   },
   {
    "duration": 3371,
    "start_time": "2021-11-10T19:22:33.492Z"
   },
   {
    "duration": 15,
    "start_time": "2021-11-10T19:24:30.367Z"
   },
   {
    "duration": 20,
    "start_time": "2021-11-10T19:25:16.073Z"
   },
   {
    "duration": 25,
    "start_time": "2021-11-10T19:25:24.523Z"
   },
   {
    "duration": 55,
    "start_time": "2021-11-10T19:26:05.686Z"
   },
   {
    "duration": 389,
    "start_time": "2021-11-10T19:36:05.485Z"
   },
   {
    "duration": 421,
    "start_time": "2021-11-10T19:36:14.653Z"
   },
   {
    "duration": 6,
    "start_time": "2021-11-10T19:36:27.896Z"
   },
   {
    "duration": 500,
    "start_time": "2021-11-10T19:37:27.252Z"
   },
   {
    "duration": 5,
    "start_time": "2021-11-10T19:37:31.444Z"
   },
   {
    "duration": 424,
    "start_time": "2021-11-10T19:37:32.721Z"
   },
   {
    "duration": 9588,
    "start_time": "2021-11-10T19:38:30.558Z"
   },
   {
    "duration": 25,
    "start_time": "2021-11-10T19:39:52.982Z"
   },
   {
    "duration": 9598,
    "start_time": "2021-11-10T19:40:00.235Z"
   },
   {
    "duration": 7665,
    "start_time": "2021-11-10T19:40:38.581Z"
   },
   {
    "duration": 4,
    "start_time": "2021-11-10T19:40:57.066Z"
   },
   {
    "duration": 717,
    "start_time": "2021-11-10T19:40:58.012Z"
   },
   {
    "duration": 4,
    "start_time": "2021-11-10T19:41:21.361Z"
   },
   {
    "duration": 363,
    "start_time": "2021-11-10T19:41:22.822Z"
   },
   {
    "duration": 771,
    "start_time": "2021-11-10T19:41:30.735Z"
   },
   {
    "duration": 4,
    "start_time": "2021-11-10T19:42:44.467Z"
   },
   {
    "duration": 7310,
    "start_time": "2021-11-10T19:42:45.269Z"
   },
   {
    "duration": 5,
    "start_time": "2021-11-10T19:43:04.982Z"
   },
   {
    "duration": 827,
    "start_time": "2021-11-10T19:43:06.849Z"
   },
   {
    "duration": 5,
    "start_time": "2021-11-10T19:49:44.243Z"
   },
   {
    "duration": 9376,
    "start_time": "2021-11-10T19:50:23.079Z"
   },
   {
    "duration": 4,
    "start_time": "2021-11-10T19:51:01.318Z"
   },
   {
    "duration": 4,
    "start_time": "2021-11-10T19:51:06.962Z"
   },
   {
    "duration": 5830,
    "start_time": "2021-11-10T19:52:27.259Z"
   },
   {
    "duration": 5,
    "start_time": "2021-11-10T19:52:44.330Z"
   },
   {
    "duration": 9580,
    "start_time": "2021-11-10T19:52:57.768Z"
   },
   {
    "duration": 5,
    "start_time": "2021-11-10T19:58:13.903Z"
   },
   {
    "duration": 871,
    "start_time": "2021-11-10T19:58:14.805Z"
   },
   {
    "duration": 476,
    "start_time": "2021-11-10T19:59:24.738Z"
   },
   {
    "duration": 382,
    "start_time": "2021-11-10T20:00:08.704Z"
   },
   {
    "duration": 440,
    "start_time": "2021-11-10T20:00:16.958Z"
   },
   {
    "duration": 6,
    "start_time": "2021-11-10T20:00:39.668Z"
   },
   {
    "duration": 5,
    "start_time": "2021-11-10T20:00:44.239Z"
   },
   {
    "duration": 5,
    "start_time": "2021-11-10T20:00:49.080Z"
   },
   {
    "duration": 364,
    "start_time": "2021-11-10T20:01:12.342Z"
   },
   {
    "duration": 361,
    "start_time": "2021-11-10T20:02:08.534Z"
   },
   {
    "duration": 360,
    "start_time": "2021-11-10T20:02:38.560Z"
   },
   {
    "duration": 410,
    "start_time": "2021-11-10T20:02:55.512Z"
   },
   {
    "duration": 352,
    "start_time": "2021-11-10T20:03:47.000Z"
   },
   {
    "duration": 5837,
    "start_time": "2021-11-10T20:04:33.721Z"
   },
   {
    "duration": 374,
    "start_time": "2021-11-10T20:05:05.398Z"
   },
   {
    "duration": 6,
    "start_time": "2021-11-10T20:06:00.537Z"
   },
   {
    "duration": 6,
    "start_time": "2021-11-10T20:07:43.749Z"
   },
   {
    "duration": 6,
    "start_time": "2021-11-10T20:08:14.016Z"
   },
   {
    "duration": 385,
    "start_time": "2021-11-10T20:09:43.716Z"
   },
   {
    "duration": 6,
    "start_time": "2021-11-10T20:09:49.548Z"
   },
   {
    "duration": 6,
    "start_time": "2021-11-10T20:10:23.848Z"
   },
   {
    "duration": 5,
    "start_time": "2021-11-10T20:10:31.355Z"
   },
   {
    "duration": 12,
    "start_time": "2021-11-10T20:11:02.923Z"
   },
   {
    "duration": 5,
    "start_time": "2021-11-10T20:12:07.653Z"
   },
   {
    "duration": 131,
    "start_time": "2021-11-10T20:13:49.703Z"
   },
   {
    "duration": 372,
    "start_time": "2021-11-10T20:14:03.492Z"
   },
   {
    "duration": 409,
    "start_time": "2021-11-10T20:14:15.884Z"
   },
   {
    "duration": 6,
    "start_time": "2021-11-10T20:15:43.617Z"
   },
   {
    "duration": 5,
    "start_time": "2021-11-10T20:15:52.534Z"
   },
   {
    "duration": 7,
    "start_time": "2021-11-10T20:16:56.435Z"
   },
   {
    "duration": 5,
    "start_time": "2021-11-10T20:16:57.635Z"
   },
   {
    "duration": 376,
    "start_time": "2021-11-10T20:20:08.926Z"
   },
   {
    "duration": 6,
    "start_time": "2021-11-10T20:20:12.972Z"
   },
   {
    "duration": 5,
    "start_time": "2021-11-10T20:20:13.661Z"
   },
   {
    "duration": 437,
    "start_time": "2021-11-10T20:25:26.904Z"
   },
   {
    "duration": 8,
    "start_time": "2021-11-10T20:30:39.660Z"
   },
   {
    "duration": 12,
    "start_time": "2021-11-10T20:35:20.520Z"
   },
   {
    "duration": 9,
    "start_time": "2021-11-10T20:36:48.119Z"
   },
   {
    "duration": 9,
    "start_time": "2021-11-10T20:37:58.524Z"
   },
   {
    "duration": 8,
    "start_time": "2021-11-10T20:38:14.352Z"
   },
   {
    "duration": 9,
    "start_time": "2021-11-10T20:38:39.227Z"
   },
   {
    "duration": 8,
    "start_time": "2021-11-10T20:39:14.336Z"
   },
   {
    "duration": 4359,
    "start_time": "2021-11-10T20:47:05.344Z"
   },
   {
    "duration": 1307,
    "start_time": "2021-11-10T21:03:06.120Z"
   },
   {
    "duration": 4036,
    "start_time": "2021-11-10T21:03:23.271Z"
   },
   {
    "duration": 363,
    "start_time": "2021-11-11T06:35:07.241Z"
   },
   {
    "duration": 1306,
    "start_time": "2021-11-11T06:35:24.132Z"
   },
   {
    "duration": 300,
    "start_time": "2021-11-11T06:35:25.440Z"
   },
   {
    "duration": 18,
    "start_time": "2021-11-11T06:35:25.742Z"
   },
   {
    "duration": 12,
    "start_time": "2021-11-11T06:35:25.762Z"
   },
   {
    "duration": 25,
    "start_time": "2021-11-11T06:35:25.776Z"
   },
   {
    "duration": 7,
    "start_time": "2021-11-11T06:35:25.803Z"
   },
   {
    "duration": 24,
    "start_time": "2021-11-11T06:35:25.812Z"
   },
   {
    "duration": 14,
    "start_time": "2021-11-11T06:35:25.865Z"
   },
   {
    "duration": 8,
    "start_time": "2021-11-11T06:35:25.882Z"
   },
   {
    "duration": 24,
    "start_time": "2021-11-11T06:35:25.892Z"
   },
   {
    "duration": 5,
    "start_time": "2021-11-11T06:35:25.918Z"
   },
   {
    "duration": 44,
    "start_time": "2021-11-11T06:35:25.925Z"
   },
   {
    "duration": 9,
    "start_time": "2021-11-11T06:35:25.971Z"
   },
   {
    "duration": 13,
    "start_time": "2021-11-11T06:35:25.981Z"
   },
   {
    "duration": 9,
    "start_time": "2021-11-11T06:35:25.996Z"
   },
   {
    "duration": 18,
    "start_time": "2021-11-11T06:35:26.007Z"
   },
   {
    "duration": 9,
    "start_time": "2021-11-11T06:35:26.027Z"
   },
   {
    "duration": 29,
    "start_time": "2021-11-11T06:35:26.038Z"
   },
   {
    "duration": 14,
    "start_time": "2021-11-11T06:35:26.069Z"
   },
   {
    "duration": 9,
    "start_time": "2021-11-11T06:35:26.085Z"
   },
   {
    "duration": 14,
    "start_time": "2021-11-11T06:35:26.095Z"
   },
   {
    "duration": 9,
    "start_time": "2021-11-11T06:35:26.111Z"
   },
   {
    "duration": 5,
    "start_time": "2021-11-11T06:35:26.124Z"
   },
   {
    "duration": 37,
    "start_time": "2021-11-11T06:35:26.131Z"
   },
   {
    "duration": 20,
    "start_time": "2021-11-11T06:35:26.170Z"
   },
   {
    "duration": 17,
    "start_time": "2021-11-11T06:35:26.191Z"
   },
   {
    "duration": 8,
    "start_time": "2021-11-11T06:35:26.210Z"
   },
   {
    "duration": 15,
    "start_time": "2021-11-11T06:35:26.220Z"
   },
   {
    "duration": 63,
    "start_time": "2021-11-11T06:35:26.236Z"
   },
   {
    "duration": 95,
    "start_time": "2021-11-11T06:35:26.302Z"
   },
   {
    "duration": 84,
    "start_time": "2021-11-11T06:35:26.399Z"
   },
   {
    "duration": 6,
    "start_time": "2021-11-11T06:35:26.485Z"
   },
   {
    "duration": 11,
    "start_time": "2021-11-11T06:35:26.492Z"
   },
   {
    "duration": 11,
    "start_time": "2021-11-11T06:35:26.504Z"
   },
   {
    "duration": 17,
    "start_time": "2021-11-11T06:35:26.517Z"
   },
   {
    "duration": 14,
    "start_time": "2021-11-11T06:35:26.536Z"
   },
   {
    "duration": 4,
    "start_time": "2021-11-11T06:35:26.564Z"
   },
   {
    "duration": 17,
    "start_time": "2021-11-11T06:35:26.570Z"
   },
   {
    "duration": 24,
    "start_time": "2021-11-11T06:35:26.589Z"
   },
   {
    "duration": 3,
    "start_time": "2021-11-11T06:35:26.615Z"
   },
   {
    "duration": 14,
    "start_time": "2021-11-11T06:35:26.620Z"
   },
   {
    "duration": 42,
    "start_time": "2021-11-11T06:35:26.636Z"
   },
   {
    "duration": 12,
    "start_time": "2021-11-11T06:35:26.680Z"
   },
   {
    "duration": 17,
    "start_time": "2021-11-11T06:35:26.694Z"
   },
   {
    "duration": 11,
    "start_time": "2021-11-11T06:35:26.712Z"
   },
   {
    "duration": 15,
    "start_time": "2021-11-11T06:35:26.724Z"
   },
   {
    "duration": 27,
    "start_time": "2021-11-11T06:35:26.740Z"
   },
   {
    "duration": 16,
    "start_time": "2021-11-11T06:35:26.769Z"
   },
   {
    "duration": 5,
    "start_time": "2021-11-11T06:35:26.787Z"
   },
   {
    "duration": 23,
    "start_time": "2021-11-11T06:35:26.793Z"
   },
   {
    "duration": 11,
    "start_time": "2021-11-11T06:35:26.817Z"
   },
   {
    "duration": 122,
    "start_time": "2021-11-11T06:35:26.830Z"
   },
   {
    "duration": 12,
    "start_time": "2021-11-11T06:35:26.953Z"
   },
   {
    "duration": 10,
    "start_time": "2021-11-11T06:35:26.967Z"
   },
   {
    "duration": 5,
    "start_time": "2021-11-11T06:35:26.979Z"
   },
   {
    "duration": 213,
    "start_time": "2021-11-11T06:35:26.985Z"
   },
   {
    "duration": 8,
    "start_time": "2021-11-11T06:35:27.200Z"
   },
   {
    "duration": 10,
    "start_time": "2021-11-11T06:35:27.209Z"
   },
   {
    "duration": 16,
    "start_time": "2021-11-11T06:35:27.220Z"
   },
   {
    "duration": 314,
    "start_time": "2021-11-11T06:35:27.237Z"
   },
   {
    "duration": 6,
    "start_time": "2021-11-11T06:35:27.553Z"
   },
   {
    "duration": 2803,
    "start_time": "2021-11-11T06:35:27.563Z"
   },
   {
    "duration": 9,
    "start_time": "2021-11-11T06:35:44.309Z"
   },
   {
    "duration": 2742,
    "start_time": "2021-11-11T07:02:33.269Z"
   },
   {
    "duration": 484,
    "start_time": "2021-11-11T17:24:55.745Z"
   },
   {
    "duration": 1147,
    "start_time": "2021-11-11T17:25:08.165Z"
   },
   {
    "duration": 303,
    "start_time": "2021-11-11T17:25:09.313Z"
   },
   {
    "duration": 17,
    "start_time": "2021-11-11T17:25:09.618Z"
   },
   {
    "duration": 22,
    "start_time": "2021-11-11T17:25:09.637Z"
   },
   {
    "duration": 49,
    "start_time": "2021-11-11T17:25:09.662Z"
   },
   {
    "duration": 6,
    "start_time": "2021-11-11T17:25:09.712Z"
   },
   {
    "duration": 19,
    "start_time": "2021-11-11T17:25:09.719Z"
   },
   {
    "duration": 21,
    "start_time": "2021-11-11T17:25:09.740Z"
   },
   {
    "duration": 12,
    "start_time": "2021-11-11T17:25:09.765Z"
   },
   {
    "duration": 47,
    "start_time": "2021-11-11T17:25:09.778Z"
   },
   {
    "duration": 5,
    "start_time": "2021-11-11T17:25:09.827Z"
   },
   {
    "duration": 37,
    "start_time": "2021-11-11T17:25:09.833Z"
   },
   {
    "duration": 35,
    "start_time": "2021-11-11T17:25:09.872Z"
   },
   {
    "duration": 28,
    "start_time": "2021-11-11T17:25:09.909Z"
   },
   {
    "duration": 27,
    "start_time": "2021-11-11T17:25:09.939Z"
   },
   {
    "duration": 20,
    "start_time": "2021-11-11T17:25:09.968Z"
   },
   {
    "duration": 18,
    "start_time": "2021-11-11T17:25:09.990Z"
   },
   {
    "duration": 25,
    "start_time": "2021-11-11T17:25:10.010Z"
   },
   {
    "duration": 18,
    "start_time": "2021-11-11T17:25:10.036Z"
   },
   {
    "duration": 43,
    "start_time": "2021-11-11T17:25:10.056Z"
   },
   {
    "duration": 38,
    "start_time": "2021-11-11T17:25:10.101Z"
   },
   {
    "duration": 38,
    "start_time": "2021-11-11T17:25:10.141Z"
   },
   {
    "duration": 5,
    "start_time": "2021-11-11T17:25:10.181Z"
   },
   {
    "duration": 54,
    "start_time": "2021-11-11T17:25:10.187Z"
   },
   {
    "duration": 14,
    "start_time": "2021-11-11T17:25:10.243Z"
   },
   {
    "duration": 22,
    "start_time": "2021-11-11T17:25:10.259Z"
   },
   {
    "duration": 32,
    "start_time": "2021-11-11T17:25:10.285Z"
   },
   {
    "duration": 37,
    "start_time": "2021-11-11T17:25:10.320Z"
   },
   {
    "duration": 51,
    "start_time": "2021-11-11T17:25:10.359Z"
   },
   {
    "duration": 104,
    "start_time": "2021-11-11T17:25:10.412Z"
   },
   {
    "duration": 84,
    "start_time": "2021-11-11T17:25:10.518Z"
   },
   {
    "duration": 6,
    "start_time": "2021-11-11T17:25:10.604Z"
   },
   {
    "duration": 17,
    "start_time": "2021-11-11T17:25:10.611Z"
   },
   {
    "duration": 6,
    "start_time": "2021-11-11T17:25:10.629Z"
   },
   {
    "duration": 20,
    "start_time": "2021-11-11T17:25:10.649Z"
   },
   {
    "duration": 19,
    "start_time": "2021-11-11T17:25:10.671Z"
   },
   {
    "duration": 17,
    "start_time": "2021-11-11T17:25:10.692Z"
   },
   {
    "duration": 25,
    "start_time": "2021-11-11T17:25:10.710Z"
   },
   {
    "duration": 39,
    "start_time": "2021-11-11T17:25:10.737Z"
   },
   {
    "duration": 4,
    "start_time": "2021-11-11T17:25:10.778Z"
   },
   {
    "duration": 21,
    "start_time": "2021-11-11T17:25:10.784Z"
   },
   {
    "duration": 47,
    "start_time": "2021-11-11T17:25:10.806Z"
   },
   {
    "duration": 26,
    "start_time": "2021-11-11T17:25:10.855Z"
   },
   {
    "duration": 25,
    "start_time": "2021-11-11T17:25:10.882Z"
   },
   {
    "duration": 31,
    "start_time": "2021-11-11T17:25:10.909Z"
   },
   {
    "duration": 34,
    "start_time": "2021-11-11T17:25:10.942Z"
   },
   {
    "duration": 15,
    "start_time": "2021-11-11T17:25:10.977Z"
   },
   {
    "duration": 37,
    "start_time": "2021-11-11T17:25:10.994Z"
   },
   {
    "duration": 24,
    "start_time": "2021-11-11T17:25:11.033Z"
   },
   {
    "duration": 31,
    "start_time": "2021-11-11T17:25:11.059Z"
   },
   {
    "duration": 38,
    "start_time": "2021-11-11T17:25:11.091Z"
   },
   {
    "duration": 126,
    "start_time": "2021-11-11T17:25:11.131Z"
   },
   {
    "duration": 4,
    "start_time": "2021-11-11T17:25:11.259Z"
   },
   {
    "duration": 24,
    "start_time": "2021-11-11T17:25:11.265Z"
   },
   {
    "duration": 8,
    "start_time": "2021-11-11T17:25:11.291Z"
   },
   {
    "duration": 223,
    "start_time": "2021-11-11T17:25:11.301Z"
   },
   {
    "duration": 8,
    "start_time": "2021-11-11T17:25:11.526Z"
   },
   {
    "duration": 9,
    "start_time": "2021-11-11T17:25:11.544Z"
   },
   {
    "duration": 20,
    "start_time": "2021-11-11T17:25:11.555Z"
   },
   {
    "duration": 287,
    "start_time": "2021-11-11T17:25:11.577Z"
   },
   {
    "duration": 6,
    "start_time": "2021-11-11T17:25:11.866Z"
   },
   {
    "duration": 2488,
    "start_time": "2021-11-11T17:25:11.873Z"
   },
   {
    "duration": 239,
    "start_time": "2021-11-11T17:25:24.488Z"
   },
   {
    "duration": 221,
    "start_time": "2021-11-11T17:26:08.855Z"
   },
   {
    "duration": 236,
    "start_time": "2021-11-11T17:26:58.273Z"
   },
   {
    "duration": 217,
    "start_time": "2021-11-11T17:31:03.907Z"
   },
   {
    "duration": 214,
    "start_time": "2021-11-11T17:32:04.495Z"
   },
   {
    "duration": 489,
    "start_time": "2021-11-11T17:37:59.630Z"
   },
   {
    "duration": 507,
    "start_time": "2021-11-11T17:52:21.070Z"
   },
   {
    "duration": 395,
    "start_time": "2021-11-11T17:52:53.108Z"
   },
   {
    "duration": 1756,
    "start_time": "2021-11-11T20:31:05.249Z"
   },
   {
    "duration": 1609,
    "start_time": "2021-11-11T20:31:49.411Z"
   },
   {
    "duration": 408,
    "start_time": "2021-11-11T20:32:11.104Z"
   },
   {
    "duration": 380,
    "start_time": "2021-11-12T19:52:31.646Z"
   },
   {
    "duration": 1510,
    "start_time": "2021-11-12T19:52:36.851Z"
   },
   {
    "duration": 398,
    "start_time": "2021-11-12T19:52:38.364Z"
   },
   {
    "duration": 22,
    "start_time": "2021-11-12T19:52:38.765Z"
   },
   {
    "duration": 17,
    "start_time": "2021-11-12T19:52:38.790Z"
   },
   {
    "duration": 42,
    "start_time": "2021-11-12T19:52:38.809Z"
   },
   {
    "duration": 9,
    "start_time": "2021-11-12T19:52:38.854Z"
   },
   {
    "duration": 24,
    "start_time": "2021-11-12T19:52:38.865Z"
   },
   {
    "duration": 53,
    "start_time": "2021-11-12T19:52:38.893Z"
   },
   {
    "duration": 13,
    "start_time": "2021-11-12T19:52:38.950Z"
   },
   {
    "duration": 66,
    "start_time": "2021-11-12T19:52:38.966Z"
   },
   {
    "duration": 13,
    "start_time": "2021-11-12T19:52:39.035Z"
   },
   {
    "duration": 16,
    "start_time": "2021-11-12T19:52:39.050Z"
   },
   {
    "duration": 14,
    "start_time": "2021-11-12T19:52:39.069Z"
   },
   {
    "duration": 54,
    "start_time": "2021-11-12T19:52:39.085Z"
   },
   {
    "duration": 10,
    "start_time": "2021-11-12T19:52:39.142Z"
   },
   {
    "duration": 16,
    "start_time": "2021-11-12T19:52:39.154Z"
   },
   {
    "duration": 13,
    "start_time": "2021-11-12T19:52:39.173Z"
   },
   {
    "duration": 53,
    "start_time": "2021-11-12T19:52:39.188Z"
   },
   {
    "duration": 10,
    "start_time": "2021-11-12T19:52:39.243Z"
   },
   {
    "duration": 17,
    "start_time": "2021-11-12T19:52:39.255Z"
   },
   {
    "duration": 18,
    "start_time": "2021-11-12T19:52:39.275Z"
   },
   {
    "duration": 45,
    "start_time": "2021-11-12T19:52:39.296Z"
   },
   {
    "duration": 8,
    "start_time": "2021-11-12T19:52:39.350Z"
   },
   {
    "duration": 20,
    "start_time": "2021-11-12T19:52:39.361Z"
   },
   {
    "duration": 12,
    "start_time": "2021-11-12T19:52:39.384Z"
   },
   {
    "duration": 52,
    "start_time": "2021-11-12T19:52:39.399Z"
   },
   {
    "duration": 11,
    "start_time": "2021-11-12T19:52:39.453Z"
   },
   {
    "duration": 25,
    "start_time": "2021-11-12T19:52:39.467Z"
   },
   {
    "duration": 97,
    "start_time": "2021-11-12T19:52:39.494Z"
   },
   {
    "duration": 138,
    "start_time": "2021-11-12T19:52:39.594Z"
   },
   {
    "duration": 132,
    "start_time": "2021-11-12T19:52:39.735Z"
   },
   {
    "duration": 8,
    "start_time": "2021-11-12T19:52:39.869Z"
   },
   {
    "duration": 8,
    "start_time": "2021-11-12T19:52:39.879Z"
   },
   {
    "duration": 17,
    "start_time": "2021-11-12T19:52:39.890Z"
   },
   {
    "duration": 43,
    "start_time": "2021-11-12T19:52:39.909Z"
   },
   {
    "duration": 9,
    "start_time": "2021-11-12T19:52:39.955Z"
   },
   {
    "duration": 13,
    "start_time": "2021-11-12T19:52:39.966Z"
   },
   {
    "duration": 31,
    "start_time": "2021-11-12T19:52:39.981Z"
   },
   {
    "duration": 49,
    "start_time": "2021-11-12T19:52:40.015Z"
   },
   {
    "duration": 6,
    "start_time": "2021-11-12T19:52:40.066Z"
   },
   {
    "duration": 36,
    "start_time": "2021-11-12T19:52:40.074Z"
   },
   {
    "duration": 48,
    "start_time": "2021-11-12T19:52:40.113Z"
   },
   {
    "duration": 17,
    "start_time": "2021-11-12T19:52:40.163Z"
   },
   {
    "duration": 40,
    "start_time": "2021-11-12T19:52:40.182Z"
   },
   {
    "duration": 27,
    "start_time": "2021-11-12T19:52:40.224Z"
   },
   {
    "duration": 25,
    "start_time": "2021-11-12T19:52:40.254Z"
   },
   {
    "duration": 26,
    "start_time": "2021-11-12T19:52:40.282Z"
   },
   {
    "duration": 28,
    "start_time": "2021-11-12T19:52:40.311Z"
   },
   {
    "duration": 5,
    "start_time": "2021-11-12T19:52:40.342Z"
   },
   {
    "duration": 22,
    "start_time": "2021-11-12T19:52:40.349Z"
   },
   {
    "duration": 11,
    "start_time": "2021-11-12T19:52:40.373Z"
   },
   {
    "duration": 200,
    "start_time": "2021-11-12T19:52:40.386Z"
   },
   {
    "duration": 6,
    "start_time": "2021-11-12T19:52:40.588Z"
   },
   {
    "duration": 32,
    "start_time": "2021-11-12T19:52:40.596Z"
   },
   {
    "duration": 9,
    "start_time": "2021-11-12T19:52:40.631Z"
   },
   {
    "duration": 405,
    "start_time": "2021-11-12T19:52:40.643Z"
   },
   {
    "duration": 10,
    "start_time": "2021-11-12T19:52:41.051Z"
   },
   {
    "duration": 15,
    "start_time": "2021-11-12T19:52:41.063Z"
   },
   {
    "duration": 64,
    "start_time": "2021-11-12T19:52:41.080Z"
   },
   {
    "duration": 481,
    "start_time": "2021-11-12T19:52:41.147Z"
   },
   {
    "duration": 13,
    "start_time": "2021-11-12T19:52:41.631Z"
   },
   {
    "duration": 4502,
    "start_time": "2021-11-12T19:52:41.647Z"
   },
   {
    "duration": 424,
    "start_time": "2021-11-12T19:52:46.151Z"
   },
   {
    "duration": 411,
    "start_time": "2021-11-12T19:52:46.577Z"
   },
   {
    "duration": 10,
    "start_time": "2021-11-12T19:52:46.990Z"
   },
   {
    "duration": 720,
    "start_time": "2021-11-12T19:52:50.995Z"
   },
   {
    "duration": 557,
    "start_time": "2021-11-12T19:54:01.504Z"
   },
   {
    "duration": 552,
    "start_time": "2021-11-12T19:54:42.585Z"
   },
   {
    "duration": 678,
    "start_time": "2021-11-12T19:55:07.109Z"
   },
   {
    "duration": 8103,
    "start_time": "2021-11-12T20:00:44.564Z"
   },
   {
    "duration": 1599,
    "start_time": "2021-11-12T20:01:28.627Z"
   },
   {
    "duration": 1621,
    "start_time": "2021-11-12T20:02:44.962Z"
   },
   {
    "duration": 1943,
    "start_time": "2021-11-12T20:04:26.329Z"
   },
   {
    "duration": 3616,
    "start_time": "2021-11-12T20:04:46.749Z"
   },
   {
    "duration": 8190,
    "start_time": "2021-11-12T20:05:11.871Z"
   },
   {
    "duration": 8746,
    "start_time": "2021-11-12T20:05:48.096Z"
   },
   {
    "duration": 2263,
    "start_time": "2021-11-12T20:06:35.814Z"
   },
   {
    "duration": 1856,
    "start_time": "2021-11-12T20:07:42.553Z"
   },
   {
    "duration": 1689,
    "start_time": "2021-11-12T20:10:56.171Z"
   },
   {
    "duration": 319,
    "start_time": "2021-11-12T20:34:22.565Z"
   },
   {
    "duration": 10,
    "start_time": "2021-11-12T20:34:36.212Z"
   },
   {
    "duration": 4,
    "start_time": "2021-11-12T20:35:19.390Z"
   },
   {
    "duration": 8,
    "start_time": "2021-11-12T20:35:33.893Z"
   },
   {
    "duration": 9,
    "start_time": "2021-11-12T20:35:44.236Z"
   },
   {
    "duration": 6,
    "start_time": "2021-11-12T20:36:33.489Z"
   },
   {
    "duration": 5,
    "start_time": "2021-11-12T20:36:57.235Z"
   },
   {
    "duration": 7,
    "start_time": "2021-11-12T20:38:04.198Z"
   },
   {
    "duration": 6,
    "start_time": "2021-11-12T20:39:42.069Z"
   },
   {
    "duration": 7,
    "start_time": "2021-11-12T20:41:04.527Z"
   },
   {
    "duration": 7,
    "start_time": "2021-11-12T20:44:08.591Z"
   },
   {
    "duration": 9,
    "start_time": "2021-11-12T20:44:14.047Z"
   },
   {
    "duration": 10,
    "start_time": "2021-11-12T20:44:29.934Z"
   },
   {
    "duration": 3,
    "start_time": "2021-11-12T20:44:57.260Z"
   },
   {
    "duration": 101,
    "start_time": "2021-11-12T20:49:00.781Z"
   },
   {
    "duration": 10,
    "start_time": "2021-11-12T20:49:18.019Z"
   },
   {
    "duration": 4,
    "start_time": "2021-11-12T20:52:00.399Z"
   },
   {
    "duration": 6,
    "start_time": "2021-11-12T20:52:14.605Z"
   },
   {
    "duration": 6,
    "start_time": "2021-11-12T20:52:15.448Z"
   },
   {
    "duration": 392,
    "start_time": "2021-11-12T20:54:21.258Z"
   },
   {
    "duration": 429,
    "start_time": "2021-11-12T20:54:33.231Z"
   },
   {
    "duration": 345,
    "start_time": "2021-11-12T20:55:41.130Z"
   },
   {
    "duration": 11,
    "start_time": "2021-11-12T20:56:40.550Z"
   },
   {
    "duration": 6,
    "start_time": "2021-11-12T20:57:08.273Z"
   },
   {
    "duration": 6,
    "start_time": "2021-11-12T20:57:33.705Z"
   },
   {
    "duration": 10,
    "start_time": "2021-11-12T20:57:44.748Z"
   },
   {
    "duration": 7,
    "start_time": "2021-11-12T20:58:53.642Z"
   },
   {
    "duration": 8,
    "start_time": "2021-11-12T20:59:12.653Z"
   },
   {
    "duration": 274,
    "start_time": "2021-11-12T21:00:59.362Z"
   },
   {
    "duration": 5,
    "start_time": "2021-11-12T21:01:05.469Z"
   },
   {
    "duration": 7,
    "start_time": "2021-11-12T21:01:07.543Z"
   },
   {
    "duration": 7,
    "start_time": "2021-11-12T21:01:34.971Z"
   },
   {
    "duration": 8,
    "start_time": "2021-11-12T21:03:35.632Z"
   },
   {
    "duration": 5,
    "start_time": "2021-11-12T21:04:19.621Z"
   },
   {
    "duration": 7,
    "start_time": "2021-11-12T21:04:41.278Z"
   },
   {
    "duration": 8,
    "start_time": "2021-11-12T21:05:09.731Z"
   },
   {
    "duration": 9,
    "start_time": "2021-11-12T21:05:48.207Z"
   },
   {
    "duration": 7,
    "start_time": "2021-11-12T21:06:14.270Z"
   },
   {
    "duration": 9,
    "start_time": "2021-11-12T21:06:15.070Z"
   },
   {
    "duration": 7,
    "start_time": "2021-11-12T21:06:16.197Z"
   },
   {
    "duration": 7,
    "start_time": "2021-11-12T22:05:12.018Z"
   },
   {
    "duration": 282,
    "start_time": "2021-11-12T22:30:16.972Z"
   },
   {
    "duration": 339,
    "start_time": "2021-11-12T22:30:45.028Z"
   },
   {
    "duration": 8,
    "start_time": "2021-11-12T22:34:40.523Z"
   },
   {
    "duration": 9,
    "start_time": "2021-11-12T22:34:46.084Z"
   },
   {
    "duration": 9,
    "start_time": "2021-11-12T22:35:50.671Z"
   },
   {
    "duration": 6,
    "start_time": "2021-11-12T22:36:03.163Z"
   },
   {
    "duration": 6,
    "start_time": "2021-11-12T22:36:09.796Z"
   },
   {
    "duration": 288,
    "start_time": "2021-11-12T22:38:45.989Z"
   },
   {
    "duration": 8,
    "start_time": "2021-11-12T22:39:02.419Z"
   },
   {
    "duration": 8,
    "start_time": "2021-11-12T22:42:14.689Z"
   },
   {
    "duration": 8,
    "start_time": "2021-11-12T22:42:47.488Z"
   },
   {
    "duration": 1536,
    "start_time": "2021-11-13T13:24:10.275Z"
   },
   {
    "duration": 444,
    "start_time": "2021-11-13T13:24:13.884Z"
   },
   {
    "duration": 22,
    "start_time": "2021-11-13T13:24:19.270Z"
   },
   {
    "duration": 18,
    "start_time": "2021-11-13T13:24:21.571Z"
   },
   {
    "duration": 34,
    "start_time": "2021-11-13T13:24:26.917Z"
   },
   {
    "duration": 10,
    "start_time": "2021-11-13T13:24:33.318Z"
   },
   {
    "duration": 25,
    "start_time": "2021-11-13T13:24:34.908Z"
   },
   {
    "duration": 18,
    "start_time": "2021-11-13T14:12:57.004Z"
   },
   {
    "duration": 12,
    "start_time": "2021-11-13T14:12:58.077Z"
   },
   {
    "duration": 29,
    "start_time": "2021-11-13T14:13:02.582Z"
   },
   {
    "duration": 8,
    "start_time": "2021-11-13T14:13:04.326Z"
   },
   {
    "duration": 17,
    "start_time": "2021-11-13T14:48:54.873Z"
   },
   {
    "duration": 11,
    "start_time": "2021-11-13T14:48:55.715Z"
   },
   {
    "duration": 7,
    "start_time": "2021-11-13T14:48:58.289Z"
   },
   {
    "duration": 8,
    "start_time": "2021-11-13T14:49:08.205Z"
   },
   {
    "duration": 11,
    "start_time": "2021-11-13T14:49:18.407Z"
   },
   {
    "duration": 12,
    "start_time": "2021-11-13T14:49:26.598Z"
   },
   {
    "duration": 14,
    "start_time": "2021-11-13T14:49:36.388Z"
   },
   {
    "duration": 9,
    "start_time": "2021-11-13T14:49:49.018Z"
   },
   {
    "duration": 21,
    "start_time": "2021-11-13T14:49:52.645Z"
   },
   {
    "duration": 6,
    "start_time": "2021-11-13T14:49:54.075Z"
   },
   {
    "duration": 10,
    "start_time": "2021-11-13T15:17:20.074Z"
   },
   {
    "duration": 15,
    "start_time": "2021-11-13T15:17:29.933Z"
   },
   {
    "duration": 11,
    "start_time": "2021-11-13T15:17:34.390Z"
   },
   {
    "duration": 12,
    "start_time": "2021-11-13T15:17:43.653Z"
   },
   {
    "duration": 10,
    "start_time": "2021-11-13T15:17:44.926Z"
   },
   {
    "duration": 10,
    "start_time": "2021-11-13T15:23:06.520Z"
   },
   {
    "duration": 16,
    "start_time": "2021-11-13T15:23:07.573Z"
   },
   {
    "duration": 11,
    "start_time": "2021-11-13T15:23:09.173Z"
   },
   {
    "duration": 24,
    "start_time": "2021-11-13T15:23:31.382Z"
   },
   {
    "duration": 79,
    "start_time": "2021-11-13T15:24:21.015Z"
   },
   {
    "duration": 118,
    "start_time": "2021-11-13T15:26:35.583Z"
   },
   {
    "duration": 115,
    "start_time": "2021-11-13T15:26:50.484Z"
   },
   {
    "duration": 11,
    "start_time": "2021-11-13T15:30:06.980Z"
   },
   {
    "duration": 7,
    "start_time": "2021-11-13T15:30:46.097Z"
   },
   {
    "duration": 4,
    "start_time": "2021-11-13T15:31:41.572Z"
   },
   {
    "duration": 20,
    "start_time": "2021-11-13T15:31:42.639Z"
   },
   {
    "duration": 11,
    "start_time": "2021-11-13T15:31:43.532Z"
   },
   {
    "duration": 10,
    "start_time": "2021-11-13T15:32:10.834Z"
   },
   {
    "duration": 10,
    "start_time": "2021-11-13T15:32:20.419Z"
   },
   {
    "duration": 5,
    "start_time": "2021-11-13T15:33:55.677Z"
   },
   {
    "duration": 20,
    "start_time": "2021-11-13T15:33:56.650Z"
   },
   {
    "duration": 31,
    "start_time": "2021-11-13T15:34:03.325Z"
   },
   {
    "duration": 6,
    "start_time": "2021-11-13T15:34:17.271Z"
   },
   {
    "duration": 18,
    "start_time": "2021-11-13T15:34:18.830Z"
   },
   {
    "duration": 25,
    "start_time": "2021-11-13T15:34:42.377Z"
   },
   {
    "duration": 20,
    "start_time": "2021-11-13T15:34:43.936Z"
   },
   {
    "duration": 34,
    "start_time": "2021-11-13T15:34:54.254Z"
   },
   {
    "duration": 25,
    "start_time": "2021-11-13T15:34:55.262Z"
   },
   {
    "duration": 12,
    "start_time": "2021-11-13T15:35:21.414Z"
   },
   {
    "duration": 12,
    "start_time": "2021-11-13T15:35:22.493Z"
   },
   {
    "duration": 22,
    "start_time": "2021-11-13T15:36:02.031Z"
   },
   {
    "duration": 5,
    "start_time": "2021-11-13T15:36:03.229Z"
   },
   {
    "duration": 19,
    "start_time": "2021-11-13T15:36:04.569Z"
   },
   {
    "duration": 11,
    "start_time": "2021-11-13T15:36:11.888Z"
   },
   {
    "duration": 198,
    "start_time": "2021-11-13T15:36:12.508Z"
   },
   {
    "duration": 5,
    "start_time": "2021-11-13T15:36:16.079Z"
   },
   {
    "duration": 10,
    "start_time": "2021-11-13T15:36:35.795Z"
   },
   {
    "duration": 8,
    "start_time": "2021-11-13T15:37:16.104Z"
   },
   {
    "duration": 414,
    "start_time": "2021-11-13T15:37:17.272Z"
   },
   {
    "duration": 10,
    "start_time": "2021-11-13T15:37:25.587Z"
   },
   {
    "duration": 12,
    "start_time": "2021-11-13T15:37:27.210Z"
   },
   {
    "duration": 24,
    "start_time": "2021-11-13T15:41:30.413Z"
   },
   {
    "duration": 617,
    "start_time": "2021-11-13T15:41:33.775Z"
   },
   {
    "duration": 9,
    "start_time": "2021-11-13T15:43:50.932Z"
   },
   {
    "duration": 8,
    "start_time": "2021-11-13T15:44:33.219Z"
   },
   {
    "duration": 5121,
    "start_time": "2021-11-13T15:46:05.004Z"
   },
   {
    "duration": 408,
    "start_time": "2021-11-13T16:03:26.105Z"
   },
   {
    "duration": 1904,
    "start_time": "2021-11-13T16:04:54.086Z"
   },
   {
    "duration": 10,
    "start_time": "2021-11-13T16:30:45.823Z"
   },
   {
    "duration": 10,
    "start_time": "2021-11-13T16:52:35.935Z"
   },
   {
    "duration": 5,
    "start_time": "2021-11-13T16:52:36.940Z"
   },
   {
    "duration": 8,
    "start_time": "2021-11-13T16:52:38.007Z"
   },
   {
    "duration": 5,
    "start_time": "2021-11-13T16:52:42.012Z"
   },
   {
    "duration": 6,
    "start_time": "2021-11-13T16:52:42.977Z"
   },
   {
    "duration": 10,
    "start_time": "2021-11-13T16:52:47.760Z"
   },
   {
    "duration": 4,
    "start_time": "2021-11-13T16:52:48.675Z"
   },
   {
    "duration": 6,
    "start_time": "2021-11-13T16:52:49.473Z"
   },
   {
    "duration": 6,
    "start_time": "2021-11-13T16:52:52.251Z"
   },
   {
    "duration": 6,
    "start_time": "2021-11-13T16:52:53.019Z"
   },
   {
    "duration": 16,
    "start_time": "2021-11-13T16:52:58.658Z"
   },
   {
    "duration": 5,
    "start_time": "2021-11-13T16:53:05.291Z"
   },
   {
    "duration": 6,
    "start_time": "2021-11-13T16:53:50.685Z"
   },
   {
    "duration": 4,
    "start_time": "2021-11-13T16:54:29.715Z"
   },
   {
    "duration": 5,
    "start_time": "2021-11-13T16:55:07.007Z"
   },
   {
    "duration": 6,
    "start_time": "2021-11-13T16:55:35.682Z"
   },
   {
    "duration": 7,
    "start_time": "2021-11-13T16:55:42.976Z"
   },
   {
    "duration": 6,
    "start_time": "2021-11-13T16:55:47.242Z"
   },
   {
    "duration": 6,
    "start_time": "2021-11-13T16:55:58.678Z"
   },
   {
    "duration": 6,
    "start_time": "2021-11-13T16:56:05.960Z"
   },
   {
    "duration": 5,
    "start_time": "2021-11-13T16:56:40.038Z"
   },
   {
    "duration": 10,
    "start_time": "2021-11-13T16:56:41.117Z"
   },
   {
    "duration": 8,
    "start_time": "2021-11-13T16:56:41.882Z"
   },
   {
    "duration": 543,
    "start_time": "2021-11-13T17:08:08.373Z"
   },
   {
    "duration": 8,
    "start_time": "2021-11-13T17:08:24.941Z"
   },
   {
    "duration": 7,
    "start_time": "2021-11-13T17:08:25.457Z"
   },
   {
    "duration": 7,
    "start_time": "2021-11-13T17:08:26.150Z"
   },
   {
    "duration": 5,
    "start_time": "2021-11-13T17:08:29.624Z"
   },
   {
    "duration": 5,
    "start_time": "2021-11-13T17:08:30.795Z"
   },
   {
    "duration": 3,
    "start_time": "2021-11-13T17:08:33.924Z"
   },
   {
    "duration": 402,
    "start_time": "2021-11-13T17:08:43.187Z"
   },
   {
    "duration": 7,
    "start_time": "2021-11-13T17:09:30.092Z"
   },
   {
    "duration": 8,
    "start_time": "2021-11-13T17:10:10.950Z"
   },
   {
    "duration": 5,
    "start_time": "2021-11-13T17:10:21.885Z"
   },
   {
    "duration": 7,
    "start_time": "2021-11-13T17:10:41.510Z"
   },
   {
    "duration": 8,
    "start_time": "2021-11-13T17:11:30.585Z"
   },
   {
    "duration": 7,
    "start_time": "2021-11-13T17:11:34.179Z"
   },
   {
    "duration": 1570,
    "start_time": "2021-11-13T19:44:17.585Z"
   },
   {
    "duration": 414,
    "start_time": "2021-11-13T19:44:19.158Z"
   },
   {
    "duration": 23,
    "start_time": "2021-11-13T19:44:19.575Z"
   },
   {
    "duration": 17,
    "start_time": "2021-11-13T19:44:19.600Z"
   },
   {
    "duration": 58,
    "start_time": "2021-11-13T19:44:19.619Z"
   },
   {
    "duration": 15,
    "start_time": "2021-11-13T19:44:19.683Z"
   },
   {
    "duration": 29,
    "start_time": "2021-11-13T19:44:19.702Z"
   },
   {
    "duration": 20,
    "start_time": "2021-11-13T19:44:19.765Z"
   },
   {
    "duration": 12,
    "start_time": "2021-11-13T19:44:19.790Z"
   },
   {
    "duration": 56,
    "start_time": "2021-11-13T19:44:19.805Z"
   },
   {
    "duration": 15,
    "start_time": "2021-11-13T19:44:19.864Z"
   },
   {
    "duration": 17,
    "start_time": "2021-11-13T19:44:19.882Z"
   },
   {
    "duration": 13,
    "start_time": "2021-11-13T19:44:19.901Z"
   },
   {
    "duration": 51,
    "start_time": "2021-11-13T19:44:19.916Z"
   },
   {
    "duration": 12,
    "start_time": "2021-11-13T19:44:19.972Z"
   },
   {
    "duration": 14,
    "start_time": "2021-11-13T19:44:19.987Z"
   },
   {
    "duration": 16,
    "start_time": "2021-11-13T19:44:20.004Z"
   },
   {
    "duration": 56,
    "start_time": "2021-11-13T19:44:20.023Z"
   },
   {
    "duration": 6,
    "start_time": "2021-11-13T19:44:20.081Z"
   },
   {
    "duration": 18,
    "start_time": "2021-11-13T19:44:20.090Z"
   },
   {
    "duration": 19,
    "start_time": "2021-11-13T19:44:20.110Z"
   },
   {
    "duration": 47,
    "start_time": "2021-11-13T19:44:20.131Z"
   },
   {
    "duration": 9,
    "start_time": "2021-11-13T19:44:20.180Z"
   },
   {
    "duration": 18,
    "start_time": "2021-11-13T19:44:20.191Z"
   },
   {
    "duration": 50,
    "start_time": "2021-11-13T19:44:20.212Z"
   },
   {
    "duration": 19,
    "start_time": "2021-11-13T19:44:20.265Z"
   },
   {
    "duration": 11,
    "start_time": "2021-11-13T19:44:20.291Z"
   },
   {
    "duration": 64,
    "start_time": "2021-11-13T19:44:20.306Z"
   },
   {
    "duration": 64,
    "start_time": "2021-11-13T19:44:20.375Z"
   },
   {
    "duration": 133,
    "start_time": "2021-11-13T19:44:20.458Z"
   },
   {
    "duration": 127,
    "start_time": "2021-11-13T19:44:20.593Z"
   },
   {
    "duration": 9,
    "start_time": "2021-11-13T19:44:20.723Z"
   },
   {
    "duration": 33,
    "start_time": "2021-11-13T19:44:20.734Z"
   },
   {
    "duration": 11,
    "start_time": "2021-11-13T19:44:20.770Z"
   },
   {
    "duration": 24,
    "start_time": "2021-11-13T19:44:20.784Z"
   },
   {
    "duration": 10,
    "start_time": "2021-11-13T19:44:20.811Z"
   },
   {
    "duration": 37,
    "start_time": "2021-11-13T19:44:20.824Z"
   },
   {
    "duration": 33,
    "start_time": "2021-11-13T19:44:20.864Z"
   },
   {
    "duration": 38,
    "start_time": "2021-11-13T19:44:20.900Z"
   },
   {
    "duration": 6,
    "start_time": "2021-11-13T19:44:20.941Z"
   },
   {
    "duration": 53,
    "start_time": "2021-11-13T19:44:20.949Z"
   },
   {
    "duration": 59,
    "start_time": "2021-11-13T19:44:21.005Z"
   },
   {
    "duration": 20,
    "start_time": "2021-11-13T19:44:21.067Z"
   },
   {
    "duration": 31,
    "start_time": "2021-11-13T19:44:21.089Z"
   },
   {
    "duration": 13,
    "start_time": "2021-11-13T19:44:21.123Z"
   },
   {
    "duration": 14,
    "start_time": "2021-11-13T19:44:21.167Z"
   },
   {
    "duration": 26,
    "start_time": "2021-11-13T19:44:21.184Z"
   },
   {
    "duration": 24,
    "start_time": "2021-11-13T19:44:21.212Z"
   },
   {
    "duration": 20,
    "start_time": "2021-11-13T19:44:21.238Z"
   },
   {
    "duration": 30,
    "start_time": "2021-11-13T19:44:21.262Z"
   },
   {
    "duration": 12,
    "start_time": "2021-11-13T19:44:21.294Z"
   },
   {
    "duration": 210,
    "start_time": "2021-11-13T19:44:21.308Z"
   },
   {
    "duration": 6,
    "start_time": "2021-11-13T19:44:21.520Z"
   },
   {
    "duration": 20,
    "start_time": "2021-11-13T19:44:21.528Z"
   },
   {
    "duration": 25,
    "start_time": "2021-11-13T19:44:21.550Z"
   },
   {
    "duration": 402,
    "start_time": "2021-11-13T19:44:21.577Z"
   },
   {
    "duration": 11,
    "start_time": "2021-11-13T19:44:21.982Z"
   },
   {
    "duration": 33,
    "start_time": "2021-11-13T19:44:21.995Z"
   },
   {
    "duration": 517,
    "start_time": "2021-11-13T19:44:22.032Z"
   },
   {
    "duration": 13,
    "start_time": "2021-11-13T19:44:22.552Z"
   },
   {
    "duration": 4533,
    "start_time": "2021-11-13T19:44:22.570Z"
   },
   {
    "duration": 1806,
    "start_time": "2021-11-13T19:44:27.105Z"
   },
   {
    "duration": 471,
    "start_time": "2021-11-13T19:44:28.914Z"
   },
   {
    "duration": 10,
    "start_time": "2021-11-13T19:44:29.387Z"
   },
   {
    "duration": 6,
    "start_time": "2021-11-13T19:44:29.399Z"
   },
   {
    "duration": 9,
    "start_time": "2021-11-13T19:44:29.408Z"
   },
   {
    "duration": 45,
    "start_time": "2021-11-13T19:44:29.420Z"
   },
   {
    "duration": 16,
    "start_time": "2021-11-13T19:44:29.468Z"
   },
   {
    "duration": 9,
    "start_time": "2021-11-13T19:44:29.486Z"
   },
   {
    "duration": 4,
    "start_time": "2021-11-13T19:44:29.497Z"
   },
   {
    "duration": 8,
    "start_time": "2021-11-13T19:44:29.504Z"
   },
   {
    "duration": 7,
    "start_time": "2021-11-13T19:44:29.514Z"
   },
   {
    "duration": 49,
    "start_time": "2021-11-13T19:44:29.524Z"
   },
   {
    "duration": 6,
    "start_time": "2021-11-13T19:44:29.576Z"
   },
   {
    "duration": 6,
    "start_time": "2021-11-13T19:44:29.585Z"
   },
   {
    "duration": 17,
    "start_time": "2021-11-13T19:44:29.593Z"
   },
   {
    "duration": 11,
    "start_time": "2021-11-13T19:44:29.612Z"
   },
   {
    "duration": 34,
    "start_time": "2021-11-13T19:44:29.625Z"
   },
   {
    "duration": 8,
    "start_time": "2021-11-13T19:44:29.663Z"
   },
   {
    "duration": 13,
    "start_time": "2021-11-13T19:44:29.674Z"
   },
   {
    "duration": 7,
    "start_time": "2021-11-13T20:42:28.346Z"
   },
   {
    "duration": 7,
    "start_time": "2021-11-13T20:43:56.521Z"
   },
   {
    "duration": 1564,
    "start_time": "2021-11-14T08:08:06.986Z"
   },
   {
    "duration": 378,
    "start_time": "2021-11-14T08:08:08.553Z"
   },
   {
    "duration": 22,
    "start_time": "2021-11-14T08:08:08.934Z"
   },
   {
    "duration": 25,
    "start_time": "2021-11-14T08:08:08.959Z"
   },
   {
    "duration": 37,
    "start_time": "2021-11-14T08:08:08.986Z"
   },
   {
    "duration": 40,
    "start_time": "2021-11-14T08:08:09.026Z"
   },
   {
    "duration": 25,
    "start_time": "2021-11-14T08:08:09.070Z"
   },
   {
    "duration": 18,
    "start_time": "2021-11-14T08:08:09.098Z"
   },
   {
    "duration": 41,
    "start_time": "2021-11-14T08:08:09.119Z"
   },
   {
    "duration": 33,
    "start_time": "2021-11-14T08:08:09.170Z"
   },
   {
    "duration": 8,
    "start_time": "2021-11-14T08:08:09.205Z"
   },
   {
    "duration": 52,
    "start_time": "2021-11-14T08:08:09.215Z"
   },
   {
    "duration": 13,
    "start_time": "2021-11-14T08:08:09.270Z"
   },
   {
    "duration": 11,
    "start_time": "2021-11-14T08:08:09.286Z"
   },
   {
    "duration": 9,
    "start_time": "2021-11-14T08:08:09.300Z"
   },
   {
    "duration": 11,
    "start_time": "2021-11-14T08:08:09.312Z"
   },
   {
    "duration": 18,
    "start_time": "2021-11-14T08:08:09.362Z"
   },
   {
    "duration": 21,
    "start_time": "2021-11-14T08:08:09.382Z"
   },
   {
    "duration": 10,
    "start_time": "2021-11-14T08:08:09.406Z"
   },
   {
    "duration": 14,
    "start_time": "2021-11-14T08:08:09.418Z"
   },
   {
    "duration": 21,
    "start_time": "2021-11-14T08:08:09.461Z"
   },
   {
    "duration": 14,
    "start_time": "2021-11-14T08:08:09.486Z"
   },
   {
    "duration": 7,
    "start_time": "2021-11-14T08:08:09.507Z"
   },
   {
    "duration": 10,
    "start_time": "2021-11-14T08:08:09.562Z"
   },
   {
    "duration": 18,
    "start_time": "2021-11-14T08:08:09.575Z"
   },
   {
    "duration": 14,
    "start_time": "2021-11-14T08:08:09.596Z"
   },
   {
    "duration": 10,
    "start_time": "2021-11-14T08:08:09.612Z"
   },
   {
    "duration": 68,
    "start_time": "2021-11-14T08:08:09.625Z"
   },
   {
    "duration": 83,
    "start_time": "2021-11-14T08:08:09.696Z"
   },
   {
    "duration": 121,
    "start_time": "2021-11-14T08:08:09.782Z"
   },
   {
    "duration": 129,
    "start_time": "2021-11-14T08:08:09.906Z"
   },
   {
    "duration": 9,
    "start_time": "2021-11-14T08:08:10.037Z"
   },
   {
    "duration": 14,
    "start_time": "2021-11-14T08:08:10.060Z"
   },
   {
    "duration": 9,
    "start_time": "2021-11-14T08:08:10.077Z"
   },
   {
    "duration": 24,
    "start_time": "2021-11-14T08:08:10.088Z"
   },
   {
    "duration": 10,
    "start_time": "2021-11-14T08:08:10.114Z"
   },
   {
    "duration": 42,
    "start_time": "2021-11-14T08:08:10.126Z"
   },
   {
    "duration": 16,
    "start_time": "2021-11-14T08:08:10.172Z"
   },
   {
    "duration": 29,
    "start_time": "2021-11-14T08:08:10.190Z"
   },
   {
    "duration": 5,
    "start_time": "2021-11-14T08:08:10.221Z"
   },
   {
    "duration": 55,
    "start_time": "2021-11-14T08:08:10.228Z"
   },
   {
    "duration": 24,
    "start_time": "2021-11-14T08:08:10.285Z"
   },
   {
    "duration": 18,
    "start_time": "2021-11-14T08:08:10.311Z"
   },
   {
    "duration": 49,
    "start_time": "2021-11-14T08:08:10.332Z"
   },
   {
    "duration": 14,
    "start_time": "2021-11-14T08:08:10.384Z"
   },
   {
    "duration": 10,
    "start_time": "2021-11-14T08:08:10.401Z"
   },
   {
    "duration": 47,
    "start_time": "2021-11-14T08:08:10.414Z"
   },
   {
    "duration": 32,
    "start_time": "2021-11-14T08:08:10.465Z"
   },
   {
    "duration": 6,
    "start_time": "2021-11-14T08:08:10.500Z"
   },
   {
    "duration": 18,
    "start_time": "2021-11-14T08:08:10.509Z"
   },
   {
    "duration": 49,
    "start_time": "2021-11-14T08:08:10.530Z"
   },
   {
    "duration": 208,
    "start_time": "2021-11-14T08:08:10.581Z"
   },
   {
    "duration": 6,
    "start_time": "2021-11-14T08:08:10.792Z"
   },
   {
    "duration": 12,
    "start_time": "2021-11-14T08:08:10.800Z"
   },
   {
    "duration": 8,
    "start_time": "2021-11-14T08:08:10.814Z"
   },
   {
    "duration": 465,
    "start_time": "2021-11-14T08:08:10.824Z"
   },
   {
    "duration": 10,
    "start_time": "2021-11-14T08:08:11.292Z"
   },
   {
    "duration": 26,
    "start_time": "2021-11-14T08:08:11.304Z"
   },
   {
    "duration": 518,
    "start_time": "2021-11-14T08:08:11.332Z"
   },
   {
    "duration": 16,
    "start_time": "2021-11-14T08:08:11.852Z"
   },
   {
    "duration": 4349,
    "start_time": "2021-11-14T08:08:11.872Z"
   },
   {
    "duration": 1797,
    "start_time": "2021-11-14T08:08:16.223Z"
   },
   {
    "duration": 401,
    "start_time": "2021-11-14T08:08:18.023Z"
   },
   {
    "duration": 10,
    "start_time": "2021-11-14T08:08:18.427Z"
   },
   {
    "duration": 20,
    "start_time": "2021-11-14T08:08:18.439Z"
   },
   {
    "duration": 15,
    "start_time": "2021-11-14T08:08:18.463Z"
   },
   {
    "duration": 8,
    "start_time": "2021-11-14T08:08:18.481Z"
   },
   {
    "duration": 4,
    "start_time": "2021-11-14T08:08:18.496Z"
   },
   {
    "duration": 8,
    "start_time": "2021-11-14T08:08:18.503Z"
   },
   {
    "duration": 4,
    "start_time": "2021-11-14T08:08:18.514Z"
   },
   {
    "duration": 12,
    "start_time": "2021-11-14T08:08:18.564Z"
   },
   {
    "duration": 7,
    "start_time": "2021-11-14T08:08:18.579Z"
   },
   {
    "duration": 7,
    "start_time": "2021-11-14T08:08:18.589Z"
   },
   {
    "duration": 4,
    "start_time": "2021-11-14T08:08:18.599Z"
   },
   {
    "duration": 65,
    "start_time": "2021-11-14T08:08:18.606Z"
   },
   {
    "duration": 20,
    "start_time": "2021-11-14T08:08:18.674Z"
   },
   {
    "duration": 10,
    "start_time": "2021-11-14T08:08:18.696Z"
   },
   {
    "duration": 7,
    "start_time": "2021-11-14T08:08:18.709Z"
   },
   {
    "duration": 9,
    "start_time": "2021-11-14T08:08:18.719Z"
   },
   {
    "duration": 28,
    "start_time": "2021-11-14T08:08:18.731Z"
   },
   {
    "duration": 1575,
    "start_time": "2021-11-14T08:51:08.079Z"
   },
   {
    "duration": 436,
    "start_time": "2021-11-14T08:51:09.657Z"
   },
   {
    "duration": 22,
    "start_time": "2021-11-14T08:51:10.096Z"
   },
   {
    "duration": 16,
    "start_time": "2021-11-14T08:51:10.121Z"
   },
   {
    "duration": 43,
    "start_time": "2021-11-14T08:51:10.140Z"
   },
   {
    "duration": 9,
    "start_time": "2021-11-14T08:51:10.186Z"
   },
   {
    "duration": 22,
    "start_time": "2021-11-14T08:51:10.198Z"
   },
   {
    "duration": 50,
    "start_time": "2021-11-14T08:51:10.222Z"
   },
   {
    "duration": 20,
    "start_time": "2021-11-14T08:51:10.278Z"
   },
   {
    "duration": 32,
    "start_time": "2021-11-14T08:51:10.302Z"
   },
   {
    "duration": 18,
    "start_time": "2021-11-14T08:51:10.358Z"
   },
   {
    "duration": 30,
    "start_time": "2021-11-14T08:51:10.380Z"
   },
   {
    "duration": 12,
    "start_time": "2021-11-14T08:51:10.412Z"
   },
   {
    "duration": 10,
    "start_time": "2021-11-14T08:51:10.426Z"
   },
   {
    "duration": 21,
    "start_time": "2021-11-14T08:51:10.458Z"
   },
   {
    "duration": 26,
    "start_time": "2021-11-14T08:51:10.481Z"
   },
   {
    "duration": 8,
    "start_time": "2021-11-14T08:51:10.510Z"
   },
   {
    "duration": 17,
    "start_time": "2021-11-14T08:51:10.521Z"
   },
   {
    "duration": 8,
    "start_time": "2021-11-14T08:51:10.560Z"
   },
   {
    "duration": 35,
    "start_time": "2021-11-14T08:51:10.571Z"
   },
   {
    "duration": 18,
    "start_time": "2021-11-14T08:51:10.609Z"
   },
   {
    "duration": 38,
    "start_time": "2021-11-14T08:51:10.630Z"
   },
   {
    "duration": 13,
    "start_time": "2021-11-14T08:51:10.672Z"
   },
   {
    "duration": 10,
    "start_time": "2021-11-14T08:51:10.687Z"
   },
   {
    "duration": 11,
    "start_time": "2021-11-14T08:51:10.700Z"
   },
   {
    "duration": 78,
    "start_time": "2021-11-14T08:51:10.714Z"
   },
   {
    "duration": 11,
    "start_time": "2021-11-14T08:51:10.800Z"
   },
   {
    "duration": 23,
    "start_time": "2021-11-14T08:51:10.815Z"
   },
   {
    "duration": 64,
    "start_time": "2021-11-14T08:51:10.866Z"
   },
   {
    "duration": 158,
    "start_time": "2021-11-14T08:51:10.933Z"
   },
   {
    "duration": 136,
    "start_time": "2021-11-14T08:51:11.094Z"
   },
   {
    "duration": 10,
    "start_time": "2021-11-14T08:51:11.233Z"
   },
   {
    "duration": 29,
    "start_time": "2021-11-14T08:51:11.246Z"
   },
   {
    "duration": 9,
    "start_time": "2021-11-14T08:51:11.284Z"
   },
   {
    "duration": 26,
    "start_time": "2021-11-14T08:51:11.296Z"
   },
   {
    "duration": 11,
    "start_time": "2021-11-14T08:51:11.325Z"
   },
   {
    "duration": 21,
    "start_time": "2021-11-14T08:51:11.339Z"
   },
   {
    "duration": 33,
    "start_time": "2021-11-14T08:51:11.363Z"
   },
   {
    "duration": 33,
    "start_time": "2021-11-14T08:51:11.400Z"
   },
   {
    "duration": 6,
    "start_time": "2021-11-14T08:51:11.436Z"
   },
   {
    "duration": 34,
    "start_time": "2021-11-14T08:51:11.465Z"
   },
   {
    "duration": 26,
    "start_time": "2021-11-14T08:51:11.501Z"
   },
   {
    "duration": 35,
    "start_time": "2021-11-14T08:51:11.530Z"
   },
   {
    "duration": 27,
    "start_time": "2021-11-14T08:51:11.567Z"
   },
   {
    "duration": 14,
    "start_time": "2021-11-14T08:51:11.597Z"
   },
   {
    "duration": 12,
    "start_time": "2021-11-14T08:51:11.614Z"
   },
   {
    "duration": 52,
    "start_time": "2021-11-14T08:51:11.628Z"
   },
   {
    "duration": 29,
    "start_time": "2021-11-14T08:51:11.687Z"
   },
   {
    "duration": 5,
    "start_time": "2021-11-14T08:51:11.718Z"
   },
   {
    "duration": 19,
    "start_time": "2021-11-14T08:51:11.725Z"
   },
   {
    "duration": 18,
    "start_time": "2021-11-14T08:51:11.766Z"
   },
   {
    "duration": 198,
    "start_time": "2021-11-14T08:51:11.787Z"
   },
   {
    "duration": 6,
    "start_time": "2021-11-14T08:51:11.989Z"
   },
   {
    "duration": 13,
    "start_time": "2021-11-14T08:51:11.997Z"
   },
   {
    "duration": 8,
    "start_time": "2021-11-14T08:51:12.012Z"
   },
   {
    "duration": 421,
    "start_time": "2021-11-14T08:51:12.022Z"
   },
   {
    "duration": 36,
    "start_time": "2021-11-14T08:51:12.445Z"
   },
   {
    "duration": 29,
    "start_time": "2021-11-14T08:51:12.487Z"
   },
   {
    "duration": 503,
    "start_time": "2021-11-14T08:51:12.519Z"
   },
   {
    "duration": 10,
    "start_time": "2021-11-14T08:51:13.025Z"
   },
   {
    "duration": 4640,
    "start_time": "2021-11-14T08:51:13.038Z"
   },
   {
    "duration": 1883,
    "start_time": "2021-11-14T08:51:17.680Z"
   },
   {
    "duration": 440,
    "start_time": "2021-11-14T08:51:19.569Z"
   },
   {
    "duration": 9,
    "start_time": "2021-11-14T08:51:20.012Z"
   },
   {
    "duration": 22,
    "start_time": "2021-11-14T08:51:20.024Z"
   },
   {
    "duration": 45,
    "start_time": "2021-11-14T08:51:20.049Z"
   },
   {
    "duration": 22,
    "start_time": "2021-11-14T08:51:20.096Z"
   },
   {
    "duration": 13,
    "start_time": "2021-11-14T08:51:20.120Z"
   },
   {
    "duration": 21,
    "start_time": "2021-11-14T08:51:20.136Z"
   },
   {
    "duration": 45,
    "start_time": "2021-11-14T08:51:20.162Z"
   },
   {
    "duration": 19,
    "start_time": "2021-11-14T08:51:20.209Z"
   },
   {
    "duration": 16,
    "start_time": "2021-11-14T08:51:20.231Z"
   },
   {
    "duration": 46,
    "start_time": "2021-11-14T08:51:20.249Z"
   },
   {
    "duration": 18,
    "start_time": "2021-11-14T08:51:20.297Z"
   },
   {
    "duration": 16,
    "start_time": "2021-11-14T08:51:20.317Z"
   },
   {
    "duration": 20,
    "start_time": "2021-11-14T08:51:20.335Z"
   },
   {
    "duration": 32,
    "start_time": "2021-11-14T08:51:20.358Z"
   },
   {
    "duration": 10,
    "start_time": "2021-11-14T08:51:20.392Z"
   },
   {
    "duration": 6,
    "start_time": "2021-11-14T08:51:20.404Z"
   },
   {
    "duration": 8,
    "start_time": "2021-11-14T08:51:20.412Z"
   },
   {
    "duration": 1098,
    "start_time": "2021-11-14T13:04:40.227Z"
   },
   {
    "duration": 305,
    "start_time": "2021-11-14T13:04:41.327Z"
   },
   {
    "duration": 18,
    "start_time": "2021-11-14T13:04:41.634Z"
   },
   {
    "duration": 12,
    "start_time": "2021-11-14T13:04:41.654Z"
   },
   {
    "duration": 24,
    "start_time": "2021-11-14T13:04:41.668Z"
   },
   {
    "duration": 5,
    "start_time": "2021-11-14T13:04:41.694Z"
   },
   {
    "duration": 17,
    "start_time": "2021-11-14T13:04:41.701Z"
   },
   {
    "duration": 13,
    "start_time": "2021-11-14T13:04:41.720Z"
   },
   {
    "duration": 8,
    "start_time": "2021-11-14T13:04:41.735Z"
   },
   {
    "duration": 47,
    "start_time": "2021-11-14T13:04:41.744Z"
   },
   {
    "duration": 5,
    "start_time": "2021-11-14T13:04:41.793Z"
   },
   {
    "duration": 11,
    "start_time": "2021-11-14T13:04:41.799Z"
   },
   {
    "duration": 7,
    "start_time": "2021-11-14T13:04:41.812Z"
   },
   {
    "duration": 6,
    "start_time": "2021-11-14T13:04:41.820Z"
   },
   {
    "duration": 5,
    "start_time": "2021-11-14T13:04:41.828Z"
   },
   {
    "duration": 8,
    "start_time": "2021-11-14T13:04:41.835Z"
   },
   {
    "duration": 6,
    "start_time": "2021-11-14T13:04:41.844Z"
   },
   {
    "duration": 43,
    "start_time": "2021-11-14T13:04:41.852Z"
   },
   {
    "duration": 4,
    "start_time": "2021-11-14T13:04:41.897Z"
   },
   {
    "duration": 9,
    "start_time": "2021-11-14T13:04:41.902Z"
   },
   {
    "duration": 9,
    "start_time": "2021-11-14T13:04:41.913Z"
   },
   {
    "duration": 7,
    "start_time": "2021-11-14T13:04:41.924Z"
   },
   {
    "duration": 4,
    "start_time": "2021-11-14T13:04:41.935Z"
   },
   {
    "duration": 5,
    "start_time": "2021-11-14T13:04:41.942Z"
   },
   {
    "duration": 44,
    "start_time": "2021-11-14T13:04:41.948Z"
   },
   {
    "duration": 10,
    "start_time": "2021-11-14T13:04:41.993Z"
   },
   {
    "duration": 7,
    "start_time": "2021-11-14T13:04:42.005Z"
   },
   {
    "duration": 15,
    "start_time": "2021-11-14T13:04:42.014Z"
   },
   {
    "duration": 63,
    "start_time": "2021-11-14T13:04:42.030Z"
   },
   {
    "duration": 72,
    "start_time": "2021-11-14T13:04:42.095Z"
   },
   {
    "duration": 89,
    "start_time": "2021-11-14T13:04:42.169Z"
   },
   {
    "duration": 5,
    "start_time": "2021-11-14T13:04:42.260Z"
   },
   {
    "duration": 7,
    "start_time": "2021-11-14T13:04:42.267Z"
   },
   {
    "duration": 3,
    "start_time": "2021-11-14T13:04:42.292Z"
   },
   {
    "duration": 18,
    "start_time": "2021-11-14T13:04:42.297Z"
   },
   {
    "duration": 10,
    "start_time": "2021-11-14T13:04:42.317Z"
   },
   {
    "duration": 6,
    "start_time": "2021-11-14T13:04:42.328Z"
   },
   {
    "duration": 8,
    "start_time": "2021-11-14T13:04:42.336Z"
   },
   {
    "duration": 21,
    "start_time": "2021-11-14T13:04:42.345Z"
   },
   {
    "duration": 24,
    "start_time": "2021-11-14T13:04:42.367Z"
   },
   {
    "duration": 10,
    "start_time": "2021-11-14T13:04:42.393Z"
   },
   {
    "duration": 19,
    "start_time": "2021-11-14T13:04:42.404Z"
   },
   {
    "duration": 11,
    "start_time": "2021-11-14T13:04:42.424Z"
   },
   {
    "duration": 16,
    "start_time": "2021-11-14T13:04:42.436Z"
   },
   {
    "duration": 9,
    "start_time": "2021-11-14T13:04:42.453Z"
   },
   {
    "duration": 32,
    "start_time": "2021-11-14T13:04:42.463Z"
   },
   {
    "duration": 10,
    "start_time": "2021-11-14T13:04:42.496Z"
   },
   {
    "duration": 14,
    "start_time": "2021-11-14T13:04:42.508Z"
   },
   {
    "duration": 4,
    "start_time": "2021-11-14T13:04:42.524Z"
   },
   {
    "duration": 12,
    "start_time": "2021-11-14T13:04:42.529Z"
   },
   {
    "duration": 9,
    "start_time": "2021-11-14T13:04:42.542Z"
   },
   {
    "duration": 123,
    "start_time": "2021-11-14T13:04:42.552Z"
   },
   {
    "duration": 4,
    "start_time": "2021-11-14T13:04:42.677Z"
   },
   {
    "duration": 14,
    "start_time": "2021-11-14T13:04:42.682Z"
   },
   {
    "duration": 6,
    "start_time": "2021-11-14T13:04:42.697Z"
   },
   {
    "duration": 205,
    "start_time": "2021-11-14T13:04:42.704Z"
   },
   {
    "duration": 7,
    "start_time": "2021-11-14T13:04:42.910Z"
   },
   {
    "duration": 20,
    "start_time": "2021-11-14T13:04:42.918Z"
   },
   {
    "duration": 292,
    "start_time": "2021-11-14T13:04:42.939Z"
   },
   {
    "duration": 7,
    "start_time": "2021-11-14T13:04:43.233Z"
   },
   {
    "duration": 2527,
    "start_time": "2021-11-14T13:04:43.241Z"
   },
   {
    "duration": 1213,
    "start_time": "2021-11-14T13:04:45.769Z"
   },
   {
    "duration": 236,
    "start_time": "2021-11-14T13:04:46.983Z"
   },
   {
    "duration": 7,
    "start_time": "2021-11-14T13:04:47.221Z"
   },
   {
    "duration": 11,
    "start_time": "2021-11-14T13:04:47.230Z"
   },
   {
    "duration": 17,
    "start_time": "2021-11-14T13:04:47.242Z"
   },
   {
    "duration": 12,
    "start_time": "2021-11-14T13:04:47.261Z"
   },
   {
    "duration": 9,
    "start_time": "2021-11-14T13:04:47.277Z"
   },
   {
    "duration": 22,
    "start_time": "2021-11-14T13:04:47.287Z"
   },
   {
    "duration": 16,
    "start_time": "2021-11-14T13:04:47.310Z"
   },
   {
    "duration": 13,
    "start_time": "2021-11-14T13:04:47.328Z"
   },
   {
    "duration": 15,
    "start_time": "2021-11-14T13:04:47.342Z"
   },
   {
    "duration": 7,
    "start_time": "2021-11-14T13:04:47.359Z"
   },
   {
    "duration": 6,
    "start_time": "2021-11-14T13:04:47.367Z"
   },
   {
    "duration": 9,
    "start_time": "2021-11-14T13:04:47.374Z"
   },
   {
    "duration": 9,
    "start_time": "2021-11-14T13:04:47.384Z"
   },
   {
    "duration": 9,
    "start_time": "2021-11-14T13:04:47.395Z"
   },
   {
    "duration": 8,
    "start_time": "2021-11-14T13:04:47.406Z"
   },
   {
    "duration": 10,
    "start_time": "2021-11-14T13:04:47.415Z"
   },
   {
    "duration": 9,
    "start_time": "2021-11-14T13:04:47.426Z"
   },
   {
    "duration": 1107,
    "start_time": "2021-11-20T20:09:41.016Z"
   }
  ],
  "kernelspec": {
   "display_name": "Python 3 (ipykernel)",
   "language": "python",
   "name": "python3"
  },
  "language_info": {
   "codemirror_mode": {
    "name": "ipython",
    "version": 3
   },
   "file_extension": ".py",
   "mimetype": "text/x-python",
   "name": "python",
   "nbconvert_exporter": "python",
   "pygments_lexer": "ipython3",
   "version": "3.9.12"
  },
  "toc": {
   "base_numbering": 1,
   "nav_menu": {},
   "number_sections": true,
   "sideBar": true,
   "skip_h1_title": true,
   "title_cell": "Table of Contents",
   "title_sidebar": "Contents",
   "toc_cell": false,
   "toc_position": {},
   "toc_section_display": true,
   "toc_window_display": false
  }
 },
 "nbformat": 4,
 "nbformat_minor": 2
}
